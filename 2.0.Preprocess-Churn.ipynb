{
 "cells": [
  {
   "cell_type": "markdown",
   "metadata": {},
   "source": [
    "# [Module 2.0] 데이타 전처리 하여 Feature 생성\n",
    "\n"
   ]
  },
  {
   "cell_type": "markdown",
   "metadata": {},
   "source": [
    "Next, we'll import the Python libraries we'll need for the remainder of the exercise."
   ]
  },
  {
   "cell_type": "code",
   "execution_count": 3,
   "metadata": {},
   "outputs": [],
   "source": [
    "import pandas as pd\n",
    "import numpy as np\n",
    "import matplotlib.pyplot as plt\n",
    "import io\n",
    "import os\n",
    "import sys\n",
    "import time\n",
    "import json\n",
    "from IPython.display import display\n",
    "from time import strftime, gmtime\n",
    "import sagemaker\n",
    "from sagemaker.predictor import csv_serializer"
   ]
  },
  {
   "cell_type": "markdown",
   "metadata": {},
   "source": [
    "# Preprocessing data <a class=\"anchor\" id=\"Pre-processing\"></a>"
   ]
  },
  {
   "cell_type": "markdown",
   "metadata": {},
   "source": [
    "We need to do typical preprocessing tasks, including cleaning, feature transformation, feature selection on input data before train the prediction model. For example:  \n",
    "- `Phone` takes on too many unique values to be of any practical use. It's possible parsing out the prefix could have some value, but without more context on how these are allocated, we should avoid using it.\n",
    "- `Area Code` showing up as a feature we should convert to non-numeric.\n",
    "- If we dig into features and run correlaiton analysis, we see several features that essentially have high correlation with one another. Including these feature pairs in some machine learning algorithms can create catastrophic problems, while in others it will only introduce minor redundancy and bias. We should remove one feature from each of the highly correlated pairs.\n",
    "\n",
    "We will use Amazon SageMaker built-in Scikit-learn library for preprocessing (and also postprocessing), and then use the Amazon SageMaker built-in XGboost algorithm for predictions. We’ll deploy both the library and the algorithm on the same endpoint using the Amazon SageMaker Inference Pipelines feature so you can pass raw input data directly to Amazon SageMaker. We’ll also reuse the preprocessing code between training and inference to reduce development overhead and errors.\n",
    "\n",
    "To run Scikit-learn on Sagemaker `SKLearn` Estimator with a script as an entry point. The training script is very similar to a training script you might run outside of SageMaker. Also, as this data set is pretty small in term of size, we use the 'local' mode for preprocessing and upload the transformer and transformed data into S3."
   ]
  },
  {
   "cell_type": "code",
   "execution_count": 14,
   "metadata": {},
   "outputs": [],
   "source": [
    "%store -r"
   ]
  },
  {
   "cell_type": "markdown",
   "metadata": {},
   "source": [
    "## Preprocessing Model 생성 Local Test"
   ]
  },
  {
   "cell_type": "code",
   "execution_count": 20,
   "metadata": {
    "collapsed": true,
    "jupyter": {
     "outputs_hidden": true
    }
   },
   "outputs": [
    {
     "name": "stdout",
     "output_type": "stream",
     "text": [
      "Creating tmpi91nxvib_algo-1-epjoa_1 ... \n",
      "\u001b[1BAttaching to tmpi91nxvib_algo-1-epjoa_12mdone\u001b[0m\n",
      "\u001b[36malgo-1-epjoa_1  |\u001b[0m 2020-07-15 06:33:46,793 sagemaker-containers INFO     Imported framework sagemaker_sklearn_container.training\n",
      "\u001b[36malgo-1-epjoa_1  |\u001b[0m 2020-07-15 06:33:46,796 sagemaker-containers INFO     No GPUs detected (normal if no gpus installed)\n",
      "\u001b[36malgo-1-epjoa_1  |\u001b[0m 2020-07-15 06:33:46,804 sagemaker_sklearn_container.training INFO     Invoking user training script.\n",
      "\u001b[36malgo-1-epjoa_1  |\u001b[0m 2020-07-15 06:33:46,906 sagemaker-containers INFO     Module preprocessing does not provide a setup.py. \n",
      "\u001b[36malgo-1-epjoa_1  |\u001b[0m Generating setup.py\n",
      "\u001b[36malgo-1-epjoa_1  |\u001b[0m 2020-07-15 06:33:46,906 sagemaker-containers INFO     Generating setup.cfg\n",
      "\u001b[36malgo-1-epjoa_1  |\u001b[0m 2020-07-15 06:33:46,906 sagemaker-containers INFO     Generating MANIFEST.in\n",
      "\u001b[36malgo-1-epjoa_1  |\u001b[0m 2020-07-15 06:33:46,906 sagemaker-containers INFO     Installing module with the following command:\n",
      "\u001b[36malgo-1-epjoa_1  |\u001b[0m /miniconda3/bin/python -m pip install . \n",
      "\u001b[36malgo-1-epjoa_1  |\u001b[0m Processing /opt/ml/code\n",
      "\u001b[36malgo-1-epjoa_1  |\u001b[0m Building wheels for collected packages: preprocessing\n",
      "\u001b[36malgo-1-epjoa_1  |\u001b[0m   Building wheel for preprocessing (setup.py) ... \u001b[?25ldone\n",
      "\u001b[36malgo-1-epjoa_1  |\u001b[0m \u001b[?25h  Created wheel for preprocessing: filename=preprocessing-1.0.0-py2.py3-none-any.whl size=9705 sha256=9d5af39ab486d887ff7aa8449e6f93b4e62fd7b208b1776191645f553e691c77\n",
      "\u001b[36malgo-1-epjoa_1  |\u001b[0m   Stored in directory: /tmp/pip-ephem-wheel-cache-ineyt4xg/wheels/35/24/16/37574d11bf9bde50616c67372a334f94fa8356bc7164af8ca3\n",
      "\u001b[36malgo-1-epjoa_1  |\u001b[0m Successfully built preprocessing\n",
      "\u001b[36malgo-1-epjoa_1  |\u001b[0m Installing collected packages: preprocessing\n",
      "\u001b[36malgo-1-epjoa_1  |\u001b[0m Successfully installed preprocessing-1.0.0\n",
      "\u001b[36malgo-1-epjoa_1  |\u001b[0m 2020-07-15 06:33:47,825 sagemaker-containers INFO     No GPUs detected (normal if no gpus installed)\n",
      "\u001b[36malgo-1-epjoa_1  |\u001b[0m 2020-07-15 06:33:47,834 sagemaker-containers INFO     Invoking user script\n",
      "\u001b[36malgo-1-epjoa_1  |\u001b[0m \n",
      "\u001b[36malgo-1-epjoa_1  |\u001b[0m Training Env:\n",
      "\u001b[36malgo-1-epjoa_1  |\u001b[0m \n",
      "\u001b[36malgo-1-epjoa_1  |\u001b[0m {\n",
      "\u001b[36malgo-1-epjoa_1  |\u001b[0m     \"additional_framework_parameters\": {},\n",
      "\u001b[36malgo-1-epjoa_1  |\u001b[0m     \"channel_input_dirs\": {\n",
      "\u001b[36malgo-1-epjoa_1  |\u001b[0m         \"train\": \"/opt/ml/input/data/train\"\n",
      "\u001b[36malgo-1-epjoa_1  |\u001b[0m     },\n",
      "\u001b[36malgo-1-epjoa_1  |\u001b[0m     \"current_host\": \"algo-1-epjoa\",\n",
      "\u001b[36malgo-1-epjoa_1  |\u001b[0m     \"framework_module\": \"sagemaker_sklearn_container.training:main\",\n",
      "\u001b[36malgo-1-epjoa_1  |\u001b[0m     \"hosts\": [\n",
      "\u001b[36malgo-1-epjoa_1  |\u001b[0m         \"algo-1-epjoa\"\n",
      "\u001b[36malgo-1-epjoa_1  |\u001b[0m     ],\n",
      "\u001b[36malgo-1-epjoa_1  |\u001b[0m     \"hyperparameters\": {},\n",
      "\u001b[36malgo-1-epjoa_1  |\u001b[0m     \"input_config_dir\": \"/opt/ml/input/config\",\n",
      "\u001b[36malgo-1-epjoa_1  |\u001b[0m     \"input_data_config\": {\n",
      "\u001b[36malgo-1-epjoa_1  |\u001b[0m         \"train\": {\n",
      "\u001b[36malgo-1-epjoa_1  |\u001b[0m             \"TrainingInputMode\": \"File\",\n",
      "\u001b[36malgo-1-epjoa_1  |\u001b[0m             \"ContentType\": \"csv\"\n",
      "\u001b[36malgo-1-epjoa_1  |\u001b[0m         }\n",
      "\u001b[36malgo-1-epjoa_1  |\u001b[0m     },\n",
      "\u001b[36malgo-1-epjoa_1  |\u001b[0m     \"input_dir\": \"/opt/ml/input\",\n",
      "\u001b[36malgo-1-epjoa_1  |\u001b[0m     \"is_master\": true,\n",
      "\u001b[36malgo-1-epjoa_1  |\u001b[0m     \"job_name\": \"sagemaker-scikit-learn-2020-07-15-06-33-44-815\",\n",
      "\u001b[36malgo-1-epjoa_1  |\u001b[0m     \"log_level\": 20,\n",
      "\u001b[36malgo-1-epjoa_1  |\u001b[0m     \"master_hostname\": \"algo-1-epjoa\",\n",
      "\u001b[36malgo-1-epjoa_1  |\u001b[0m     \"model_dir\": \"/opt/ml/model\",\n",
      "\u001b[36malgo-1-epjoa_1  |\u001b[0m     \"module_dir\": \"s3://sagemaker-us-east-2-057716757052/sagemaker-scikit-learn-2020-07-15-06-33-44-815/source/sourcedir.tar.gz\",\n",
      "\u001b[36malgo-1-epjoa_1  |\u001b[0m     \"module_name\": \"preprocessing\",\n",
      "\u001b[36malgo-1-epjoa_1  |\u001b[0m     \"network_interface_name\": \"eth0\",\n",
      "\u001b[36malgo-1-epjoa_1  |\u001b[0m     \"num_cpus\": 16,\n",
      "\u001b[36malgo-1-epjoa_1  |\u001b[0m     \"num_gpus\": 0,\n",
      "\u001b[36malgo-1-epjoa_1  |\u001b[0m     \"output_data_dir\": \"/opt/ml/output/data\",\n",
      "\u001b[36malgo-1-epjoa_1  |\u001b[0m     \"output_dir\": \"/opt/ml/output\",\n",
      "\u001b[36malgo-1-epjoa_1  |\u001b[0m     \"output_intermediate_dir\": \"/opt/ml/output/intermediate\",\n",
      "\u001b[36malgo-1-epjoa_1  |\u001b[0m     \"resource_config\": {\n",
      "\u001b[36malgo-1-epjoa_1  |\u001b[0m         \"current_host\": \"algo-1-epjoa\",\n",
      "\u001b[36malgo-1-epjoa_1  |\u001b[0m         \"hosts\": [\n",
      "\u001b[36malgo-1-epjoa_1  |\u001b[0m             \"algo-1-epjoa\"\n",
      "\u001b[36malgo-1-epjoa_1  |\u001b[0m         ]\n",
      "\u001b[36malgo-1-epjoa_1  |\u001b[0m     },\n",
      "\u001b[36malgo-1-epjoa_1  |\u001b[0m     \"user_entry_point\": \"preprocessing.py\"\n",
      "\u001b[36malgo-1-epjoa_1  |\u001b[0m }\n",
      "\u001b[36malgo-1-epjoa_1  |\u001b[0m \n",
      "\u001b[36malgo-1-epjoa_1  |\u001b[0m Environment variables:\n",
      "\u001b[36malgo-1-epjoa_1  |\u001b[0m \n",
      "\u001b[36malgo-1-epjoa_1  |\u001b[0m SM_HOSTS=[\"algo-1-epjoa\"]\n",
      "\u001b[36malgo-1-epjoa_1  |\u001b[0m SM_NETWORK_INTERFACE_NAME=eth0\n",
      "\u001b[36malgo-1-epjoa_1  |\u001b[0m SM_HPS={}\n",
      "\u001b[36malgo-1-epjoa_1  |\u001b[0m SM_USER_ENTRY_POINT=preprocessing.py\n",
      "\u001b[36malgo-1-epjoa_1  |\u001b[0m SM_FRAMEWORK_PARAMS={}\n",
      "\u001b[36malgo-1-epjoa_1  |\u001b[0m SM_RESOURCE_CONFIG={\"current_host\":\"algo-1-epjoa\",\"hosts\":[\"algo-1-epjoa\"]}\n",
      "\u001b[36malgo-1-epjoa_1  |\u001b[0m SM_INPUT_DATA_CONFIG={\"train\":{\"ContentType\":\"csv\",\"TrainingInputMode\":\"File\"}}\n",
      "\u001b[36malgo-1-epjoa_1  |\u001b[0m SM_OUTPUT_DATA_DIR=/opt/ml/output/data\n",
      "\u001b[36malgo-1-epjoa_1  |\u001b[0m SM_CHANNELS=[\"train\"]\n",
      "\u001b[36malgo-1-epjoa_1  |\u001b[0m SM_CURRENT_HOST=algo-1-epjoa\n",
      "\u001b[36malgo-1-epjoa_1  |\u001b[0m SM_MODULE_NAME=preprocessing\n",
      "\u001b[36malgo-1-epjoa_1  |\u001b[0m SM_LOG_LEVEL=20\n",
      "\u001b[36malgo-1-epjoa_1  |\u001b[0m SM_FRAMEWORK_MODULE=sagemaker_sklearn_container.training:main\n",
      "\u001b[36malgo-1-epjoa_1  |\u001b[0m SM_INPUT_DIR=/opt/ml/input\n",
      "\u001b[36malgo-1-epjoa_1  |\u001b[0m SM_INPUT_CONFIG_DIR=/opt/ml/input/config\n",
      "\u001b[36malgo-1-epjoa_1  |\u001b[0m SM_OUTPUT_DIR=/opt/ml/output\n",
      "\u001b[36malgo-1-epjoa_1  |\u001b[0m SM_NUM_CPUS=16\n",
      "\u001b[36malgo-1-epjoa_1  |\u001b[0m SM_NUM_GPUS=0\n",
      "\u001b[36malgo-1-epjoa_1  |\u001b[0m SM_MODEL_DIR=/opt/ml/model\n",
      "\u001b[36malgo-1-epjoa_1  |\u001b[0m SM_MODULE_DIR=s3://sagemaker-us-east-2-057716757052/sagemaker-scikit-learn-2020-07-15-06-33-44-815/source/sourcedir.tar.gz\n",
      "\u001b[36malgo-1-epjoa_1  |\u001b[0m SM_TRAINING_ENV={\"additional_framework_parameters\":{},\"channel_input_dirs\":{\"train\":\"/opt/ml/input/data/train\"},\"current_host\":\"algo-1-epjoa\",\"framework_module\":\"sagemaker_sklearn_container.training:main\",\"hosts\":[\"algo-1-epjoa\"],\"hyperparameters\":{},\"input_config_dir\":\"/opt/ml/input/config\",\"input_data_config\":{\"train\":{\"ContentType\":\"csv\",\"TrainingInputMode\":\"File\"}},\"input_dir\":\"/opt/ml/input\",\"is_master\":true,\"job_name\":\"sagemaker-scikit-learn-2020-07-15-06-33-44-815\",\"log_level\":20,\"master_hostname\":\"algo-1-epjoa\",\"model_dir\":\"/opt/ml/model\",\"module_dir\":\"s3://sagemaker-us-east-2-057716757052/sagemaker-scikit-learn-2020-07-15-06-33-44-815/source/sourcedir.tar.gz\",\"module_name\":\"preprocessing\",\"network_interface_name\":\"eth0\",\"num_cpus\":16,\"num_gpus\":0,\"output_data_dir\":\"/opt/ml/output/data\",\"output_dir\":\"/opt/ml/output\",\"output_intermediate_dir\":\"/opt/ml/output/intermediate\",\"resource_config\":{\"current_host\":\"algo-1-epjoa\",\"hosts\":[\"algo-1-epjoa\"]},\"user_entry_point\":\"preprocessing.py\"}\n",
      "\u001b[36malgo-1-epjoa_1  |\u001b[0m SM_USER_ARGS=[]\n",
      "\u001b[36malgo-1-epjoa_1  |\u001b[0m SM_OUTPUT_INTERMEDIATE_DIR=/opt/ml/output/intermediate\n",
      "\u001b[36malgo-1-epjoa_1  |\u001b[0m SM_CHANNEL_TRAIN=/opt/ml/input/data/train\n",
      "\u001b[36malgo-1-epjoa_1  |\u001b[0m PYTHONPATH=/miniconda3/bin:/miniconda3/lib/python37.zip:/miniconda3/lib/python3.7:/miniconda3/lib/python3.7/lib-dynload:/miniconda3/lib/python3.7/site-packages\n",
      "\u001b[36malgo-1-epjoa_1  |\u001b[0m \n",
      "\u001b[36malgo-1-epjoa_1  |\u001b[0m Invoking script with the following command:\n",
      "\u001b[36malgo-1-epjoa_1  |\u001b[0m \n",
      "\u001b[36malgo-1-epjoa_1  |\u001b[0m /miniconda3/bin/python -m preprocessing\n",
      "\u001b[36malgo-1-epjoa_1  |\u001b[0m \n",
      "\u001b[36malgo-1-epjoa_1  |\u001b[0m \n",
      "\u001b[36malgo-1-epjoa_1  |\u001b[0m /miniconda3/lib/python3.7/site-packages/sklearn/externals/joblib/externals/cloudpickle/cloudpickle.py:47: DeprecationWarning: the imp module is deprecated in favour of importlib; see the module's documentation for alternative uses\n",
      "\u001b[36malgo-1-epjoa_1  |\u001b[0m   import imp\n",
      "\u001b[36malgo-1-epjoa_1  |\u001b[0m saved model!\n",
      "\u001b[36malgo-1-epjoa_1  |\u001b[0m 2020-07-15 06:33:48,691 sagemaker-containers INFO     Reporting training SUCCESS\n",
      "\u001b[36mtmpi91nxvib_algo-1-epjoa_1 exited with code 0\n",
      "\u001b[0mAborting on container exit...\n",
      "===== Job Complete =====\n"
     ]
    }
   ],
   "source": [
    "from sagemaker.sklearn.estimator import SKLearn\n",
    "sagemaker_session = sagemaker.Session()\n",
    "from sagemaker import get_execution_role\n",
    "\n",
    "role = get_execution_role()\n",
    "\n",
    "script_path = 'preprocessing.py'\n",
    "\n",
    "sklearn_preprocessor = SKLearn(\n",
    "    entry_point=script_path,\n",
    "    role=role,\n",
    "    train_instance_type=\"local\")\n",
    "sklearn_preprocessor.fit({'train': s3_input_train})"
   ]
  },
  {
   "cell_type": "markdown",
   "metadata": {},
   "source": [
    "### Preparing the training and validation dataset <a class=\"anchor\" id=\"preprocess_train_data\"></a>\n",
    "Now that our proprocessor is properly fitted, let's go ahead and preprocess our training and validation data. Let's use batch transform to directly preprocess the raw data and store right back into s3."
   ]
  },
  {
   "cell_type": "markdown",
   "metadata": {},
   "source": [
    "### Preprocessed training data (Feature) 만들기"
   ]
  },
  {
   "cell_type": "code",
   "execution_count": 22,
   "metadata": {
    "collapsed": true,
    "jupyter": {
     "outputs_hidden": true
    }
   },
   "outputs": [
    {
     "name": "stdout",
     "output_type": "stream",
     "text": [
      "Attaching to tmpczieq7o9_algo-1-1w69h_1\n",
      "\u001b[36malgo-1-1w69h_1  |\u001b[0m Processing /opt/ml/code\n",
      "\u001b[36malgo-1-1w69h_1  |\u001b[0m Building wheels for collected packages: preprocessing\n",
      "\u001b[36malgo-1-1w69h_1  |\u001b[0m   Building wheel for preprocessing (setup.py) ... \u001b[?25ldone\n",
      "\u001b[36malgo-1-1w69h_1  |\u001b[0m \u001b[?25h  Created wheel for preprocessing: filename=preprocessing-1.0.0-py2.py3-none-any.whl size=9702 sha256=ba9f0d1060aef8afbb200ae46c3a344d76e94a28fb5fbea6d68ceee6563809f5\n",
      "\u001b[36malgo-1-1w69h_1  |\u001b[0m   Stored in directory: /tmp/pip-ephem-wheel-cache-b58d3pwe/wheels/35/24/16/37574d11bf9bde50616c67372a334f94fa8356bc7164af8ca3\n",
      "\u001b[36malgo-1-1w69h_1  |\u001b[0m Successfully built preprocessing\n",
      "\u001b[36malgo-1-1w69h_1  |\u001b[0m Installing collected packages: preprocessing\n",
      "\u001b[36malgo-1-1w69h_1  |\u001b[0m Successfully installed preprocessing-1.0.0\n",
      "\u001b[36malgo-1-1w69h_1  |\u001b[0m /miniconda3/lib/python3.7/site-packages/sklearn/externals/joblib/externals/cloudpickle/cloudpickle.py:47: DeprecationWarning: the imp module is deprecated in favour of importlib; see the module's documentation for alternative uses\n",
      "\u001b[36malgo-1-1w69h_1  |\u001b[0m   import imp\n",
      "\u001b[36malgo-1-1w69h_1  |\u001b[0m [2020-07-15 06:34:49 +0000] [72] [INFO] Starting gunicorn 19.9.0\n",
      "\u001b[36malgo-1-1w69h_1  |\u001b[0m [2020-07-15 06:34:49 +0000] [72] [INFO] Listening at: unix:/tmp/gunicorn.sock (72)\n",
      "\u001b[36malgo-1-1w69h_1  |\u001b[0m [2020-07-15 06:34:49 +0000] [72] [INFO] Using worker: gevent\n",
      "\u001b[36malgo-1-1w69h_1  |\u001b[0m [2020-07-15 06:34:49 +0000] [75] [INFO] Booting worker with pid: 75\n",
      "\u001b[36malgo-1-1w69h_1  |\u001b[0m [2020-07-15 06:34:49 +0000] [91] [INFO] Booting worker with pid: 91\n",
      "\u001b[36malgo-1-1w69h_1  |\u001b[0m [2020-07-15 06:34:49 +0000] [92] [INFO] Booting worker with pid: 92\n",
      "\u001b[36malgo-1-1w69h_1  |\u001b[0m [2020-07-15 06:34:49 +0000] [93] [INFO] Booting worker with pid: 93\n",
      "\u001b[36malgo-1-1w69h_1  |\u001b[0m [2020-07-15 06:34:49 +0000] [109] [INFO] Booting worker with pid: 109\n",
      "\u001b[36malgo-1-1w69h_1  |\u001b[0m [2020-07-15 06:34:49 +0000] [140] [INFO] Booting worker with pid: 140\n",
      "\u001b[36malgo-1-1w69h_1  |\u001b[0m [2020-07-15 06:34:49 +0000] [156] [INFO] Booting worker with pid: 156\n",
      "\u001b[36malgo-1-1w69h_1  |\u001b[0m [2020-07-15 06:34:49 +0000] [172] [INFO] Booting worker with pid: 172\n",
      "\u001b[36malgo-1-1w69h_1  |\u001b[0m [2020-07-15 06:34:49 +0000] [188] [INFO] Booting worker with pid: 188\n",
      "\u001b[36malgo-1-1w69h_1  |\u001b[0m [2020-07-15 06:34:49 +0000] [189] [INFO] Booting worker with pid: 189\n",
      "\u001b[36malgo-1-1w69h_1  |\u001b[0m [2020-07-15 06:34:49 +0000] [206] [INFO] Booting worker with pid: 206\n",
      "\u001b[36malgo-1-1w69h_1  |\u001b[0m [2020-07-15 06:34:49 +0000] [207] [INFO] Booting worker with pid: 207\n",
      "\u001b[36malgo-1-1w69h_1  |\u001b[0m [2020-07-15 06:34:49 +0000] [208] [INFO] Booting worker with pid: 208\n",
      "\u001b[36malgo-1-1w69h_1  |\u001b[0m [2020-07-15 06:34:49 +0000] [209] [INFO] Booting worker with pid: 209\n",
      "\u001b[36malgo-1-1w69h_1  |\u001b[0m [2020-07-15 06:34:49 +0000] [269] [INFO] Booting worker with pid: 269\n",
      "\u001b[36malgo-1-1w69h_1  |\u001b[0m [2020-07-15 06:34:49 +0000] [271] [INFO] Booting worker with pid: 271\n",
      "\u001b[36malgo-1-1w69h_1  |\u001b[0m 2020-07-15 06:34:51,067 INFO - sagemaker-containers - No GPUs detected (normal if no gpus installed)\n",
      "\u001b[36malgo-1-1w69h_1  |\u001b[0m /miniconda3/lib/python3.7/site-packages/sklearn/externals/joblib/externals/cloudpickle/cloudpickle.py:47: DeprecationWarning: the imp module is deprecated in favour of importlib; see the module's documentation for alternative uses\n",
      "\u001b[36malgo-1-1w69h_1  |\u001b[0m   import imp\n",
      "\u001b[36malgo-1-1w69h_1  |\u001b[0m 172.18.0.1 - - [15/Jul/2020:06:34:51 +0000] \"GET /ping HTTP/1.1\" 200 0 \"-\" \"-\"\n",
      "\u001b[36malgo-1-1w69h_1  |\u001b[0m 172.18.0.1 - - [15/Jul/2020:06:34:51 +0000] \"GET /execution-parameters HTTP/1.1\" 404 232 \"-\" \"-\"\n",
      "\u001b[36malgo-1-1w69h_1  |\u001b[0m 2020-07-15 06:34:51,543 INFO - sagemaker-containers - No GPUs detected (normal if no gpus installed)\n",
      "\u001b[36malgo-1-1w69h_1  |\u001b[0m /miniconda3/lib/python3.7/site-packages/sklearn/externals/joblib/externals/cloudpickle/cloudpickle.py:47: DeprecationWarning: the imp module is deprecated in favour of importlib; see the module's documentation for alternative uses\n",
      "\u001b[36malgo-1-1w69h_1  |\u001b[0m   import imp\n",
      "\u001b[36malgo-1-1w69h_1  |\u001b[0m 172.18.0.1 - - [15/Jul/2020:06:34:51 +0000] \"POST /invocations HTTP/1.1\" 200 1054525 \"-\" \"-\"\n",
      "Gracefully stopping... (press Ctrl+C again to force)\n",
      "Waiting for transform job: sagemaker-scikit-learn-2020-07-15-06-33-2020-07-15-06-34-45-905\n",
      ".s3://sagemaker-us-east-2-057716757052/sagemaker/customer-churn/transformtrain-train-output/sagemaker-scikit-learn-2020-07-15-06-33-2020-07-15-06-34-45-905\n"
     ]
    }
   ],
   "source": [
    "# Define a SKLearn Transformer from the trained SKLearn Estimator\n",
    "transform_train_output_path = 's3://{}/{}/{}/'.format(bucket, prefix, 'transformtrain-train-output')\n",
    "\n",
    "scikit_learn_inferencee_model = sklearn_preprocessor.create_model(env={'TRANSFORM_MODE': 'feature-transform'})\n",
    "transformer_train = scikit_learn_inferencee_model.transformer(\n",
    "    instance_count=1, \n",
    "    instance_type= instance_type,\n",
    "    assemble_with = 'Line',\n",
    "    output_path = transform_train_output_path,\n",
    "    accept = 'text/csv')\n",
    "\n",
    "\n",
    "# Preprocess training input\n",
    "transformer_train.transform(s3_input_train.config['DataSource']['S3DataSource']['S3Uri'], \n",
    "                            content_type='text/csv')\n",
    "print('Waiting for transform job: ' + transformer_train.latest_transform_job.job_name)\n",
    "transformer_train.wait()\n",
    "preprocessed_train_path = transformer_train.output_path + transformer_train.latest_transform_job.job_name\n",
    "print(preprocessed_train_path)"
   ]
  },
  {
   "cell_type": "code",
   "execution_count": 23,
   "metadata": {},
   "outputs": [
    {
     "name": "stdout",
     "output_type": "stream",
     "text": [
      "s3://sagemaker-us-east-2-057716757052/sagemaker/customer-churn/transformtrain-train-output/sagemaker-scikit-learn-2020-07-15-06-33-2020-07-15-06-34-45-905\n"
     ]
    }
   ],
   "source": [
    "print(preprocessed_train_path)"
   ]
  },
  {
   "cell_type": "markdown",
   "metadata": {},
   "source": [
    "### Preprocessed Validation data (Feature) 만들기"
   ]
  },
  {
   "cell_type": "code",
   "execution_count": 24,
   "metadata": {
    "collapsed": true,
    "jupyter": {
     "outputs_hidden": true
    }
   },
   "outputs": [
    {
     "name": "stdout",
     "output_type": "stream",
     "text": [
      "Attaching to tmp2qr8xre8_algo-1-0zoxo_1\n",
      "\u001b[36malgo-1-0zoxo_1  |\u001b[0m Processing /opt/ml/code\n",
      "\u001b[36malgo-1-0zoxo_1  |\u001b[0m Building wheels for collected packages: preprocessing\n",
      "\u001b[36malgo-1-0zoxo_1  |\u001b[0m   Building wheel for preprocessing (setup.py) ... \u001b[?25ldone\n",
      "\u001b[36malgo-1-0zoxo_1  |\u001b[0m \u001b[?25h  Created wheel for preprocessing: filename=preprocessing-1.0.0-py2.py3-none-any.whl size=9702 sha256=3ac2e3b89fa8457c32c9d2d2b5da5bff624580d64756db38e3edcdb9a6b17e95\n",
      "\u001b[36malgo-1-0zoxo_1  |\u001b[0m   Stored in directory: /tmp/pip-ephem-wheel-cache-bttrbzky/wheels/35/24/16/37574d11bf9bde50616c67372a334f94fa8356bc7164af8ca3\n",
      "\u001b[36malgo-1-0zoxo_1  |\u001b[0m Successfully built preprocessing\n",
      "\u001b[36malgo-1-0zoxo_1  |\u001b[0m Installing collected packages: preprocessing\n",
      "\u001b[36malgo-1-0zoxo_1  |\u001b[0m Successfully installed preprocessing-1.0.0\n",
      "\u001b[36malgo-1-0zoxo_1  |\u001b[0m /miniconda3/lib/python3.7/site-packages/sklearn/externals/joblib/externals/cloudpickle/cloudpickle.py:47: DeprecationWarning: the imp module is deprecated in favour of importlib; see the module's documentation for alternative uses\n",
      "\u001b[36malgo-1-0zoxo_1  |\u001b[0m   import imp\n",
      "\u001b[36malgo-1-0zoxo_1  |\u001b[0m [2020-07-15 06:35:38 +0000] [72] [INFO] Starting gunicorn 19.9.0\n",
      "\u001b[36malgo-1-0zoxo_1  |\u001b[0m [2020-07-15 06:35:38 +0000] [72] [INFO] Listening at: unix:/tmp/gunicorn.sock (72)\n",
      "\u001b[36malgo-1-0zoxo_1  |\u001b[0m [2020-07-15 06:35:38 +0000] [72] [INFO] Using worker: gevent\n",
      "\u001b[36malgo-1-0zoxo_1  |\u001b[0m [2020-07-15 06:35:38 +0000] [75] [INFO] Booting worker with pid: 75\n",
      "\u001b[36malgo-1-0zoxo_1  |\u001b[0m [2020-07-15 06:35:38 +0000] [91] [INFO] Booting worker with pid: 91\n",
      "\u001b[36malgo-1-0zoxo_1  |\u001b[0m [2020-07-15 06:35:38 +0000] [92] [INFO] Booting worker with pid: 92\n",
      "\u001b[36malgo-1-0zoxo_1  |\u001b[0m [2020-07-15 06:35:38 +0000] [93] [INFO] Booting worker with pid: 93\n",
      "\u001b[36malgo-1-0zoxo_1  |\u001b[0m [2020-07-15 06:35:38 +0000] [109] [INFO] Booting worker with pid: 109\n",
      "\u001b[36malgo-1-0zoxo_1  |\u001b[0m [2020-07-15 06:35:38 +0000] [140] [INFO] Booting worker with pid: 140\n",
      "\u001b[36malgo-1-0zoxo_1  |\u001b[0m [2020-07-15 06:35:38 +0000] [141] [INFO] Booting worker with pid: 141\n",
      "\u001b[36malgo-1-0zoxo_1  |\u001b[0m [2020-07-15 06:35:38 +0000] [172] [INFO] Booting worker with pid: 172\n",
      "\u001b[36malgo-1-0zoxo_1  |\u001b[0m [2020-07-15 06:35:38 +0000] [188] [INFO] Booting worker with pid: 188\n",
      "\u001b[36malgo-1-0zoxo_1  |\u001b[0m [2020-07-15 06:35:38 +0000] [204] [INFO] Booting worker with pid: 204\n",
      "\u001b[36malgo-1-0zoxo_1  |\u001b[0m [2020-07-15 06:35:39 +0000] [205] [INFO] Booting worker with pid: 205\n",
      "\u001b[36malgo-1-0zoxo_1  |\u001b[0m [2020-07-15 06:35:39 +0000] [206] [INFO] Booting worker with pid: 206\n",
      "\u001b[36malgo-1-0zoxo_1  |\u001b[0m [2020-07-15 06:35:39 +0000] [208] [INFO] Booting worker with pid: 208\n",
      "\u001b[36malgo-1-0zoxo_1  |\u001b[0m [2020-07-15 06:35:39 +0000] [224] [INFO] Booting worker with pid: 224\n",
      "\u001b[36malgo-1-0zoxo_1  |\u001b[0m [2020-07-15 06:35:39 +0000] [270] [INFO] Booting worker with pid: 270\n",
      "\u001b[36malgo-1-0zoxo_1  |\u001b[0m [2020-07-15 06:35:39 +0000] [287] [INFO] Booting worker with pid: 287\n",
      "\u001b[36malgo-1-0zoxo_1  |\u001b[0m 2020-07-15 06:35:40,012 INFO - sagemaker-containers - No GPUs detected (normal if no gpus installed)\n",
      "\u001b[36malgo-1-0zoxo_1  |\u001b[0m /miniconda3/lib/python3.7/site-packages/sklearn/externals/joblib/externals/cloudpickle/cloudpickle.py:47: DeprecationWarning: the imp module is deprecated in favour of importlib; see the module's documentation for alternative uses\n",
      "\u001b[36malgo-1-0zoxo_1  |\u001b[0m   import imp\n",
      "\u001b[36malgo-1-0zoxo_1  |\u001b[0m 172.18.0.1 - - [15/Jul/2020:06:35:40 +0000] \"GET /ping HTTP/1.1\" 200 0 \"-\" \"-\"\n",
      "\u001b[36malgo-1-0zoxo_1  |\u001b[0m 172.18.0.1 - - [15/Jul/2020:06:35:40 +0000] \"GET /execution-parameters HTTP/1.1\" 404 232 \"-\" \"-\"\n",
      "\u001b[36malgo-1-0zoxo_1  |\u001b[0m 172.18.0.1 - - [15/Jul/2020:06:35:40 +0000] \"POST /invocations HTTP/1.1\" 200 300974 \"-\" \"-\"\n",
      "Gracefully stopping... (press Ctrl+C again to force)\n",
      "Waiting for transform job: sagemaker-scikit-learn-2020-07-15-06-33-2020-07-15-06-35-34-867\n",
      ".s3://sagemaker-us-east-2-057716757052/sagemaker/customer-churn/transformtrain-validation-output/sagemaker-scikit-learn-2020-07-15-06-33-2020-07-15-06-35-34-867\n"
     ]
    }
   ],
   "source": [
    "# Define a SKLearn Transformer from the trained SKLearn Estimator\n",
    "\n",
    "transform_validation_output_path = 's3://{}/{}/{}/'.format(bucket, prefix, 'transformtrain-validation-output')\n",
    "transformer_validation = scikit_learn_inferencee_model.transformer(\n",
    "    instance_count=1, \n",
    "    instance_type= instance_type,\n",
    "    assemble_with = 'Line',\n",
    "    output_path = transform_validation_output_path,\n",
    "    accept = 'text/csv')\n",
    "# Preprocess validation input\n",
    "transformer_validation.transform(s3_input_validation.config['DataSource']['S3DataSource']['S3Uri'], content_type='text/csv')\n",
    "print('Waiting for transform job: ' + transformer_validation.latest_transform_job.job_name)\n",
    "transformer_validation.wait()\n",
    "preprocessed_validation_path = transformer_validation.output_path+transformer_validation.latest_transform_job.job_name\n",
    "print(preprocessed_validation_path)\n"
   ]
  },
  {
   "cell_type": "code",
   "execution_count": 27,
   "metadata": {},
   "outputs": [
    {
     "data": {
      "text/plain": [
       "'s3://sagemaker-us-east-2-057716757052/sagemaker/customer-churn/transformtrain-validation-output/sagemaker-scikit-learn-2020-07-15-06-33-2020-07-15-06-35-34-867'"
      ]
     },
     "execution_count": 27,
     "metadata": {},
     "output_type": "execute_result"
    }
   ],
   "source": [
    "preprocessed_validation_path"
   ]
  },
  {
   "cell_type": "markdown",
   "metadata": {},
   "source": [
    "---\n",
    "## Train\n",
    "\n",
    "Moving onto training, first we'll need to specify the locations of the XGBoost algorithm containers."
   ]
  },
  {
   "cell_type": "code",
   "execution_count": 26,
   "metadata": {},
   "outputs": [
    {
     "name": "stderr",
     "output_type": "stream",
     "text": [
      "WARNING:root:There is a more up to date SageMaker XGBoost image. To use the newer image, please set 'repo_version'='0.90-2'. For example:\n",
      "\tget_image_uri(region, 'xgboost', '0.90-2').\n"
     ]
    }
   ],
   "source": [
    "import boto3\n",
    "\n",
    "from sagemaker.amazon.amazon_estimator import get_image_uri\n",
    "container = get_image_uri(boto3.Session().region_name, 'xgboost')"
   ]
  },
  {
   "cell_type": "markdown",
   "metadata": {},
   "source": [
    "Then, because we're training with the CSV file format, we'll create `s3_input`s that our training function can use as a pointer to the files in S3."
   ]
  },
  {
   "cell_type": "code",
   "execution_count": 28,
   "metadata": {},
   "outputs": [
    {
     "name": "stdout",
     "output_type": "stream",
     "text": [
      "{'DataSource': {'S3DataSource': {'S3DataType': 'S3Prefix', 'S3Uri': 's3://sagemaker-us-east-2-057716757052/sagemaker/customer-churn/transformtrain-train-output/sagemaker-scikit-learn-2020-07-15-06-33-2020-07-15-06-34-45-905', 'S3DataDistributionType': 'FullyReplicated'}}, 'ContentType': 'text/csv'}\n",
      "{'DataSource': {'S3DataSource': {'S3DataType': 'S3Prefix', 'S3Uri': 's3://sagemaker-us-east-2-057716757052/sagemaker/customer-churn/transformtrain-validation-output/sagemaker-scikit-learn-2020-07-15-06-33-2020-07-15-06-35-34-867', 'S3DataDistributionType': 'FullyReplicated'}}, 'ContentType': 'text/csv'}\n"
     ]
    }
   ],
   "source": [
    "s3_input_train_processed = sagemaker.session.s3_input(\n",
    "    preprocessed_train_path, \n",
    "    distribution='FullyReplicated',\n",
    "    content_type='text/csv', \n",
    "    s3_data_type='S3Prefix')\n",
    "print(s3_input_train_processed.config)\n",
    "s3_input_validation_processed = sagemaker.session.s3_input(\n",
    "    preprocessed_validation_path, \n",
    "    distribution='FullyReplicated',\n",
    "    content_type='text/csv', \n",
    "    s3_data_type='S3Prefix')\n",
    "print(s3_input_validation_processed.config)"
   ]
  },
  {
   "cell_type": "markdown",
   "metadata": {},
   "source": [
    "Now, we can specify a few parameters like what type of training instances we'd like to use and how many, as well as our XGBoost hyperparameters.  A few key hyperparameters are:\n",
    "- `max_depth` controls how deep each tree within the algorithm can be built.  Deeper trees can lead to better fit, but are more computationally expensive and can lead to overfitting.  There is typically some trade-off in model performance that needs to be explored between a large number of shallow trees and a smaller number of deeper trees.\n",
    "- `subsample` controls sampling of the training data.  This technique can help reduce overfitting, but setting it too low can also starve the model of data.\n",
    "- `num_round` controls the number of boosting rounds.  This is essentially the subsequent models that are trained using the residuals of previous iterations.  Again, more rounds should produce a better fit on the training data, but can be computationally expensive or lead to overfitting.\n",
    "- `eta` controls how aggressive each round of boosting is.  Larger values lead to more conservative boosting.\n",
    "- `gamma` controls how aggressively trees are grown.  Larger values lead to more conservative models.\n",
    "\n",
    "More detail on XGBoost's hyperparmeters can be found on their GitHub [page](https://github.com/dmlc/xgboost/blob/master/doc/parameter.md)."
   ]
  },
  {
   "cell_type": "code",
   "execution_count": 29,
   "metadata": {
    "collapsed": true,
    "jupyter": {
     "outputs_hidden": true
    }
   },
   "outputs": [
    {
     "name": "stdout",
     "output_type": "stream",
     "text": [
      "2020-07-15 06:37:54 Starting - Starting the training job...\n",
      "2020-07-15 06:37:56 Starting - Launching requested ML instances......\n",
      "2020-07-15 06:39:00 Starting - Preparing the instances for training...\n",
      "2020-07-15 06:39:53 Downloading - Downloading input data...\n",
      "2020-07-15 06:40:15 Training - Downloading the training image..\u001b[34mArguments: train\u001b[0m\n",
      "\u001b[34m[2020-07-15:06:40:34:INFO] Running standalone xgboost training.\u001b[0m\n",
      "\u001b[34m[2020-07-15:06:40:34:INFO] File size need to be processed in the node: 1.29mb. Available memory size in the node: 8516.39mb\u001b[0m\n",
      "\u001b[34m[2020-07-15:06:40:34:INFO] Determined delimiter of CSV input is ','\u001b[0m\n",
      "\u001b[34m[06:40:34] S3DistributionType set as FullyReplicated\u001b[0m\n",
      "\u001b[34m[06:40:34] 2333x69 matrix with 160977 entries loaded from /opt/ml/input/data/train?format=csv&label_column=0&delimiter=,\u001b[0m\n",
      "\u001b[34m[2020-07-15:06:40:34:INFO] Determined delimiter of CSV input is ','\u001b[0m\n",
      "\u001b[34m[06:40:34] S3DistributionType set as FullyReplicated\u001b[0m\n",
      "\u001b[34m[06:40:34] 666x69 matrix with 45954 entries loaded from /opt/ml/input/data/validation?format=csv&label_column=0&delimiter=,\u001b[0m\n",
      "\u001b[34m[06:40:34] src/tree/updater_prune.cc:74: tree pruning end, 1 roots, 22 extra nodes, 4 pruned nodes, max_depth=5\u001b[0m\n",
      "\u001b[34m[0]#011train-error:0.058723#011validation-error:0.088589\u001b[0m\n",
      "\u001b[34m[06:40:34] src/tree/updater_prune.cc:74: tree pruning end, 1 roots, 18 extra nodes, 4 pruned nodes, max_depth=5\u001b[0m\n",
      "\u001b[34m[1]#011train-error:0.051436#011validation-error:0.07958\u001b[0m\n",
      "\u001b[34m[06:40:34] src/tree/updater_prune.cc:74: tree pruning end, 1 roots, 22 extra nodes, 2 pruned nodes, max_depth=5\u001b[0m\n",
      "\u001b[34m[2]#011train-error:0.045864#011validation-error:0.073574\u001b[0m\n",
      "\u001b[34m[06:40:34] src/tree/updater_prune.cc:74: tree pruning end, 1 roots, 22 extra nodes, 2 pruned nodes, max_depth=5\u001b[0m\n",
      "\u001b[34m[3]#011train-error:0.046292#011validation-error:0.073574\u001b[0m\n",
      "\u001b[34m[06:40:34] src/tree/updater_prune.cc:74: tree pruning end, 1 roots, 22 extra nodes, 2 pruned nodes, max_depth=5\u001b[0m\n",
      "\u001b[34m[4]#011train-error:0.047578#011validation-error:0.072072\u001b[0m\n",
      "\u001b[34m[06:40:34] src/tree/updater_prune.cc:74: tree pruning end, 1 roots, 24 extra nodes, 2 pruned nodes, max_depth=5\u001b[0m\n",
      "\u001b[34m[5]#011train-error:0.045435#011validation-error:0.072072\u001b[0m\n",
      "\u001b[34m[06:40:34] src/tree/updater_prune.cc:74: tree pruning end, 1 roots, 20 extra nodes, 2 pruned nodes, max_depth=5\u001b[0m\n",
      "\u001b[34m[6]#011train-error:0.045006#011validation-error:0.073574\u001b[0m\n",
      "\u001b[34m[06:40:34] src/tree/updater_prune.cc:74: tree pruning end, 1 roots, 16 extra nodes, 6 pruned nodes, max_depth=5\u001b[0m\n",
      "\u001b[34m[7]#011train-error:0.043721#011validation-error:0.075075\u001b[0m\n",
      "\u001b[34m[06:40:34] src/tree/updater_prune.cc:74: tree pruning end, 1 roots, 18 extra nodes, 4 pruned nodes, max_depth=5\u001b[0m\n",
      "\u001b[34m[8]#011train-error:0.042006#011validation-error:0.072072\u001b[0m\n",
      "\u001b[34m[06:40:34] src/tree/updater_prune.cc:74: tree pruning end, 1 roots, 16 extra nodes, 16 pruned nodes, max_depth=4\u001b[0m\n",
      "\u001b[34m[9]#011train-error:0.041149#011validation-error:0.066066\u001b[0m\n",
      "\u001b[34m[06:40:34] src/tree/updater_prune.cc:74: tree pruning end, 1 roots, 14 extra nodes, 12 pruned nodes, max_depth=4\u001b[0m\n",
      "\u001b[34m[10]#011train-error:0.039006#011validation-error:0.067568\u001b[0m\n",
      "\u001b[34m[06:40:34] src/tree/updater_prune.cc:74: tree pruning end, 1 roots, 14 extra nodes, 14 pruned nodes, max_depth=4\u001b[0m\n",
      "\u001b[34m[11]#011train-error:0.038148#011validation-error:0.064565\u001b[0m\n",
      "\u001b[34m[06:40:34] src/tree/updater_prune.cc:74: tree pruning end, 1 roots, 18 extra nodes, 4 pruned nodes, max_depth=5\u001b[0m\n",
      "\u001b[34m[12]#011train-error:0.039006#011validation-error:0.067568\u001b[0m\n",
      "\u001b[34m[06:40:34] src/tree/updater_prune.cc:74: tree pruning end, 1 roots, 10 extra nodes, 8 pruned nodes, max_depth=3\u001b[0m\n",
      "\u001b[34m[13]#011train-error:0.038577#011validation-error:0.067568\u001b[0m\n",
      "\u001b[34m[06:40:34] src/tree/updater_prune.cc:74: tree pruning end, 1 roots, 14 extra nodes, 8 pruned nodes, max_depth=5\u001b[0m\n",
      "\u001b[34m[14]#011train-error:0.037291#011validation-error:0.066066\u001b[0m\n",
      "\u001b[34m[06:40:34] src/tree/updater_prune.cc:74: tree pruning end, 1 roots, 8 extra nodes, 10 pruned nodes, max_depth=3\u001b[0m\n",
      "\u001b[34m[15]#011train-error:0.037291#011validation-error:0.066066\u001b[0m\n",
      "\u001b[34m[06:40:34] src/tree/updater_prune.cc:74: tree pruning end, 1 roots, 12 extra nodes, 4 pruned nodes, max_depth=5\u001b[0m\n",
      "\u001b[34m[16]#011train-error:0.036862#011validation-error:0.067568\u001b[0m\n",
      "\u001b[34m[06:40:34] src/tree/updater_prune.cc:74: tree pruning end, 1 roots, 20 extra nodes, 0 pruned nodes, max_depth=5\u001b[0m\n",
      "\u001b[34m[17]#011train-error:0.036434#011validation-error:0.064565\u001b[0m\n",
      "\u001b[34m[06:40:34] src/tree/updater_prune.cc:74: tree pruning end, 1 roots, 10 extra nodes, 12 pruned nodes, max_depth=3\u001b[0m\n",
      "\u001b[34m[18]#011train-error:0.036005#011validation-error:0.064565\u001b[0m\n",
      "\u001b[34m[06:40:34] src/tree/updater_prune.cc:74: tree pruning end, 1 roots, 14 extra nodes, 6 pruned nodes, max_depth=5\u001b[0m\n",
      "\u001b[34m[19]#011train-error:0.034291#011validation-error:0.066066\u001b[0m\n",
      "\u001b[34m[06:40:35] src/tree/updater_prune.cc:74: tree pruning end, 1 roots, 10 extra nodes, 8 pruned nodes, max_depth=4\u001b[0m\n",
      "\u001b[34m[20]#011train-error:0.034719#011validation-error:0.066066\u001b[0m\n",
      "\u001b[34m[06:40:35] src/tree/updater_prune.cc:74: tree pruning end, 1 roots, 0 extra nodes, 16 pruned nodes, max_depth=0\u001b[0m\n",
      "\u001b[34m[21]#011train-error:0.034291#011validation-error:0.066066\u001b[0m\n",
      "\u001b[34m[06:40:35] src/tree/updater_prune.cc:74: tree pruning end, 1 roots, 6 extra nodes, 14 pruned nodes, max_depth=3\u001b[0m\n",
      "\u001b[34m[22]#011train-error:0.034291#011validation-error:0.067568\u001b[0m\n",
      "\u001b[34m[06:40:35] src/tree/updater_prune.cc:74: tree pruning end, 1 roots, 12 extra nodes, 6 pruned nodes, max_depth=4\u001b[0m\n",
      "\u001b[34m[23]#011train-error:0.032576#011validation-error:0.069069\u001b[0m\n",
      "\u001b[34m[06:40:35] src/tree/updater_prune.cc:74: tree pruning end, 1 roots, 14 extra nodes, 6 pruned nodes, max_depth=5\u001b[0m\n",
      "\u001b[34m[24]#011train-error:0.032147#011validation-error:0.069069\u001b[0m\n",
      "\u001b[34m[06:40:35] src/tree/updater_prune.cc:74: tree pruning end, 1 roots, 10 extra nodes, 8 pruned nodes, max_depth=5\u001b[0m\n",
      "\u001b[34m[25]#011train-error:0.032147#011validation-error:0.069069\u001b[0m\n",
      "\u001b[34m[06:40:35] src/tree/updater_prune.cc:74: tree pruning end, 1 roots, 10 extra nodes, 14 pruned nodes, max_depth=5\u001b[0m\n",
      "\u001b[34m[26]#011train-error:0.031719#011validation-error:0.070571\u001b[0m\n",
      "\u001b[34m[06:40:35] src/tree/updater_prune.cc:74: tree pruning end, 1 roots, 8 extra nodes, 10 pruned nodes, max_depth=4\u001b[0m\n",
      "\u001b[34m[27]#011train-error:0.030862#011validation-error:0.070571\u001b[0m\n",
      "\u001b[34m[06:40:35] src/tree/updater_prune.cc:74: tree pruning end, 1 roots, 6 extra nodes, 14 pruned nodes, max_depth=3\u001b[0m\n",
      "\u001b[34m[28]#011train-error:0.031719#011validation-error:0.069069\u001b[0m\n",
      "\u001b[34m[06:40:35] src/tree/updater_prune.cc:74: tree pruning end, 1 roots, 8 extra nodes, 10 pruned nodes, max_depth=3\u001b[0m\n",
      "\u001b[34m[29]#011train-error:0.03129#011validation-error:0.067568\u001b[0m\n",
      "\u001b[34m[06:40:35] src/tree/updater_prune.cc:74: tree pruning end, 1 roots, 0 extra nodes, 16 pruned nodes, max_depth=0\u001b[0m\n",
      "\u001b[34m[30]#011train-error:0.03129#011validation-error:0.069069\u001b[0m\n",
      "\u001b[34m[06:40:35] src/tree/updater_prune.cc:74: tree pruning end, 1 roots, 8 extra nodes, 4 pruned nodes, max_depth=4\u001b[0m\n",
      "\u001b[34m[31]#011train-error:0.030433#011validation-error:0.070571\u001b[0m\n",
      "\u001b[34m[06:40:35] src/tree/updater_prune.cc:74: tree pruning end, 1 roots, 10 extra nodes, 8 pruned nodes, max_depth=5\u001b[0m\n",
      "\u001b[34m[32]#011train-error:0.030433#011validation-error:0.070571\u001b[0m\n",
      "\u001b[34m[06:40:35] src/tree/updater_prune.cc:74: tree pruning end, 1 roots, 12 extra nodes, 8 pruned nodes, max_depth=5\u001b[0m\n",
      "\u001b[34m[33]#011train-error:0.030862#011validation-error:0.069069\u001b[0m\n",
      "\u001b[34m[06:40:35] src/tree/updater_prune.cc:74: tree pruning end, 1 roots, 0 extra nodes, 12 pruned nodes, max_depth=0\u001b[0m\n",
      "\u001b[34m[34]#011train-error:0.030862#011validation-error:0.069069\u001b[0m\n",
      "\u001b[34m[06:40:35] src/tree/updater_prune.cc:74: tree pruning end, 1 roots, 10 extra nodes, 12 pruned nodes, max_depth=5\u001b[0m\n",
      "\u001b[34m[35]#011train-error:0.030862#011validation-error:0.070571\u001b[0m\n",
      "\u001b[34m[06:40:35] src/tree/updater_prune.cc:74: tree pruning end, 1 roots, 14 extra nodes, 2 pruned nodes, max_depth=5\u001b[0m\n",
      "\u001b[34m[36]#011train-error:0.029147#011validation-error:0.067568\u001b[0m\n",
      "\u001b[34m[06:40:35] src/tree/updater_prune.cc:74: tree pruning end, 1 roots, 12 extra nodes, 6 pruned nodes, max_depth=5\u001b[0m\n",
      "\u001b[34m[37]#011train-error:0.029147#011validation-error:0.064565\u001b[0m\n",
      "\u001b[34m[06:40:35] src/tree/updater_prune.cc:74: tree pruning end, 1 roots, 0 extra nodes, 12 pruned nodes, max_depth=0\u001b[0m\n",
      "\u001b[34m[38]#011train-error:0.029147#011validation-error:0.064565\u001b[0m\n",
      "\u001b[34m[06:40:35] src/tree/updater_prune.cc:74: tree pruning end, 1 roots, 0 extra nodes, 22 pruned nodes, max_depth=0\u001b[0m\n",
      "\u001b[34m[39]#011train-error:0.029576#011validation-error:0.066066\u001b[0m\n",
      "\u001b[34m[06:40:35] src/tree/updater_prune.cc:74: tree pruning end, 1 roots, 0 extra nodes, 14 pruned nodes, max_depth=0\u001b[0m\n",
      "\u001b[34m[40]#011train-error:0.029147#011validation-error:0.066066\u001b[0m\n",
      "\u001b[34m[06:40:35] src/tree/updater_prune.cc:74: tree pruning end, 1 roots, 8 extra nodes, 12 pruned nodes, max_depth=4\u001b[0m\n",
      "\u001b[34m[41]#011train-error:0.030004#011validation-error:0.066066\u001b[0m\n",
      "\u001b[34m[06:40:35] src/tree/updater_prune.cc:74: tree pruning end, 1 roots, 6 extra nodes, 12 pruned nodes, max_depth=3\u001b[0m\n",
      "\u001b[34m[42]#011train-error:0.02829#011validation-error:0.070571\u001b[0m\n",
      "\u001b[34m[06:40:35] src/tree/updater_prune.cc:74: tree pruning end, 1 roots, 0 extra nodes, 12 pruned nodes, max_depth=0\u001b[0m\n",
      "\u001b[34m[43]#011train-error:0.02829#011validation-error:0.070571\u001b[0m\n",
      "\u001b[34m[06:40:35] src/tree/updater_prune.cc:74: tree pruning end, 1 roots, 0 extra nodes, 18 pruned nodes, max_depth=0\u001b[0m\n",
      "\u001b[34m[44]#011train-error:0.02829#011validation-error:0.070571\u001b[0m\n",
      "\u001b[34m[06:40:35] src/tree/updater_prune.cc:74: tree pruning end, 1 roots, 8 extra nodes, 14 pruned nodes, max_depth=4\u001b[0m\n",
      "\u001b[34m[45]#011train-error:0.02829#011validation-error:0.070571\u001b[0m\n",
      "\u001b[34m[06:40:35] src/tree/updater_prune.cc:74: tree pruning end, 1 roots, 8 extra nodes, 12 pruned nodes, max_depth=4\u001b[0m\n",
      "\u001b[34m[46]#011train-error:0.02829#011validation-error:0.070571\u001b[0m\n",
      "\u001b[34m[06:40:35] src/tree/updater_prune.cc:74: tree pruning end, 1 roots, 0 extra nodes, 12 pruned nodes, max_depth=0\u001b[0m\n",
      "\u001b[34m[47]#011train-error:0.02829#011validation-error:0.070571\u001b[0m\n",
      "\u001b[34m[06:40:35] src/tree/updater_prune.cc:74: tree pruning end, 1 roots, 10 extra nodes, 14 pruned nodes, max_depth=4\u001b[0m\n",
      "\u001b[34m[48]#011train-error:0.027432#011validation-error:0.069069\u001b[0m\n",
      "\u001b[34m[06:40:35] src/tree/updater_prune.cc:74: tree pruning end, 1 roots, 10 extra nodes, 6 pruned nodes, max_depth=5\u001b[0m\n",
      "\u001b[34m[49]#011train-error:0.027861#011validation-error:0.067568\u001b[0m\n",
      "\u001b[34m[06:40:35] src/tree/updater_prune.cc:74: tree pruning end, 1 roots, 0 extra nodes, 18 pruned nodes, max_depth=0\u001b[0m\n",
      "\u001b[34m[50]#011train-error:0.027432#011validation-error:0.067568\u001b[0m\n",
      "\u001b[34m[06:40:35] src/tree/updater_prune.cc:74: tree pruning end, 1 roots, 10 extra nodes, 10 pruned nodes, max_depth=4\u001b[0m\n",
      "\u001b[34m[51]#011train-error:0.027004#011validation-error:0.067568\u001b[0m\n",
      "\u001b[34m[06:40:35] src/tree/updater_prune.cc:74: tree pruning end, 1 roots, 0 extra nodes, 14 pruned nodes, max_depth=0\u001b[0m\n",
      "\u001b[34m[52]#011train-error:0.027004#011validation-error:0.067568\u001b[0m\n",
      "\u001b[34m[06:40:35] src/tree/updater_prune.cc:74: tree pruning end, 1 roots, 0 extra nodes, 20 pruned nodes, max_depth=0\u001b[0m\n",
      "\u001b[34m[53]#011train-error:0.027004#011validation-error:0.067568\u001b[0m\n",
      "\u001b[34m[06:40:35] src/tree/updater_prune.cc:74: tree pruning end, 1 roots, 0 extra nodes, 18 pruned nodes, max_depth=0\u001b[0m\n",
      "\u001b[34m[54]#011train-error:0.027004#011validation-error:0.067568\u001b[0m\n",
      "\u001b[34m[06:40:35] src/tree/updater_prune.cc:74: tree pruning end, 1 roots, 0 extra nodes, 18 pruned nodes, max_depth=0\u001b[0m\n",
      "\u001b[34m[55]#011train-error:0.027004#011validation-error:0.067568\u001b[0m\n",
      "\u001b[34m[06:40:35] src/tree/updater_prune.cc:74: tree pruning end, 1 roots, 0 extra nodes, 12 pruned nodes, max_depth=0\u001b[0m\n",
      "\u001b[34m[56]#011train-error:0.027004#011validation-error:0.067568\u001b[0m\n",
      "\u001b[34m[06:40:35] src/tree/updater_prune.cc:74: tree pruning end, 1 roots, 0 extra nodes, 16 pruned nodes, max_depth=0\u001b[0m\n",
      "\u001b[34m[57]#011train-error:0.027004#011validation-error:0.067568\u001b[0m\n",
      "\u001b[34m[06:40:35] src/tree/updater_prune.cc:74: tree pruning end, 1 roots, 0 extra nodes, 14 pruned nodes, max_depth=0\u001b[0m\n",
      "\u001b[34m[58]#011train-error:0.027432#011validation-error:0.067568\u001b[0m\n",
      "\u001b[34m[06:40:35] src/tree/updater_prune.cc:74: tree pruning end, 1 roots, 0 extra nodes, 18 pruned nodes, max_depth=0\u001b[0m\n",
      "\u001b[34m[59]#011train-error:0.027004#011validation-error:0.067568\u001b[0m\n",
      "\u001b[34m[06:40:35] src/tree/updater_prune.cc:74: tree pruning end, 1 roots, 0 extra nodes, 14 pruned nodes, max_depth=0\u001b[0m\n",
      "\u001b[34m[60]#011train-error:0.027432#011validation-error:0.067568\u001b[0m\n",
      "\u001b[34m[06:40:35] src/tree/updater_prune.cc:74: tree pruning end, 1 roots, 0 extra nodes, 10 pruned nodes, max_depth=0\u001b[0m\n",
      "\u001b[34m[61]#011train-error:0.027432#011validation-error:0.067568\u001b[0m\n",
      "\u001b[34m[06:40:35] src/tree/updater_prune.cc:74: tree pruning end, 1 roots, 0 extra nodes, 16 pruned nodes, max_depth=0\u001b[0m\n",
      "\u001b[34m[62]#011train-error:0.027432#011validation-error:0.067568\u001b[0m\n",
      "\u001b[34m[06:40:35] src/tree/updater_prune.cc:74: tree pruning end, 1 roots, 0 extra nodes, 14 pruned nodes, max_depth=0\u001b[0m\n",
      "\u001b[34m[63]#011train-error:0.027432#011validation-error:0.067568\u001b[0m\n",
      "\u001b[34m[06:40:35] src/tree/updater_prune.cc:74: tree pruning end, 1 roots, 8 extra nodes, 8 pruned nodes, max_depth=4\u001b[0m\n",
      "\u001b[34m[64]#011train-error:0.026147#011validation-error:0.069069\u001b[0m\n",
      "\u001b[34m[06:40:35] src/tree/updater_prune.cc:74: tree pruning end, 1 roots, 0 extra nodes, 20 pruned nodes, max_depth=0\u001b[0m\n",
      "\u001b[34m[65]#011train-error:0.026147#011validation-error:0.069069\u001b[0m\n",
      "\u001b[34m[06:40:35] src/tree/updater_prune.cc:74: tree pruning end, 1 roots, 0 extra nodes, 18 pruned nodes, max_depth=0\u001b[0m\n",
      "\u001b[34m[66]#011train-error:0.026147#011validation-error:0.069069\u001b[0m\n",
      "\u001b[34m[06:40:35] src/tree/updater_prune.cc:74: tree pruning end, 1 roots, 0 extra nodes, 10 pruned nodes, max_depth=0\u001b[0m\n",
      "\u001b[34m[67]#011train-error:0.026147#011validation-error:0.069069\u001b[0m\n",
      "\u001b[34m[06:40:35] src/tree/updater_prune.cc:74: tree pruning end, 1 roots, 6 extra nodes, 8 pruned nodes, max_depth=3\u001b[0m\n",
      "\u001b[34m[68]#011train-error:0.026147#011validation-error:0.067568\u001b[0m\n",
      "\u001b[34m[06:40:35] src/tree/updater_prune.cc:74: tree pruning end, 1 roots, 0 extra nodes, 14 pruned nodes, max_depth=0\u001b[0m\n",
      "\u001b[34m[69]#011train-error:0.026147#011validation-error:0.067568\u001b[0m\n",
      "\u001b[34m[06:40:35] src/tree/updater_prune.cc:74: tree pruning end, 1 roots, 0 extra nodes, 20 pruned nodes, max_depth=0\u001b[0m\n",
      "\u001b[34m[70]#011train-error:0.025718#011validation-error:0.066066\u001b[0m\n",
      "\u001b[34m[06:40:35] src/tree/updater_prune.cc:74: tree pruning end, 1 roots, 0 extra nodes, 16 pruned nodes, max_depth=0\u001b[0m\n",
      "\u001b[34m[71]#011train-error:0.025718#011validation-error:0.066066\u001b[0m\n",
      "\u001b[34m[06:40:35] src/tree/updater_prune.cc:74: tree pruning end, 1 roots, 6 extra nodes, 12 pruned nodes, max_depth=3\u001b[0m\n",
      "\u001b[34m[72]#011train-error:0.025289#011validation-error:0.067568\u001b[0m\n",
      "\u001b[34m[06:40:35] src/tree/updater_prune.cc:74: tree pruning end, 1 roots, 0 extra nodes, 18 pruned nodes, max_depth=0\u001b[0m\n",
      "\u001b[34m[73]#011train-error:0.024003#011validation-error:0.067568\u001b[0m\n",
      "\u001b[34m[06:40:35] src/tree/updater_prune.cc:74: tree pruning end, 1 roots, 0 extra nodes, 20 pruned nodes, max_depth=0\u001b[0m\n",
      "\u001b[34m[74]#011train-error:0.024003#011validation-error:0.067568\u001b[0m\n",
      "\u001b[34m[06:40:35] src/tree/updater_prune.cc:74: tree pruning end, 1 roots, 0 extra nodes, 20 pruned nodes, max_depth=0\u001b[0m\n",
      "\u001b[34m[75]#011train-error:0.024003#011validation-error:0.067568\u001b[0m\n",
      "\u001b[34m[06:40:35] src/tree/updater_prune.cc:74: tree pruning end, 1 roots, 0 extra nodes, 14 pruned nodes, max_depth=0\u001b[0m\n",
      "\u001b[34m[76]#011train-error:0.024003#011validation-error:0.067568\u001b[0m\n",
      "\u001b[34m[06:40:35] src/tree/updater_prune.cc:74: tree pruning end, 1 roots, 0 extra nodes, 12 pruned nodes, max_depth=0\u001b[0m\n",
      "\u001b[34m[77]#011train-error:0.024432#011validation-error:0.067568\u001b[0m\n",
      "\u001b[34m[06:40:35] src/tree/updater_prune.cc:74: tree pruning end, 1 roots, 0 extra nodes, 16 pruned nodes, max_depth=0\u001b[0m\n",
      "\u001b[34m[78]#011train-error:0.025289#011validation-error:0.067568\u001b[0m\n",
      "\u001b[34m[06:40:35] src/tree/updater_prune.cc:74: tree pruning end, 1 roots, 10 extra nodes, 4 pruned nodes, max_depth=5\u001b[0m\n",
      "\u001b[34m[79]#011train-error:0.025718#011validation-error:0.066066\u001b[0m\n",
      "\u001b[34m[06:40:35] src/tree/updater_prune.cc:74: tree pruning end, 1 roots, 0 extra nodes, 16 pruned nodes, max_depth=0\u001b[0m\n",
      "\u001b[34m[80]#011train-error:0.025718#011validation-error:0.066066\u001b[0m\n",
      "\u001b[34m[06:40:35] src/tree/updater_prune.cc:74: tree pruning end, 1 roots, 4 extra nodes, 14 pruned nodes, max_depth=2\u001b[0m\n",
      "\u001b[34m[81]#011train-error:0.025289#011validation-error:0.066066\u001b[0m\n",
      "\u001b[34m[06:40:35] src/tree/updater_prune.cc:74: tree pruning end, 1 roots, 0 extra nodes, 18 pruned nodes, max_depth=0\u001b[0m\n",
      "\u001b[34m[82]#011train-error:0.025718#011validation-error:0.066066\u001b[0m\n",
      "\u001b[34m[06:40:35] src/tree/updater_prune.cc:74: tree pruning end, 1 roots, 0 extra nodes, 18 pruned nodes, max_depth=0\u001b[0m\n",
      "\u001b[34m[83]#011train-error:0.025289#011validation-error:0.066066\u001b[0m\n",
      "\u001b[34m[06:40:35] src/tree/updater_prune.cc:74: tree pruning end, 1 roots, 0 extra nodes, 16 pruned nodes, max_depth=0\u001b[0m\n",
      "\u001b[34m[84]#011train-error:0.025718#011validation-error:0.066066\u001b[0m\n",
      "\u001b[34m[06:40:35] src/tree/updater_prune.cc:74: tree pruning end, 1 roots, 0 extra nodes, 16 pruned nodes, max_depth=0\u001b[0m\n",
      "\u001b[34m[85]#011train-error:0.025289#011validation-error:0.066066\u001b[0m\n",
      "\u001b[34m[06:40:35] src/tree/updater_prune.cc:74: tree pruning end, 1 roots, 0 extra nodes, 20 pruned nodes, max_depth=0\u001b[0m\n",
      "\u001b[34m[86]#011train-error:0.025289#011validation-error:0.066066\u001b[0m\n",
      "\u001b[34m[06:40:35] src/tree/updater_prune.cc:74: tree pruning end, 1 roots, 10 extra nodes, 10 pruned nodes, max_depth=5\u001b[0m\n",
      "\u001b[34m[87]#011train-error:0.024861#011validation-error:0.066066\u001b[0m\n",
      "\u001b[34m[06:40:35] src/tree/updater_prune.cc:74: tree pruning end, 1 roots, 0 extra nodes, 14 pruned nodes, max_depth=0\u001b[0m\n",
      "\u001b[34m[88]#011train-error:0.025289#011validation-error:0.067568\u001b[0m\n",
      "\u001b[34m[06:40:35] src/tree/updater_prune.cc:74: tree pruning end, 1 roots, 10 extra nodes, 4 pruned nodes, max_depth=5\u001b[0m\n",
      "\u001b[34m[89]#011train-error:0.024003#011validation-error:0.066066\u001b[0m\n",
      "\u001b[34m[06:40:35] src/tree/updater_prune.cc:74: tree pruning end, 1 roots, 0 extra nodes, 20 pruned nodes, max_depth=0\u001b[0m\n",
      "\u001b[34m[90]#011train-error:0.024003#011validation-error:0.066066\u001b[0m\n",
      "\u001b[34m[06:40:35] src/tree/updater_prune.cc:74: tree pruning end, 1 roots, 14 extra nodes, 0 pruned nodes, max_depth=5\u001b[0m\n",
      "\u001b[34m[91]#011train-error:0.025718#011validation-error:0.066066\u001b[0m\n",
      "\u001b[34m[06:40:35] src/tree/updater_prune.cc:74: tree pruning end, 1 roots, 0 extra nodes, 14 pruned nodes, max_depth=0\u001b[0m\n",
      "\u001b[34m[92]#011train-error:0.025718#011validation-error:0.066066\u001b[0m\n",
      "\u001b[34m[06:40:35] src/tree/updater_prune.cc:74: tree pruning end, 1 roots, 0 extra nodes, 14 pruned nodes, max_depth=0\u001b[0m\n",
      "\u001b[34m[93]#011train-error:0.025718#011validation-error:0.066066\u001b[0m\n",
      "\u001b[34m[06:40:35] src/tree/updater_prune.cc:74: tree pruning end, 1 roots, 0 extra nodes, 16 pruned nodes, max_depth=0\u001b[0m\n",
      "\u001b[34m[94]#011train-error:0.026147#011validation-error:0.066066\u001b[0m\n",
      "\u001b[34m[06:40:35] src/tree/updater_prune.cc:74: tree pruning end, 1 roots, 0 extra nodes, 12 pruned nodes, max_depth=0\u001b[0m\n",
      "\u001b[34m[95]#011train-error:0.026147#011validation-error:0.066066\u001b[0m\n",
      "\u001b[34m[06:40:35] src/tree/updater_prune.cc:74: tree pruning end, 1 roots, 4 extra nodes, 16 pruned nodes, max_depth=2\u001b[0m\n",
      "\u001b[34m[96]#011train-error:0.025289#011validation-error:0.067568\u001b[0m\n",
      "\u001b[34m[06:40:35] src/tree/updater_prune.cc:74: tree pruning end, 1 roots, 0 extra nodes, 14 pruned nodes, max_depth=0\u001b[0m\n",
      "\u001b[34m[97]#011train-error:0.025289#011validation-error:0.067568\u001b[0m\n",
      "\u001b[34m[06:40:35] src/tree/updater_prune.cc:74: tree pruning end, 1 roots, 0 extra nodes, 12 pruned nodes, max_depth=0\u001b[0m\n",
      "\u001b[34m[98]#011train-error:0.025289#011validation-error:0.067568\u001b[0m\n",
      "\u001b[34m[06:40:35] src/tree/updater_prune.cc:74: tree pruning end, 1 roots, 0 extra nodes, 14 pruned nodes, max_depth=0\u001b[0m\n",
      "\u001b[34m[99]#011train-error:0.024861#011validation-error:0.066066\u001b[0m\n",
      "\n",
      "2020-07-15 06:40:46 Uploading - Uploading generated training model\n",
      "2020-07-15 06:40:46 Completed - Training job completed\n",
      "Training seconds: 53\n",
      "Billable seconds: 53\n"
     ]
    }
   ],
   "source": [
    "sess = sagemaker.Session()\n",
    "\n",
    "xgb = sagemaker.estimator.Estimator(container,\n",
    "                                    role, \n",
    "                                    train_instance_count=1, \n",
    "                                    train_instance_type='ml.m4.xlarge',\n",
    "                                    output_path='s3://{}/{}/output'.format(bucket, prefix),\n",
    "                                    sagemaker_session=sess)\n",
    "xgb.set_hyperparameters(max_depth=5,\n",
    "                        eta=0.2,\n",
    "                        gamma=4,\n",
    "                        min_child_weight=6,\n",
    "                        subsample=0.8,\n",
    "                        silent=0,\n",
    "                        objective='binary:logistic',\n",
    "                        num_round=100)\n",
    "\n",
    "xgb.fit({'train': s3_input_train_processed, 'validation': s3_input_validation_processed}) "
   ]
  },
  {
   "cell_type": "markdown",
   "metadata": {},
   "source": [
    "## Post-processing"
   ]
  },
  {
   "cell_type": "code",
   "execution_count": 30,
   "metadata": {},
   "outputs": [],
   "source": [
    "# Define a SKLearn Transformer from the trained SKLearn Estimator\n",
    "transform_postprocessor_path = 's3://{}/{}/{}/'.format(bucket, prefix, 'transformtrain-postprocessing-output')\n",
    "scikit_learn_post_process_model = sklearn_preprocessor.create_model(env={'TRANSFORM_MODE': 'inverse-label-transform'})\n",
    "transformer_post_processing = scikit_learn_post_process_model.transformer(\n",
    "    instance_count=1, \n",
    "    instance_type='local',\n",
    "    assemble_with = 'Line',\n",
    "    output_path = transform_postprocessor_path,\n",
    "    accept = 'text/csv')"
   ]
  },
  {
   "cell_type": "code",
   "execution_count": 31,
   "metadata": {},
   "outputs": [
    {
     "data": {
      "text/plain": [
       "'s3://sagemaker-us-east-2-057716757052/sagemaker-scikit-learn-2020-07-15-06-33-44-815/model.tar.gz'"
      ]
     },
     "execution_count": 31,
     "metadata": {},
     "output_type": "execute_result"
    }
   ],
   "source": [
    "sklearn_preprocessor.model_data"
   ]
  },
  {
   "cell_type": "code",
   "execution_count": 32,
   "metadata": {},
   "outputs": [
    {
     "data": {
      "text/plain": [
       "'s3://sagemaker-us-east-2-057716757052/sagemaker-scikit-learn-2020-07-15-06-33-44-815/model.tar.gz'"
      ]
     },
     "execution_count": 32,
     "metadata": {},
     "output_type": "execute_result"
    }
   ],
   "source": [
    "scikit_learn_post_process_model.model_data"
   ]
  },
  {
   "cell_type": "markdown",
   "metadata": {},
   "source": [
    "## Inference Pipeline <a class=\"anchor\" id=\"pipeline_setup\"></a>\n",
    "Setting up a Machine Learning pipeline can be done with the create_model(). In this example, we configure our pipeline model with the fitted Scikit-learn inference model, the fitted Xgboost model and the psotprocessing model."
   ]
  },
  {
   "cell_type": "code",
   "execution_count": 34,
   "metadata": {},
   "outputs": [
    {
     "data": {
      "text/plain": [
       "'churn-inference-pipeline-2020-07-15-06-46-36'"
      ]
     },
     "execution_count": 34,
     "metadata": {},
     "output_type": "execute_result"
    }
   ],
   "source": [
    "timestamp_prefix = strftime(\"%Y-%m-%d-%H-%M-%S\", gmtime())\n",
    "model_name = 'churn-inference-pipeline-' + timestamp_prefix\n",
    "client = boto3.client('sagemaker')\n",
    "response = client.create_model(\n",
    "    ModelName=model_name,\n",
    "    Containers=[\n",
    "        {\n",
    "            'Image': sklearn_preprocessor.image_name,\n",
    "            'ModelDataUrl': sklearn_preprocessor.model_data,\n",
    "            'Environment': {\n",
    "                    \"SAGEMAKER_ENABLE_CLOUDWATCH_METRICS\": str(sklearn_preprocessor.enable_cloudwatch_metrics),\n",
    "                    \"SAGEMAKER_SUBMIT_DIRECTORY\": sklearn_preprocessor.uploaded_code.s3_prefix,\n",
    "                    \"TRANSFORM_MODE\": \"feature-transform\",\n",
    "                    \"SAGEMAKER_CONTAINER_LOG_LEVEL\": str(sklearn_preprocessor.container_log_level),\n",
    "                    \"SAGEMAKER_REGION\": sklearn_preprocessor.sagemaker_session.boto_region_name,\n",
    "                    \"SAGEMAKER_PROGRAM\": sklearn_preprocessor.uploaded_code.script_name\n",
    "                }\n",
    "        },\n",
    "        {\n",
    "            'Image': xgb.image_name,\n",
    "            'ModelDataUrl': xgb.model_data,\n",
    "            \"Environment\": {}\n",
    "        },\n",
    "        {\n",
    "            'Image': scikit_learn_post_process_model.image,\n",
    "            'ModelDataUrl': scikit_learn_post_process_model.model_data,\n",
    "            'Environment': {\n",
    "                    \"SAGEMAKER_ENABLE_CLOUDWATCH_METRICS\": str(sklearn_preprocessor.enable_cloudwatch_metrics),\n",
    "                    \"SAGEMAKER_SUBMIT_DIRECTORY\": sklearn_preprocessor.uploaded_code.s3_prefix,\n",
    "                    \"TRANSFORM_MODE\": \"inverse-label-transform\",\n",
    "                    \"SAGEMAKER_CONTAINER_LOG_LEVEL\": str(sklearn_preprocessor.container_log_level),\n",
    "                    \"SAGEMAKER_REGION\": sklearn_preprocessor.sagemaker_session.boto_region_name,\n",
    "                    \"SAGEMAKER_PROGRAM\": sklearn_preprocessor.uploaded_code.script_name\n",
    "                }\n",
    "        },\n",
    "    ],\n",
    "    ExecutionRoleArn = role,\n",
    ")\n",
    "model_name"
   ]
  },
  {
   "cell_type": "code",
   "execution_count": 35,
   "metadata": {},
   "outputs": [
    {
     "name": "stdout",
     "output_type": "stream",
     "text": [
      "Stored 'model_name' (str)\n"
     ]
    }
   ],
   "source": [
    "%store model_name"
   ]
  },
  {
   "cell_type": "code",
   "execution_count": null,
   "metadata": {},
   "outputs": [],
   "source": []
  }
 ],
 "metadata": {
  "celltoolbar": "Tags",
  "instance_type": "ml.t3.medium",
  "kernelspec": {
   "display_name": "conda_python3",
   "language": "python",
   "name": "conda_python3"
  },
  "language_info": {
   "codemirror_mode": {
    "name": "ipython",
    "version": 3
   },
   "file_extension": ".py",
   "mimetype": "text/x-python",
   "name": "python",
   "nbconvert_exporter": "python",
   "pygments_lexer": "ipython3",
   "version": "3.6.10"
  },
  "notice": "Copyright 2017 Amazon.com, Inc. or its affiliates. All Rights Reserved.  Licensed under the Apache License, Version 2.0 (the \"License\"). You may not use this file except in compliance with the License. A copy of the License is located at http://aws.amazon.com/apache2.0/ or in the \"license\" file accompanying this file. This file is distributed on an \"AS IS\" BASIS, WITHOUT WARRANTIES OR CONDITIONS OF ANY KIND, either express or implied. See the License for the specific language governing permissions and limitations under the License."
 },
 "nbformat": 4,
 "nbformat_minor": 4
}
