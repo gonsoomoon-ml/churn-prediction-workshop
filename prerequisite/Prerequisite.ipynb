{
 "cells": [
  {
   "attachments": {
    "image.png": {
     "image/png": "[encoded data removed]"
    }
   },
   "cell_type": "markdown",
   "metadata": {},
   "source": [
    "# 핸즈온 준비 단계 입니다. (Hands-on Prerequisite)\n",
    "\n",
    "# 1. 이벤트 엔진 접속 (Event Engine Access)\n",
    "- 이벤트 엔진으로 접속이 아닐시에는 \"2. SageMaker 노트북 생성 (Create SageMaker Notebook)\" 에서 시작 해주세요. (Skip this section if you don't use the event engine)\n",
    "- 이벤트 엔진(https://dashboard.eventengine.run)에 접속을 하시고, 받으신 해시 코드를 입력해주세요. (Connect to the event engine and enter the hashcode given)\n",
    "\n",
    "![EventEngine](img/Fig0.1-EventEngine.png)\n",
    "\n",
    "- 로그인 이후에 아래 \"AWS Console\"을 클릭 합니다. (Click AWS Console)\n",
    "![EventEngineLogin](img/Fig0.2-EventEngineLogin.png)\n",
    "\n",
    "- AWS Console Login 이후에 \"Open AWS Console\"을 클릭 하세요. (Click \"Open AWSConsole\")\n",
    "![EventEngineAWSConsole](img/Fig0.3-EventEngineAWSConsole.png)\n",
    "\n",
    "# 2. SageMaker 노트북 생성 (Create SageMaker Notebook)\n",
    "\n",
    "- SageMaker Console로 이동 하세요. 아래와 같이 \"Services\"를 클릭하고, 이후에 Sage 입력하면 아래에 Amazon SageMaker가 보입니다. 이를 클릭 해주세요. (Go to sagemaker console, click Services, then type SageMaker, finally click SageMaker below)\n",
    "\n",
    "![GoToSageMakerConsole](img/Fig1.0-GoToSageMaker.png)\n",
    "\n",
    "- 노트북 인스턴스를 생성 합니다. 아래와 같이 (1) Notebook Instance를 클릭 합니다. (2) 오른족에 \"Create Notebook Instance\"를 클릭 합니다. (Click (1) Notebook Instance and then do (2) Create Notebook Instance) \n",
    "\n",
    "![CreateNotebookInstance](img/Fig1.1-CreateNotebook.png)\n",
    "\n",
    "- 노트북의 설정 정보를 입력 합니다. (1) 노트북 이름을 적어 주세요. (예: Forecast-HongGilDong) (2) Permission and encryption에서 IAM role의 리스트 박스를 클릭 해주세요. (3) \"Create a new role\"을 클릭 해주세요.\n",
    "\n",
    "![CreateIAMRoleonNotebook](img/Fig1.2-CreateIAMRole.png)\n",
    "\n",
    "- Any S3 Bucket이 선택이 되었는지 확인 합니다. 이후에 \"Create Role\"을 클릭 하세요.\n",
    "\n",
    "![AnyS3Bucket](img/Fig1.3-AnyS3Bucket.png)\n",
    "\n",
    "- \"Create Notebook Instance\"를 클릭 하세요.\n",
    "\n",
    "![ClickCreateNotebook](img/Fig1.4-ClickNotebook.png)\n",
    "\n",
    "- InService가 될때가지 기다려 주세요.\n",
    "\n",
    "![Fig.3.1-FinishNotebook](img/Fig.3.1-FinishNotebook.png)\n",
    "\n",
    "\n",
    "# 4. Download Git Repository\n",
    "\n",
    "\n",
    "- 소스가 있는 Git Repository를 복사하기 위해서, 상단 메뉴의 Git을 클릭하고, 이어서 \"Open Terminal in Git Repository\"를 클릭 해주세요.\n",
    "\n",
    "![OpenTerminal](img/Fig.4.3-OpenTermianl.png)\n",
    "\n",
    "## 4-1 Git Repository 주소 \n",
    "필요시 아래의 Git Repository를 Clone 해주세요\n",
    "\n",
    "- Hands On Lab: 이탈 고객 학습 및 추론\n",
    "    - https://github.com/gonsoomoon-ml/churn-prediction-workshop\n",
    "\n",
    "    \n",
    "- Hands On Lab: TensorFlow 2 프로젝트 워크플로우를 SageMaker에서 실행\n",
    "    - https://github.com/mullue/sm-tf2\n",
    "    \n",
    "## 4-2 Git Repository 다운로드 (필요한 것만 다운로드 해주세요.)\n",
    "\n",
    "- 아래 화면 처럼 입력 해주시고, 오른쪽에 두개의 폴더가 생성되었는지 확인 해주세요.\n",
    "    - 간단하게 아래를 순서대로 카피 하시고 (Control-v 혹은 Cmd-v) 하시고 붙여넣기 (Control-v) 하시면 됩니다.\n",
    "    - cd SageMaker\n",
    "    - git clone https://github.com/gonsoomoon-ml/churn-prediction-workshop\n",
    "    - git clone https://github.com/mullue/sm-tf2\n",
    "\n",
    "![TypeGitAnd_Confirm](img/Fig.4.4.TypeGitandConfirm.png)\n",
    "\n",
    "# 준비 완료 (Get Ready)\n",
    "\n",
    "- 핸즈온의 준비가 완료 되었습니다. 만일 이 과정이 완료가 안되었으면 진행자에게 알려 주세요.\n",
    "![image.png](attachment:image.png)![image.png](attachment:image.png)![image.png](attachment:image.png)"
   ]
  },
  {
   "cell_type": "code",
   "execution_count": null,
   "metadata": {},
   "outputs": [],
   "source": []
  }
 ],
 "metadata": {
  "kernelspec": {
   "display_name": "conda_python3",
   "language": "python",
   "name": "conda_python3"
  },
  "language_info": {
   "codemirror_mode": {
    "name": "ipython",
    "version": 3
   },
   "file_extension": ".py",
   "mimetype": "text/x-python",
   "name": "python",
   "nbconvert_exporter": "python",
   "pygments_lexer": "ipython3",
   "version": "3.6.10"
  }
 },
 "nbformat": 4,
 "nbformat_minor": 4
}
