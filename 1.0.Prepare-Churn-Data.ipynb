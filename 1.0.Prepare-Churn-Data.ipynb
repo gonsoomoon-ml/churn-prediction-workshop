{
 "cells": [
  {
   "cell_type": "markdown",
   "metadata": {},
   "source": [
    "# 고객 이탈 예상 모델 생성 및 추론:"
   ]
  },
  {
   "cell_type": "markdown",
   "metadata": {},
   "source": [
    "# [Module 1.0] 고객 이탈 데이타 수집 \n",
    "- 이 노트북은 아래 블로그를 참조하여 작성을 함.\n",
    "- Reference:\n",
    "    * Visualizing Amazon SageMaker machine learning predictions with Amazon QuickSight\n",
    "        * https://aws.amazon.com/blogs/machine-learning/making-machine-learning-predictions-in-amazon-quicksight-and-amazon-sagemaker/\n",
    "        * Git\n",
    "            * https://github.com/aws-samples/quicksight-sagemaker-integration-blog\n",
    "\n",
    "\n",
    "\n",
    "\n",
    "---\n",
    "---\n",
    "- 아래 노트북을 모두 실행을 하는데 약 2분 소요됨\n",
    "---\n",
    "\n",
    "## 비즈니스 배경 \n",
    "\n",
    "고객을 잃은 다는 것은 어느 기업이나 손실이 큽니다. **불만이 있는 고객을 미리 인지한다는 것은, 미리 이탈 방지 할 수 있는 여러 프로모션을 줄 수 있는 기회를 제공** 합니다. 머신 러닝은 데이타를 통해서 이런 이탈 고객을 예상할 수 있는 방법을 제공 합니다. 물론 머신 러닝이 100% 정확한 예상을 할 수는 없지만, 이탈에 영향을 주는 의미 있는 데이타를 확보할 경우에는 예측 정확도는 상당히 올라 갑니다. \n",
    "\n",
    "## 기술적 내용\n",
    "본 워크샵에서는 아래와 같은 기술적인 부분도 포함 합니다.\n",
    "- SageMaker Processing \n",
    "    - 원본 데이타에 전처리 로직을 적용하여 전처리 데이타를 만드는 기술\n",
    "-     \n",
    "---\n",
    "\n",
    "## Setup Bucket and IAM Role\n",
    "- 디폴트 버킷을 사용하고 현재 노트북 인스턴스의 Role을 가져옴. 사용자가 이미 생성한 버킷을 사용하고자 한다면 아래에 입력 하세요\n",
    "\n"
   ]
  },
  {
   "cell_type": "code",
   "execution_count": 1,
   "metadata": {
    "isConfigCell": true,
    "tags": [
     "parameters"
    ]
   },
   "outputs": [],
   "source": [
    "# Set up Bucket\n",
    "import sagemaker\n",
    "bucket = sagemaker.Session().default_bucket()\n",
    "# bucket = '<Your Bucket Name if you want to use it>'\n",
    "\n",
    "prefix = 'sagemaker/customer-churn'\n",
    "\n",
    "# Define IAM role\n",
    "import boto3\n",
    "import re\n",
    "from sagemaker import get_execution_role\n",
    "\n",
    "role = get_execution_role()"
   ]
  },
  {
   "cell_type": "markdown",
   "metadata": {},
   "source": [
    "Next, we'll import the Python libraries we'll need for the remainder of the exercise."
   ]
  },
  {
   "cell_type": "code",
   "execution_count": 2,
   "metadata": {},
   "outputs": [],
   "source": [
    "import pandas as pd\n",
    "import numpy as np\n",
    "# import matplotlib.pyplot as plt\n",
    "# import io\n",
    "import os\n",
    "# import sys\n",
    "# import time\n",
    "# import json\n",
    "from IPython.display import display\n",
    "# from time import strftime, gmtime\n",
    "# import sagemaker\n",
    "# from sagemaker.predictor import csv_serializer"
   ]
  },
  {
   "cell_type": "markdown",
   "metadata": {},
   "source": [
    "---\n",
    "## Downlaod Data\n",
    "- 한 이동 통신사의 고객 이탈 데이타는 아래에서 다운로드 가능합니다.\n",
    "\n",
    "The dataset we use is publicly available and was mentioned in the book [Discovering Knowledge in Data](https://www.amazon.com/dp/0470908742/) by Daniel T. Larose. It is attributed by the author to the University of California Irvine Repository of Machine Learning Datasets.  Let's download and read that dataset in now:"
   ]
  },
  {
   "cell_type": "code",
   "execution_count": 3,
   "metadata": {},
   "outputs": [],
   "source": [
    "raw_data_folder = 'raw_data'\n",
    "churn_data_folder = 'churn_data'"
   ]
  },
  {
   "cell_type": "code",
   "execution_count": 4,
   "metadata": {},
   "outputs": [
    {
     "name": "stdout",
     "output_type": "stream",
     "text": [
      "--2020-07-15 08:24:32--  http://dataminingconsultant.com/DKD2e_data_sets.zip\n",
      "Resolving dataminingconsultant.com (dataminingconsultant.com)... 160.153.91.162\n",
      "Connecting to dataminingconsultant.com (dataminingconsultant.com)|160.153.91.162|:80... connected.\n",
      "HTTP request sent, awaiting response... 200 OK\n",
      "Length: 1003616 (980K) [application/zip]\n",
      "Saving to: ‘raw_data/DKD2e_data_sets.zip’\n",
      "\n",
      "DKD2e_data_sets.zip 100%[===================>] 980.09K  2.30MB/s    in 0.4s    \n",
      "\n",
      "2020-07-15 08:24:33 (2.30 MB/s) - ‘raw_data/DKD2e_data_sets.zip’ saved [1003616/1003616]\n",
      "\n",
      "Archive:  raw_data/DKD2e_data_sets.zip\n",
      " extracting: raw_data/Data sets/adult.zip  \n",
      "  inflating: raw_data/Data sets/cars.txt  \n",
      "  inflating: raw_data/Data sets/cars2.txt  \n",
      "  inflating: raw_data/Data sets/cereals.CSV  \n",
      "  inflating: raw_data/Data sets/churn.txt  \n",
      "  inflating: raw_data/Data sets/ClassifyRisk  \n",
      "  inflating: raw_data/Data sets/ClassifyRisk - Missing.txt  \n",
      " extracting: raw_data/Data sets/DKD2e data sets.zip  \n",
      "  inflating: raw_data/Data sets/nn1.txt  \n"
     ]
    }
   ],
   "source": [
    "!wget --directory-prefix={raw_data_folder} http://dataminingconsultant.com/DKD2e_data_sets.zip\n",
    "!unzip -o {raw_data_folder}/DKD2e_data_sets.zip -d {raw_data_folder}"
   ]
  },
  {
   "cell_type": "markdown",
   "metadata": {},
   "source": [
    "### Read Churn Data"
   ]
  },
  {
   "cell_type": "code",
   "execution_count": 17,
   "metadata": {},
   "outputs": [
    {
     "data": {
      "text/html": [
       "<div>\n",
       "<style scoped>\n",
       "    .dataframe tbody tr th:only-of-type {\n",
       "        vertical-align: middle;\n",
       "    }\n",
       "\n",
       "    .dataframe tbody tr th {\n",
       "        vertical-align: top;\n",
       "    }\n",
       "\n",
       "    .dataframe thead th {\n",
       "        text-align: right;\n",
       "    }\n",
       "</style>\n",
       "<table border=\"1\" class=\"dataframe\">\n",
       "  <thead>\n",
       "    <tr style=\"text-align: right;\">\n",
       "      <th></th>\n",
       "      <th>State</th>\n",
       "      <th>Account Length</th>\n",
       "      <th>Area Code</th>\n",
       "      <th>Phone</th>\n",
       "      <th>Int'l Plan</th>\n",
       "      <th>VMail Plan</th>\n",
       "      <th>VMail Message</th>\n",
       "      <th>Day Mins</th>\n",
       "      <th>Day Calls</th>\n",
       "      <th>Day Charge</th>\n",
       "      <th>Eve Mins</th>\n",
       "      <th>Eve Calls</th>\n",
       "      <th>Eve Charge</th>\n",
       "      <th>Night Mins</th>\n",
       "      <th>Night Calls</th>\n",
       "      <th>Night Charge</th>\n",
       "      <th>Intl Mins</th>\n",
       "      <th>Intl Calls</th>\n",
       "      <th>Intl Charge</th>\n",
       "      <th>CustServ Calls</th>\n",
       "      <th>Churn?</th>\n",
       "    </tr>\n",
       "  </thead>\n",
       "  <tbody>\n",
       "    <tr>\n",
       "      <th>0</th>\n",
       "      <td>KS</td>\n",
       "      <td>128</td>\n",
       "      <td>415</td>\n",
       "      <td>382-4657</td>\n",
       "      <td>no</td>\n",
       "      <td>yes</td>\n",
       "      <td>25</td>\n",
       "      <td>265.1</td>\n",
       "      <td>110</td>\n",
       "      <td>45.07</td>\n",
       "      <td>197.4</td>\n",
       "      <td>99</td>\n",
       "      <td>16.78</td>\n",
       "      <td>244.7</td>\n",
       "      <td>91</td>\n",
       "      <td>11.01</td>\n",
       "      <td>10.0</td>\n",
       "      <td>3</td>\n",
       "      <td>2.70</td>\n",
       "      <td>1</td>\n",
       "      <td>False.</td>\n",
       "    </tr>\n",
       "    <tr>\n",
       "      <th>1</th>\n",
       "      <td>OH</td>\n",
       "      <td>107</td>\n",
       "      <td>415</td>\n",
       "      <td>371-7191</td>\n",
       "      <td>no</td>\n",
       "      <td>yes</td>\n",
       "      <td>26</td>\n",
       "      <td>161.6</td>\n",
       "      <td>123</td>\n",
       "      <td>27.47</td>\n",
       "      <td>195.5</td>\n",
       "      <td>103</td>\n",
       "      <td>16.62</td>\n",
       "      <td>254.4</td>\n",
       "      <td>103</td>\n",
       "      <td>11.45</td>\n",
       "      <td>13.7</td>\n",
       "      <td>3</td>\n",
       "      <td>3.70</td>\n",
       "      <td>1</td>\n",
       "      <td>False.</td>\n",
       "    </tr>\n",
       "    <tr>\n",
       "      <th>2</th>\n",
       "      <td>NJ</td>\n",
       "      <td>137</td>\n",
       "      <td>415</td>\n",
       "      <td>358-1921</td>\n",
       "      <td>no</td>\n",
       "      <td>no</td>\n",
       "      <td>0</td>\n",
       "      <td>243.4</td>\n",
       "      <td>114</td>\n",
       "      <td>41.38</td>\n",
       "      <td>121.2</td>\n",
       "      <td>110</td>\n",
       "      <td>10.30</td>\n",
       "      <td>162.6</td>\n",
       "      <td>104</td>\n",
       "      <td>7.32</td>\n",
       "      <td>12.2</td>\n",
       "      <td>5</td>\n",
       "      <td>3.29</td>\n",
       "      <td>0</td>\n",
       "      <td>False.</td>\n",
       "    </tr>\n",
       "    <tr>\n",
       "      <th>3</th>\n",
       "      <td>OH</td>\n",
       "      <td>84</td>\n",
       "      <td>408</td>\n",
       "      <td>375-9999</td>\n",
       "      <td>yes</td>\n",
       "      <td>no</td>\n",
       "      <td>0</td>\n",
       "      <td>299.4</td>\n",
       "      <td>71</td>\n",
       "      <td>50.90</td>\n",
       "      <td>61.9</td>\n",
       "      <td>88</td>\n",
       "      <td>5.26</td>\n",
       "      <td>196.9</td>\n",
       "      <td>89</td>\n",
       "      <td>8.86</td>\n",
       "      <td>6.6</td>\n",
       "      <td>7</td>\n",
       "      <td>1.78</td>\n",
       "      <td>2</td>\n",
       "      <td>False.</td>\n",
       "    </tr>\n",
       "    <tr>\n",
       "      <th>4</th>\n",
       "      <td>OK</td>\n",
       "      <td>75</td>\n",
       "      <td>415</td>\n",
       "      <td>330-6626</td>\n",
       "      <td>yes</td>\n",
       "      <td>no</td>\n",
       "      <td>0</td>\n",
       "      <td>166.7</td>\n",
       "      <td>113</td>\n",
       "      <td>28.34</td>\n",
       "      <td>148.3</td>\n",
       "      <td>122</td>\n",
       "      <td>12.61</td>\n",
       "      <td>186.9</td>\n",
       "      <td>121</td>\n",
       "      <td>8.41</td>\n",
       "      <td>10.1</td>\n",
       "      <td>3</td>\n",
       "      <td>2.73</td>\n",
       "      <td>3</td>\n",
       "      <td>False.</td>\n",
       "    </tr>\n",
       "  </tbody>\n",
       "</table>\n",
       "</div>"
      ],
      "text/plain": [
       "  State  Account Length  Area Code     Phone Int'l Plan VMail Plan  \\\n",
       "0    KS             128        415  382-4657         no        yes   \n",
       "1    OH             107        415  371-7191         no        yes   \n",
       "2    NJ             137        415  358-1921         no         no   \n",
       "3    OH              84        408  375-9999        yes         no   \n",
       "4    OK              75        415  330-6626        yes         no   \n",
       "\n",
       "   VMail Message  Day Mins  Day Calls  Day Charge  Eve Mins  Eve Calls  \\\n",
       "0             25     265.1        110       45.07     197.4         99   \n",
       "1             26     161.6        123       27.47     195.5        103   \n",
       "2              0     243.4        114       41.38     121.2        110   \n",
       "3              0     299.4         71       50.90      61.9         88   \n",
       "4              0     166.7        113       28.34     148.3        122   \n",
       "\n",
       "   Eve Charge  Night Mins  Night Calls  Night Charge  Intl Mins  Intl Calls  \\\n",
       "0       16.78       244.7           91         11.01       10.0           3   \n",
       "1       16.62       254.4          103         11.45       13.7           3   \n",
       "2       10.30       162.6          104          7.32       12.2           5   \n",
       "3        5.26       196.9           89          8.86        6.6           7   \n",
       "4       12.61       186.9          121          8.41       10.1           3   \n",
       "\n",
       "   Intl Charge  CustServ Calls  Churn?  \n",
       "0         2.70               1  False.  \n",
       "1         3.70               1  False.  \n",
       "2         3.29               0  False.  \n",
       "3         1.78               2  False.  \n",
       "4         2.73               3  False.  "
      ]
     },
     "execution_count": 17,
     "metadata": {},
     "output_type": "execute_result"
    }
   ],
   "source": [
    "churn_file_name = os.path.join(raw_data_folder, 'Data sets', 'churn.txt')\n",
    "churn_raw = pd.read_csv(churn_file_name)\n",
    "pd.set_option('display.max_columns', 500)\n",
    "churn_raw.head()"
   ]
  },
  {
   "cell_type": "markdown",
   "metadata": {},
   "source": [
    "미국의 어떤 이동 통신사의 총 3,333개의 레코드가 존재하고, 각 레코드는 21개의 컬럼이 존재 함.\n",
    "\n",
    "- `State`: 미국의 주\n",
    "- `Account Length`: 계정이 활성화 된 날짜의 수\n",
    "- `Area Code`: 지역 번호\n",
    "- `Phone`: 지역 번호 이외의 나머지 번호\n",
    "- `Int’l Plan`: 고객이 해외 전화 연결 기능(international calling plan) 사용 여부. yes/no\n",
    "- `VMail Plan`: 고객이 보이스 메일 기능 사용 여부: yes/no\n",
    "- `VMail Message`: 월 평균 보이스 메일 평균 수\n",
    "- `Day Mins`: 하루 동안 전화 통화 평균 분\n",
    "- `Day Calls`: 하루 동안 전화 통화 평균 수\n",
    "- `Day Charge`: 낮에 사용한 전화에 대한 청구 금액 \n",
    "- `Eve Mins, Eve Calls, Eve Charge`: 저녁에 사용 (위의 낮의 정의 와 같음)\n",
    "- `Night Mins`, `Night Calls`, `Night Charge`: 밤에 사용 (위의 낮의 정의와 같음)\n",
    "- `Intl Mins`, `Intl Calls`, `Intl Charge`: 해외에 사용 (위의 낮의 정의와 같음)\n",
    "- `CustServ Calls`: 고객 서비스 센터에 전화한 통화 수\n",
    "- `Churn?`: 이 고객이 이탈할지 말지 여부. true/false (타켓 변수)\n"
   ]
  },
  {
   "cell_type": "code",
   "execution_count": 22,
   "metadata": {},
   "outputs": [
    {
     "data": {
      "text/plain": [
       "False    2850\n",
       "True      483\n",
       "Name: Churn?, dtype: int64"
      ]
     },
     "execution_count": 22,
     "metadata": {},
     "output_type": "execute_result"
    }
   ],
   "source": [
    "# Replace \"False.\" --> False, \"True.\" --> True\n",
    "def clean_raw_data(churn_raw):\n",
    "    df_churn = churn_raw.copy()\n",
    "    df_churn = df_churn.replace({'Churn?': {'True.' : 'True', 'False.' : 'False'}})\n",
    "    \n",
    "    return df_churn\n",
    "\n",
    "churn = clean_raw_data(churn_raw)\n",
    "churn['Churn?'].value_counts()"
   ]
  },
  {
   "cell_type": "markdown",
   "metadata": {},
   "source": [
    "## 원본 데이타를 Train, Validation, Test 으로 분리"
   ]
  },
  {
   "cell_type": "code",
   "execution_count": 23,
   "metadata": {},
   "outputs": [],
   "source": [
    "os.makedirs(churn_data_folder, exist_ok=True)\n",
    "train_file = os.path.join(churn_data_folder, 'train.csv')\n",
    "validation_file = os.path.join(churn_data_folder, 'validation.csv')\n",
    "test_batch_transform_test_file = os.path.join(churn_data_folder, 'batch_transform_test.csv')\n",
    "test_batch_transform_test_true_file = os.path.join(churn_data_folder, 'batch_transform_test_true.csv')\n",
    "test_file = os.path.join(churn_data_folder, 'test.csv')"
   ]
  },
  {
   "cell_type": "code",
   "execution_count": 24,
   "metadata": {},
   "outputs": [],
   "source": [
    "train_data, validation_data, test_data = np.split(churn.sample(frac=1, random_state=1729), \n",
    "                                                  [int(0.7 * len(churn)), int(0.9 * len(churn))]\n",
    "                                                 )\n",
    "train_data.to_csv(train_file, header=False, index=False)\n",
    "validation_data.to_csv(validation_file, header=False, index=False)\n",
    "\n",
    "# As a ground truth, use for comparing prediction later\n",
    "test_data.to_csv(test_batch_transform_test_true_file, header=False, index=False)\n",
    "# Use it for batch_transform and realtime inference\n",
    "test_data.drop('Churn?', axis=1).to_csv(test_batch_transform_test_file, header=False, index=False)\n",
    "\n",
    "\n",
    "# For QuickSight\n",
    "# test_data.drop('Churn?', axis=1).to_csv('test.csv', header=True, index=False)"
   ]
  },
  {
   "cell_type": "markdown",
   "metadata": {},
   "source": [
    "Now we'll upload these files to S3."
   ]
  },
  {
   "cell_type": "code",
   "execution_count": 25,
   "metadata": {},
   "outputs": [],
   "source": [
    "boto3.Session().resource('s3').Bucket(bucket).Object(os.path.join(prefix, 'rawtrain/train.csv')).upload_file(train_file)\n",
    "boto3.Session().resource('s3').Bucket(bucket).Object(os.path.join(prefix, 'rawvalidation/validation.csv')).upload_file(validation_file)\n",
    "boto3.Session().resource('s3').Bucket(bucket).Object(os.path.join(prefix, 'rawtest/batch_transform_test.csv')).upload_file(test_batch_transform_test_file)\n",
    "# boto3.Session().resource('s3').Bucket(bucket).Object(os.path.join(prefix, 'rawtest/test.csv')).upload_file('test.csv')"
   ]
  },
  {
   "cell_type": "markdown",
   "metadata": {},
   "source": [
    "Then, because we're training with the CSV file format, we'll create `s3_input`s that our training function can use as a pointer to the files in S3."
   ]
  },
  {
   "cell_type": "code",
   "execution_count": 26,
   "metadata": {},
   "outputs": [],
   "source": [
    "s3_input_train = sagemaker.s3_input(s3_data='s3://{}/{}/rawtrain/'.format(bucket, prefix), content_type='csv')\n",
    "s3_input_validation = sagemaker.s3_input(s3_data='s3://{}/{}/rawvalidation/'.format(bucket, prefix), content_type='csv')\n",
    "s3_input_test = sagemaker.s3_input(s3_data='s3://{}/{}/rawtest/'.format(bucket, prefix), content_type='csv')"
   ]
  },
  {
   "cell_type": "code",
   "execution_count": 27,
   "metadata": {},
   "outputs": [
    {
     "data": {
      "text/plain": [
       "{'DataSource': {'S3DataSource': {'S3DataType': 'S3Prefix',\n",
       "   'S3Uri': 's3://sagemaker-us-east-2-057716757052/sagemaker/customer-churn/rawtrain/',\n",
       "   'S3DataDistributionType': 'FullyReplicated'}},\n",
       " 'ContentType': 'csv'}"
      ]
     },
     "execution_count": 27,
     "metadata": {},
     "output_type": "execute_result"
    }
   ],
   "source": [
    "s3_input_train.config"
   ]
  },
  {
   "cell_type": "code",
   "execution_count": 28,
   "metadata": {},
   "outputs": [
    {
     "data": {
      "text/plain": [
       "{'DataSource': {'S3DataSource': {'S3DataType': 'S3Prefix',\n",
       "   'S3Uri': 's3://sagemaker-us-east-2-057716757052/sagemaker/customer-churn/rawvalidation/',\n",
       "   'S3DataDistributionType': 'FullyReplicated'}},\n",
       " 'ContentType': 'csv'}"
      ]
     },
     "execution_count": 28,
     "metadata": {},
     "output_type": "execute_result"
    }
   ],
   "source": [
    "s3_input_validation.config"
   ]
  },
  {
   "cell_type": "code",
   "execution_count": 29,
   "metadata": {},
   "outputs": [
    {
     "data": {
      "text/plain": [
       "{'DataSource': {'S3DataSource': {'S3DataType': 'S3Prefix',\n",
       "   'S3Uri': 's3://sagemaker-us-east-2-057716757052/sagemaker/customer-churn/rawtest/',\n",
       "   'S3DataDistributionType': 'FullyReplicated'}},\n",
       " 'ContentType': 'csv'}"
      ]
     },
     "execution_count": 29,
     "metadata": {},
     "output_type": "execute_result"
    }
   ],
   "source": [
    "s3_input_test.config"
   ]
  },
  {
   "cell_type": "code",
   "execution_count": 30,
   "metadata": {},
   "outputs": [
    {
     "name": "stdout",
     "output_type": "stream",
     "text": [
      "Stored 's3_input_train' (s3_input)\n",
      "Stored 's3_input_validation' (s3_input)\n",
      "Stored 's3_input_test' (s3_input)\n",
      "Stored 'test_batch_transform_test_true_file' (str)\n",
      "Stored 'bucket' (str)\n",
      "Stored 'prefix' (str)\n"
     ]
    }
   ],
   "source": [
    "%store s3_input_train\n",
    "%store s3_input_validation\n",
    "%store s3_input_test\n",
    "%store test_batch_transform_test_true_file\n",
    "%store bucket\n",
    "%store prefix"
   ]
  },
  {
   "cell_type": "code",
   "execution_count": 31,
   "metadata": {},
   "outputs": [],
   "source": [
    "# %store"
   ]
  },
  {
   "cell_type": "code",
   "execution_count": null,
   "metadata": {},
   "outputs": [],
   "source": []
  }
 ],
 "metadata": {
  "celltoolbar": "Tags",
  "instance_type": "ml.t3.medium",
  "kernelspec": {
   "display_name": "conda_python3",
   "language": "python",
   "name": "conda_python3"
  },
  "language_info": {
   "codemirror_mode": {
    "name": "ipython",
    "version": 3
   },
   "file_extension": ".py",
   "mimetype": "text/x-python",
   "name": "python",
   "nbconvert_exporter": "python",
   "pygments_lexer": "ipython3",
   "version": "3.6.10"
  },
  "notice": "Copyright 2017 Amazon.com, Inc. or its affiliates. All Rights Reserved.  Licensed under the Apache License, Version 2.0 (the \"License\"). You may not use this file except in compliance with the License. A copy of the License is located at http://aws.amazon.com/apache2.0/ or in the \"license\" file accompanying this file. This file is distributed on an \"AS IS\" BASIS, WITHOUT WARRANTIES OR CONDITIONS OF ANY KIND, either express or implied. See the License for the specific language governing permissions and limitations under the License."
 },
 "nbformat": 4,
 "nbformat_minor": 4
}
