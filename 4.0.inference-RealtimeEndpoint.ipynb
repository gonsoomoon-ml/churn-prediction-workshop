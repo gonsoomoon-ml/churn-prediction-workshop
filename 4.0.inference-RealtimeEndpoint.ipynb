{
 "cells": [
  {
   "cell_type": "markdown",
   "metadata": {},
   "source": [
    "# [Module 4.0] Make Realtime Endpoint and Inference"
   ]
  },
  {
   "cell_type": "markdown",
   "metadata": {},
   "source": [
    "**이전의 배치성 추론과 다르게 한 건씩 실시간으로 추론을 해보겠습니다.**\n",
    "\n",
    "이 노트북은 아래와 같은 작업을 합니다.\n",
    "- Endpoint Config 생성\n",
    "- RealTime Endpoint 생성\n",
    "- Predictor 생성\n",
    "- 추론을 위한 테스트 데이터 포맷 작성\n",
    "- 추론 실행 (20명)\n",
    "\n",
    "소요시간은 약 10분 소요 됩니다."
   ]
  },
  {
   "cell_type": "code",
   "execution_count": 1,
   "metadata": {},
   "outputs": [],
   "source": [
    "import boto3\n",
    "\n",
    "import pandas as pd\n",
    "import sagemaker\n",
    "\n",
    "from time import strftime, gmtime\n",
    "\n",
    "sess = sagemaker.Session()\n",
    "role = sagemaker.get_execution_role()\n",
    "\n",
    "timestamp_prefix = strftime(\"%Y-%m-%d-%H-%M-%S\", gmtime())"
   ]
  },
  {
   "cell_type": "code",
   "execution_count": 2,
   "metadata": {},
   "outputs": [],
   "source": [
    "%store -r "
   ]
  },
  {
   "cell_type": "markdown",
   "metadata": {},
   "source": [
    "## EndpointConfig 생성\n",
    "- Realtime Endpoint를 만들기 위한 설정 파일을 만듦니다.\n",
    "    - model_name은 기존에 만든 model을 사용합니다. 위의 %store -r을 통해서 해당 이름을 가져 옵니다."
   ]
  },
  {
   "cell_type": "code",
   "execution_count": 3,
   "metadata": {},
   "outputs": [],
   "source": [
    "client = boto3.client(\"sagemaker\")\n",
    "endpoint_config_name = \"churn-inference-pipeline-\" + timestamp_prefix\n",
    "response = client.create_endpoint_config(\n",
    "    EndpointConfigName = endpoint_config_name,\n",
    "    ProductionVariants = [\n",
    "        {\n",
    "            'VariantName' : \"AllTraffic\",\n",
    "            'ModelName' : model_name,\n",
    "            'InitialInstanceCount' : 1,\n",
    "            'InstanceType' : 'ml.m4.xlarge'\n",
    "        }\n",
    "    ]\n",
    ")"
   ]
  },
  {
   "cell_type": "markdown",
   "metadata": {},
   "source": [
    "## Endpoint 생성"
   ]
  },
  {
   "cell_type": "code",
   "execution_count": 4,
   "metadata": {},
   "outputs": [],
   "source": [
    "churn_endpoint_name = 'churn-inference-pipeline-endpoint-' + timestamp_prefix\n",
    "churn_endpoint = client.create_endpoint(\n",
    "    EndpointName = churn_endpoint_name,\n",
    "    EndpointConfigName = endpoint_config_name\n",
    ")"
   ]
  },
  {
   "cell_type": "markdown",
   "metadata": {},
   "source": [
    "#### **EndpointStatus 가 InService**가 될때까지 기다려 주세요. 그렇지 않으면 아래 코드가 에러나 납니다.\n",
    "EndpointStatus 가 Pending --> Creating --> In Service로 변경 됩니다."
   ]
  },
  {
   "cell_type": "markdown",
   "metadata": {},
   "source": [
    "#### 아래는 약 10분 정도가 소요 됩니다. \n",
    "아래 셀을 주기적으로 키보드로 Shift-Enter 를 눌러서 실행해 주세요"
   ]
  },
  {
   "cell_type": "code",
   "execution_count": 8,
   "metadata": {},
   "outputs": [
    {
     "data": {
      "text/plain": [
       "{'EndpointName': 'churn-inference-pipeline-endpoint-2020-08-03-09-57-43',\n",
       " 'EndpointArn': 'arn:aws:sagemaker:us-west-2:311515152513:endpoint/churn-inference-pipeline-endpoint-2020-08-03-09-57-43',\n",
       " 'EndpointConfigName': 'churn-inference-pipeline-2020-08-03-09-57-43',\n",
       " 'ProductionVariants': [{'VariantName': 'AllTraffic',\n",
       "   'DeployedImages': [{'SpecifiedImage': '246618743249.dkr.ecr.us-west-2.amazonaws.com/sagemaker-scikit-learn:0.20.0-cpu-py3',\n",
       "     'ResolvedImage': '246618743249.dkr.ecr.us-west-2.amazonaws.com/sagemaker-scikit-learn@sha256:1476311657fe444be8f95f472a8a91a3da577d558e1046678ee76c611f7132ca',\n",
       "     'ResolutionTime': datetime.datetime(2020, 8, 3, 9, 57, 46, 39000, tzinfo=tzlocal())},\n",
       "    {'SpecifiedImage': '246618743249.dkr.ecr.us-west-2.amazonaws.com/sagemaker-xgboost:1.0-1-cpu-py3',\n",
       "     'ResolvedImage': '246618743249.dkr.ecr.us-west-2.amazonaws.com/sagemaker-xgboost@sha256:b0f7d76963f88f9890bfa3288e256d4cc14308ace32a036f77b977d8cf4319a5',\n",
       "     'ResolutionTime': datetime.datetime(2020, 8, 3, 9, 57, 46, 70000, tzinfo=tzlocal())}],\n",
       "   'CurrentWeight': 1.0,\n",
       "   'DesiredWeight': 1.0,\n",
       "   'CurrentInstanceCount': 1,\n",
       "   'DesiredInstanceCount': 1}],\n",
       " 'EndpointStatus': 'InService',\n",
       " 'CreationTime': datetime.datetime(2020, 8, 3, 9, 57, 44, 392000, tzinfo=tzlocal()),\n",
       " 'LastModifiedTime': datetime.datetime(2020, 8, 3, 10, 5, 55, 932000, tzinfo=tzlocal()),\n",
       " 'ResponseMetadata': {'RequestId': '109e1e9c-fa65-4cd5-85f7-b62c097e0229',\n",
       "  'HTTPStatusCode': 200,\n",
       "  'HTTPHeaders': {'x-amzn-requestid': '109e1e9c-fa65-4cd5-85f7-b62c097e0229',\n",
       "   'content-type': 'application/x-amz-json-1.1',\n",
       "   'content-length': '1098',\n",
       "   'date': 'Mon, 03 Aug 2020 10:06:45 GMT'},\n",
       "  'RetryAttempts': 0}}"
      ]
     },
     "execution_count": 8,
     "metadata": {},
     "output_type": "execute_result"
    }
   ],
   "source": [
    "client.describe_endpoint(EndpointName = churn_endpoint_name)"
   ]
  },
  {
   "cell_type": "markdown",
   "metadata": {},
   "source": [
    "### Create Predictor\n",
    "- 위에서 생성한 Endpoint에 CSV 형태의 입력 데이타를 받을 수 있게 csv_serializer를 지정 함"
   ]
  },
  {
   "cell_type": "code",
   "execution_count": 9,
   "metadata": {},
   "outputs": [],
   "source": [
    "from sagemaker.predictor import json_serializer, csv_serializer, json_deserializer, RealTimePredictor\n",
    "from sagemaker.content_types import CONTENT_TYPE_CSV, CONTENT_TYPE_JSON\n",
    "import sagemaker\n",
    "sagemaker_session = sagemaker.Session()\n",
    "\n",
    "predictor = RealTimePredictor(\n",
    "    endpoint = churn_endpoint_name,\n",
    "    sagemaker_session = sagemaker_session,\n",
    "    serializer = csv_serializer,\n",
    "    content_type = CONTENT_TYPE_CSV,\n",
    "    accept = CONTENT_TYPE_JSON\n",
    ")\n"
   ]
  },
  {
   "cell_type": "markdown",
   "metadata": {},
   "source": [
    "### 추론 위한 입력 포맷을 만듦\n",
    "- 이런 형태로 입력이 됨 (에:)\n",
    "    - ' KS,186,510,400-6454,no,no,0,137.8,97,23.43,187.7,118,15.95,146.4,85,6.59,8.7,6,2.35,1' "
   ]
  },
  {
   "cell_type": "code",
   "execution_count": 10,
   "metadata": {},
   "outputs": [],
   "source": [
    "\n",
    "def make_inference_format(sample):\n",
    "    instance = str()\n",
    "    for i, token in enumerate(sample):\n",
    "        # print(token)\n",
    "        if i > 0:\n",
    "            instance = instance  + ',' + str(token) \n",
    "        else:\n",
    "            instance = instance  +  str(token) \n",
    "    return instance\n",
    "\n"
   ]
  },
  {
   "cell_type": "markdown",
   "metadata": {},
   "source": [
    "### Test 데이타에서 20명을 추론\n",
    "- 20명 중에서 7번째 고객이 이탈이 가능하다고 결과를 냄. "
   ]
  },
  {
   "cell_type": "code",
   "execution_count": 11,
   "metadata": {},
   "outputs": [
    {
     "name": "stdout",
     "output_type": "stream",
     "text": [
      "instance: \n",
      " KS,186,510,400-6454,no,no,0,137.8,97,23.43,187.7,118,15.95,146.4,85,6.59,8.7,6,2.35,1\n",
      "Churn result?: \n",
      " b'False\\n'\n",
      "\n",
      "instance: \n",
      " MA,132,415,343-5372,no,yes,25,113.2,96,19.24,269.9,107,22.94,229.1,87,10.31,7.1,7,1.92,2\n",
      "Churn result?: \n",
      " b'False\\n'\n",
      "\n",
      "instance: \n",
      " MA,112,415,358-7379,no,yes,17,183.2,95,31.14,252.8,125,21.49,156.7,95,7.05,9.7,3,2.62,0\n",
      "Churn result?: \n",
      " b'False\\n'\n",
      "\n",
      "instance: \n",
      " FL,91,510,387-9855,yes,yes,24,93.5,112,15.9,183.4,128,15.59,240.7,133,10.83,9.9,3,2.67,0\n",
      "Churn result?: \n",
      " b'False\\n'\n",
      "\n",
      "instance: \n",
      " SC,22,408,331-5138,no,no,0,110.3,107,18.75,166.5,93,14.15,202.3,96,9.1,9.5,5,2.57,0\n",
      "Churn result?: \n",
      " b'False\\n'\n",
      "\n",
      "instance: \n",
      " DC,102,415,402-9704,no,no,0,186.8,92,31.76,173.7,123,14.76,250.9,131,11.29,9.7,4,2.62,2\n",
      "Churn result?: \n",
      " b'False\\n'\n",
      "\n",
      "instance: \n",
      " ME,118,408,384-8723,yes,yes,21,156.5,122,26.61,209.2,125,17.78,158.7,81,7.14,11.1,3,3.0,4\n",
      "Churn result?: \n",
      " b'True\\n'\n",
      "\n",
      "instance: \n",
      " NM,178,415,398-1332,no,yes,35,175.4,88,29.82,190.0,65,16.15,138.7,94,6.24,10.5,3,2.84,2\n",
      "Churn result?: \n",
      " b'False\\n'\n",
      "\n",
      "instance: \n",
      " NV,107,510,419-9688,yes,no,0,234.1,91,39.8,163.1,105,13.86,282.5,100,12.71,10.0,3,2.7,1\n",
      "Churn result?: \n",
      " b'False\\n'\n",
      "\n",
      "instance: \n",
      " WY,94,408,344-4022,no,no,0,207.0,109,35.19,167.4,80,14.23,238.2,117,10.72,2.6,6,0.7,1\n",
      "Churn result?: \n",
      " b'False\\n'\n",
      "\n",
      "instance: \n",
      " OK,86,415,395-3852,no,yes,33,253.1,112,43.03,210.1,94,17.86,95.0,98,4.27,11.9,4,3.21,3\n",
      "Churn result?: \n",
      " b'False\\n'\n",
      "\n",
      "instance: \n",
      " NH,19,408,361-3337,no,no,0,186.1,98,31.64,254.3,57,21.62,214.0,127,9.63,14.6,7,3.94,2\n",
      "Churn result?: \n",
      " b'False\\n'\n",
      "\n",
      "instance: \n",
      " WI,72,408,383-9448,no,no,0,179.9,113,30.58,149.8,112,12.73,168.2,79,7.57,9.8,7,2.65,2\n",
      "Churn result?: \n",
      " b'False\\n'\n",
      "\n",
      "instance: \n",
      " CT,199,415,393-6733,no,yes,34,230.6,121,39.2,219.4,99,18.65,299.3,94,13.47,8.0,2,2.16,0\n",
      "Churn result?: \n",
      " b'False\\n'\n",
      "\n",
      "instance: \n",
      " CT,146,408,380-3329,no,yes,23,149.6,96,25.43,239.8,124,20.38,293.5,135,13.21,7.4,4,2.0,2\n",
      "Churn result?: \n",
      " b'False\\n'\n",
      "\n",
      "instance: \n",
      " AK,121,408,382-5743,no,yes,34,245.0,95,41.65,216.9,66,18.44,112.4,125,5.06,7.5,8,2.03,0\n",
      "Churn result?: \n",
      " b'False\\n'\n",
      "\n",
      "instance: \n",
      " WI,85,415,360-4320,no,no,0,102.0,95,17.34,270.2,139,22.97,148.2,105,6.67,10.7,3,2.89,1\n",
      "Churn result?: \n",
      " b'False\\n'\n",
      "\n",
      "instance: \n",
      " MD,29,510,367-1024,no,no,0,195.6,71,33.25,126.4,74,10.74,148.6,87,6.69,14.2,4,3.83,1\n",
      "Churn result?: \n",
      " b'False\\n'\n",
      "\n",
      "instance: \n",
      " TN,123,415,415-3016,no,yes,34,305.2,80,51.88,156.5,109,13.3,280.0,81,12.6,13.2,7,3.56,1\n",
      "Churn result?: \n",
      " b'False\\n'\n",
      "\n",
      "instance: \n",
      " TX,57,415,403-6225,no,no,0,161.0,113,27.37,208.0,134,17.68,208.1,81,9.36,8.4,4,2.27,3\n",
      "Churn result?: \n",
      " b'False\\n'\n",
      "\n"
     ]
    }
   ],
   "source": [
    "test_df = pd.read_csv(\"churn_data/batch_transform_test.csv\", header=None)\n",
    "\n",
    "for i in range(20):\n",
    "    sample = test_df.iloc[i,:]\n",
    "    instance = make_inference_format(sample)\n",
    "    print(\"instance: \\n\", instance)\n",
    "\n",
    "    payload = instance\n",
    "    churn_result = predictor.predict(payload)\n",
    "    print(\"Churn result?: \\n\", churn_result)\n",
    "    print(\"\")"
   ]
  },
  {
   "cell_type": "markdown",
   "metadata": {},
   "source": [
    "## Delete Endpoint\n",
    "- 작업을 완료 했으면, 필요 없는 리소스는 삭제"
   ]
  },
  {
   "cell_type": "code",
   "execution_count": 12,
   "metadata": {},
   "outputs": [
    {
     "data": {
      "text/plain": [
       "{'ResponseMetadata': {'RequestId': 'aa72b69b-cf69-4ffa-aa56-bb3a7ede5f49',\n",
       "  'HTTPStatusCode': 200,\n",
       "  'HTTPHeaders': {'x-amzn-requestid': 'aa72b69b-cf69-4ffa-aa56-bb3a7ede5f49',\n",
       "   'content-type': 'application/x-amz-json-1.1',\n",
       "   'content-length': '0',\n",
       "   'date': 'Mon, 03 Aug 2020 10:07:01 GMT'},\n",
       "  'RetryAttempts': 0}}"
      ]
     },
     "execution_count": 12,
     "metadata": {},
     "output_type": "execute_result"
    }
   ],
   "source": [
    "client.delete_endpoint(EndpointName=churn_endpoint_name)"
   ]
  },
  {
   "cell_type": "code",
   "execution_count": null,
   "metadata": {},
   "outputs": [],
   "source": []
  }
 ],
 "metadata": {
  "kernelspec": {
   "display_name": "conda_pytorch_p36",
   "language": "python",
   "name": "conda_pytorch_p36"
  },
  "language_info": {
   "codemirror_mode": {
    "name": "ipython",
    "version": 3
   },
   "file_extension": ".py",
   "mimetype": "text/x-python",
   "name": "python",
   "nbconvert_exporter": "python",
   "pygments_lexer": "ipython3",
   "version": "3.6.10"
  }
 },
 "nbformat": 4,
 "nbformat_minor": 4
}
