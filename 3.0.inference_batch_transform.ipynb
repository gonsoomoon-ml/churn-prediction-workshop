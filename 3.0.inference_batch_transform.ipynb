{
 "cells": [
  {
   "cell_type": "markdown",
   "metadata": {},
   "source": [
    "# An Example of Calling Batch Transform Job on the model SageMaker estimator made"
   ]
  },
  {
   "cell_type": "code",
   "execution_count": 1,
   "metadata": {},
   "outputs": [],
   "source": [
    "%store -r"
   ]
  },
  {
   "cell_type": "code",
   "execution_count": 6,
   "metadata": {},
   "outputs": [],
   "source": [
    "import boto3\n",
    "\n",
    "from sagemaker.transformer import Transformer\n",
    "import pandas as pd\n",
    "import sagemaker\n",
    "\n",
    "from time import strftime, gmtime\n",
    "\n",
    "sess = sagemaker.Session()\n",
    "\n",
    "role = sagemaker.get_execution_role()\n",
    "client = boto3.client('sagemaker')\n",
    "\n",
    "timestamp_prefix = strftime(\"%Y-%m-%d-%H-%M-%S\", gmtime())\n",
    "transform_job_name = 'churn-batch-transform-' + timestamp_prefix\n",
    "\n",
    "output_prefix = 'output'\n",
    "output_path = 's3://{}/{}/{}'.format(bucket, prefix, output_prefix)\n",
    "\n",
    "# Make Transformer object\n",
    "transformer = Transformer(base_transform_job_name = transform_job_name,\n",
    "                          model_name = model_name,\n",
    "                          instance_count=1,\n",
    "                          instance_type='ml.m4.xlarge',\n",
    "                          output_path= output_path\n",
    "                         )\n",
    "\n"
   ]
  },
  {
   "cell_type": "code",
   "execution_count": 7,
   "metadata": {},
   "outputs": [
    {
     "name": "stdout",
     "output_type": "stream",
     "text": [
      "s3://sagemaker-us-east-2-057716757052/sagemaker/customer-churn/rawtest/batch_transform_test.csv\n"
     ]
    }
   ],
   "source": [
    "import os\n",
    "\n",
    "s3_input_test_url = s3_input_test.config['DataSource']['S3DataSource']['S3Uri']\n",
    "s3_input_test_url = os.path.join(s3_input_test_url, 'batch_transform_test.csv')\n",
    "print(s3_input_test_url)"
   ]
  },
  {
   "cell_type": "code",
   "execution_count": 8,
   "metadata": {},
   "outputs": [
    {
     "name": "stdout",
     "output_type": "stream",
     "text": [
      "2020-07-15 03:34:44      29043 sagemaker/customer-churn/rawtest/batch_transform_test.csv\n"
     ]
    }
   ],
   "source": [
    "! aws s3 ls {s3_input_test_url} --recursive"
   ]
  },
  {
   "cell_type": "code",
   "execution_count": 9,
   "metadata": {},
   "outputs": [],
   "source": [
    "\n",
    "transformer.transform(s3_input_test_url,\n",
    "                      content_type='text/csv'\n",
    "                     )\n",
    "\n"
   ]
  },
  {
   "cell_type": "code",
   "execution_count": 10,
   "metadata": {
    "collapsed": true,
    "jupyter": {
     "outputs_hidden": true
    }
   },
   "outputs": [
    {
     "name": "stdout",
     "output_type": "stream",
     "text": [
      ".........................\u001b[34mProcessing /opt/ml/code\u001b[0m\n",
      "\u001b[34mBuilding wheels for collected packages: preprocessing\n",
      "  Building wheel for preprocessing (setup.py): started\n",
      "  Building wheel for preprocessing (setup.py): finished with status 'done'\n",
      "  Created wheel for preprocessing: filename=preprocessing-1.0.0-py2.py3-none-any.whl size=9703 sha256=7a2c5cf5d4d5e2916e496bb3891be7a23e47443f58aef274d2088ba57b94d15b\n",
      "  Stored in directory: /tmp/pip-ephem-wheel-cache-vza_gqto/wheels/35/24/16/37574d11bf9bde50616c67372a334f94fa8356bc7164af8ca3\u001b[0m\n",
      "\u001b[34mSuccessfully built preprocessing\u001b[0m\n",
      "\u001b[34mInstalling collected packages: preprocessing\u001b[0m\n",
      "\u001b[34mSuccessfully installed preprocessing-1.0.0\u001b[0m\n",
      "\u001b[35mProcessing /opt/ml/code\u001b[0m\n",
      "\u001b[35mBuilding wheels for collected packages: preprocessing\n",
      "  Building wheel for preprocessing (setup.py): started\n",
      "  Building wheel for preprocessing (setup.py): finished with status 'done'\n",
      "  Created wheel for preprocessing: filename=preprocessing-1.0.0-py2.py3-none-any.whl size=9703 sha256=7a2c5cf5d4d5e2916e496bb3891be7a23e47443f58aef274d2088ba57b94d15b\n",
      "  Stored in directory: /tmp/pip-ephem-wheel-cache-vza_gqto/wheels/35/24/16/37574d11bf9bde50616c67372a334f94fa8356bc7164af8ca3\u001b[0m\n",
      "\u001b[35mSuccessfully built preprocessing\u001b[0m\n",
      "\u001b[35mInstalling collected packages: preprocessing\u001b[0m\n",
      "\u001b[35mSuccessfully installed preprocessing-1.0.0\u001b[0m\n",
      "\u001b[32mArguments: serve\u001b[0m\n",
      "\u001b[32m[2020-07-15 07:47:34 +0000] [1] [INFO] Starting gunicorn 19.7.1\u001b[0m\n",
      "\u001b[32m[2020-07-15 07:47:34 +0000] [1] [INFO] Listening at: http://0.0.0.0:8080 (1)\u001b[0m\n",
      "\u001b[32m[2020-07-15 07:47:34 +0000] [1] [INFO] Using worker: gevent\u001b[0m\n",
      "\u001b[32m[2020-07-15 07:47:34 +0000] [36] [INFO] Booting worker with pid: 36\u001b[0m\n",
      "\u001b[32m[2020-07-15 07:47:34 +0000] [37] [INFO] Booting worker with pid: 37\u001b[0m\n",
      "\u001b[32m[2020-07-15 07:47:34 +0000] [38] [INFO] Booting worker with pid: 38\u001b[0m\n",
      "\u001b[32m[2020-07-15 07:47:34 +0000] [39] [INFO] Booting worker with pid: 39\u001b[0m\n",
      "\u001b[32m[2020-07-15:07:47:34:INFO] Model loaded successfully for worker : 36\u001b[0m\n",
      "\u001b[32m[2020-07-15:07:47:34:INFO] Model loaded successfully for worker : 37\u001b[0m\n",
      "\u001b[32m[2020-07-15:07:47:34:INFO] Model loaded successfully for worker : 38\u001b[0m\n",
      "\u001b[32m[2020-07-15:07:47:34:INFO] Model loaded successfully for worker : 39\u001b[0m\n",
      "\u001b[36mProcessing /opt/ml/code\u001b[0m\n",
      "\u001b[36mBuilding wheels for collected packages: preprocessing\n",
      "  Building wheel for preprocessing (setup.py): started\n",
      "  Building wheel for preprocessing (setup.py): finished with status 'done'\n",
      "  Created wheel for preprocessing: filename=preprocessing-1.0.0-py2.py3-none-any.whl size=9701 sha256=9256a8e6ea282467acc4ccb303192e6f7c78565b7f97a2d290ae7bb4b4ddefca\n",
      "  Stored in directory: /tmp/pip-ephem-wheel-cache-en02b40v/wheels/35/24/16/37574d11bf9bde50616c67372a334f94fa8356bc7164af8ca3\u001b[0m\n",
      "\u001b[36mSuccessfully built preprocessing\u001b[0m\n",
      "\u001b[36mInstalling collected packages: preprocessing\u001b[0m\n",
      "\u001b[36mSuccessfully installed preprocessing-1.0.0\u001b[0m\n",
      "\u001b[34m/miniconda3/lib/python3.7/site-packages/sklearn/externals/joblib/externals/cloudpickle/cloudpickle.py:47: DeprecationWarning: the imp module is deprecated in favour of importlib; see the module's documentation for alternative uses\n",
      "  import imp\u001b[0m\n",
      "\u001b[34m[2020-07-15 07:47:38 +0000] [37] [INFO] Starting gunicorn 19.9.0\u001b[0m\n",
      "\u001b[34m[2020-07-15 07:47:38 +0000] [37] [INFO] Listening at: unix:/tmp/gunicorn.sock (37)\u001b[0m\n",
      "\u001b[34m[2020-07-15 07:47:38 +0000] [37] [INFO] Using worker: gevent\u001b[0m\n",
      "\u001b[34m[2020-07-15 07:47:38 +0000] [40] [INFO] Booting worker with pid: 40\u001b[0m\n",
      "\u001b[34m[2020-07-15 07:47:38 +0000] [41] [INFO] Booting worker with pid: 41\u001b[0m\n",
      "\u001b[34m[2020-07-15 07:47:38 +0000] [45] [INFO] Booting worker with pid: 45\u001b[0m\n",
      "\u001b[35m/miniconda3/lib/python3.7/site-packages/sklearn/externals/joblib/externals/cloudpickle/cloudpickle.py:47: DeprecationWarning: the imp module is deprecated in favour of importlib; see the module's documentation for alternative uses\n",
      "  import imp\u001b[0m\n",
      "\u001b[35m[2020-07-15 07:47:38 +0000] [37] [INFO] Starting gunicorn 19.9.0\u001b[0m\n",
      "\u001b[35m[2020-07-15 07:47:38 +0000] [37] [INFO] Listening at: unix:/tmp/gunicorn.sock (37)\u001b[0m\n",
      "\u001b[35m[2020-07-15 07:47:38 +0000] [37] [INFO] Using worker: gevent\u001b[0m\n",
      "\u001b[35m[2020-07-15 07:47:38 +0000] [40] [INFO] Booting worker with pid: 40\u001b[0m\n",
      "\u001b[35m[2020-07-15 07:47:38 +0000] [41] [INFO] Booting worker with pid: 41\u001b[0m\n",
      "\u001b[35m[2020-07-15 07:47:38 +0000] [45] [INFO] Booting worker with pid: 45\u001b[0m\n",
      "\u001b[36m/miniconda3/lib/python3.7/site-packages/sklearn/externals/joblib/externals/cloudpickle/cloudpickle.py:47: DeprecationWarning: the imp module is deprecated in favour of importlib; see the module's documentation for alternative uses\n",
      "  import imp\u001b[0m\n",
      "\u001b[36m[2020-07-15 07:47:38 +0000] [37] [INFO] Starting gunicorn 19.9.0\u001b[0m\n",
      "\u001b[36m[2020-07-15 07:47:38 +0000] [37] [INFO] Listening at: unix:/tmp/gunicorn.sock (37)\u001b[0m\n",
      "\u001b[36m[2020-07-15 07:47:38 +0000] [37] [INFO] Using worker: gevent\u001b[0m\n",
      "\u001b[36m[2020-07-15 07:47:38 +0000] [40] [INFO] Booting worker with pid: 40\u001b[0m\n",
      "\u001b[36m[2020-07-15 07:47:38 +0000] [41] [INFO] Booting worker with pid: 41\u001b[0m\n",
      "\u001b[36m[2020-07-15 07:47:38 +0000] [42] [INFO] Booting worker with pid: 42\u001b[0m\n",
      "\u001b[36m[2020-07-15 07:47:38 +0000] [46] [INFO] Booting worker with pid: 46\u001b[0m\n",
      "\u001b[34m[2020-07-15 07:47:38 +0000] [46] [INFO] Booting worker with pid: 46\u001b[0m\n",
      "\u001b[35m[2020-07-15 07:47:38 +0000] [46] [INFO] Booting worker with pid: 46\u001b[0m\n",
      "\u001b[34m/miniconda3/lib/python3.7/site-packages/sklearn/externals/joblib/externals/cloudpickle/cloudpickle.py:47: DeprecationWarning: the imp module is deprecated in favour of importlib; see the module's documentation for alternative uses\n",
      "  import imp\u001b[0m\n",
      "\u001b[34m169.254.255.130 - - [15/Jul/2020:07:47:43 +0000] \"GET /ping HTTP/1.1\" 200 0 \"-\" \"Go-http-client/1.1\"\u001b[0m\n",
      "\u001b[34m2020-07-15 07:47:44,367 INFO - sagemaker-containers - No GPUs detected (normal if no gpus installed)\u001b[0m\n",
      "\u001b[35m/miniconda3/lib/python3.7/site-packages/sklearn/externals/joblib/externals/cloudpickle/cloudpickle.py:47: DeprecationWarning: the imp module is deprecated in favour of importlib; see the module's documentation for alternative uses\n",
      "  import imp\u001b[0m\n",
      "\u001b[35m169.254.255.130 - - [15/Jul/2020:07:47:43 +0000] \"GET /ping HTTP/1.1\" 200 0 \"-\" \"Go-http-client/1.1\"\u001b[0m\n",
      "\u001b[35m2020-07-15 07:47:44,367 INFO - sagemaker-containers - No GPUs detected (normal if no gpus installed)\u001b[0m\n",
      "\u001b[36m2020-07-15 07:47:43,812 INFO - sagemaker-containers - No GPUs detected (normal if no gpus installed)\u001b[0m\n",
      "\u001b[36m/miniconda3/lib/python3.7/site-packages/sklearn/externals/joblib/externals/cloudpickle/cloudpickle.py:47: DeprecationWarning: the imp module is deprecated in favour of importlib; see the module's documentation for alternative uses\n",
      "  import imp\u001b[0m\n",
      "\u001b[36m169.254.255.130 - - [15/Jul/2020:07:47:44 +0000] \"GET /ping HTTP/1.1\" 200 0 \"-\" \"Go-http-client/1.1\"\u001b[0m\n",
      "\u001b[34m/miniconda3/lib/python3.7/site-packages/sklearn/externals/joblib/externals/cloudpickle/cloudpickle.py:47: DeprecationWarning: the imp module is deprecated in favour of importlib; see the module's documentation for alternative uses\n",
      "  import imp\u001b[0m\n",
      "\u001b[35m/miniconda3/lib/python3.7/site-packages/sklearn/externals/joblib/externals/cloudpickle/cloudpickle.py:47: DeprecationWarning: the imp module is deprecated in favour of importlib; see the module's documentation for alternative uses\n",
      "  import imp\u001b[0m\n",
      "\u001b[34m169.254.255.130 - - [15/Jul/2020:07:47:44 +0000] \"GET /execution-parameters HTTP/1.1\" 404 232 \"-\" \"Go-http-client/1.1\"\u001b[0m\n",
      "\u001b[34m2020-07-15 07:47:45,308 INFO - sagemaker-containers - No GPUs detected (normal if no gpus installed)\u001b[0m\n",
      "\u001b[35m169.254.255.130 - - [15/Jul/2020:07:47:44 +0000] \"GET /execution-parameters HTTP/1.1\" 404 232 \"-\" \"Go-http-client/1.1\"\u001b[0m\n",
      "\u001b[35m2020-07-15 07:47:45,308 INFO - sagemaker-containers - No GPUs detected (normal if no gpus installed)\u001b[0m\n",
      "\u001b[36m2020-07-15 07:47:44,830 INFO - sagemaker-containers - No GPUs detected (normal if no gpus installed)\u001b[0m\n",
      "\u001b[36m/miniconda3/lib/python3.7/site-packages/sklearn/externals/joblib/externals/cloudpickle/cloudpickle.py:47: DeprecationWarning: the imp module is deprecated in favour of importlib; see the module's documentation for alternative uses\n",
      "  import imp\u001b[0m\n",
      "\u001b[36m169.254.255.130 - - [15/Jul/2020:07:47:45 +0000] \"GET /execution-parameters HTTP/1.1\" 404 232 \"-\" \"Go-http-client/1.1\"\u001b[0m\n",
      "\u001b[33m2020-07-15T07:47:45.281:[sagemaker logs]: MaxConcurrentTransforms=1, MaxPayloadInMB=6, BatchStrategy=MULTI_RECORD\u001b[0m\n",
      "\u001b[34m/miniconda3/lib/python3.7/site-packages/sklearn/externals/joblib/externals/cloudpickle/cloudpickle.py:47: DeprecationWarning: the imp module is deprecated in favour of importlib; see the module's documentation for alternative uses\n",
      "  import imp\u001b[0m\n",
      "\u001b[34m169.254.255.130 - - [15/Jul/2020:07:47:45 +0000] \"POST /invocations HTTP/1.1\" 200 149634 \"-\" \"Go-http-client/1.1\"\u001b[0m\n",
      "\u001b[35m/miniconda3/lib/python3.7/site-packages/sklearn/externals/joblib/externals/cloudpickle/cloudpickle.py:47: DeprecationWarning: the imp module is deprecated in favour of importlib; see the module's documentation for alternative uses\n",
      "  import imp\u001b[0m\n",
      "\u001b[35m169.254.255.130 - - [15/Jul/2020:07:47:45 +0000] \"POST /invocations HTTP/1.1\" 200 149634 \"-\" \"Go-http-client/1.1\"\u001b[0m\n",
      "\u001b[32m[2020-07-15:07:47:45:INFO] Sniff delimiter as ','\u001b[0m\n",
      "\u001b[32m[2020-07-15:07:47:45:INFO] Determined delimiter of CSV input is ','\u001b[0m\n",
      "\u001b[36m2020-07-15 07:47:45,828 INFO - sagemaker-containers - No GPUs detected (normal if no gpus installed)\u001b[0m\n",
      "\u001b[36m/miniconda3/lib/python3.7/site-packages/sklearn/externals/joblib/externals/cloudpickle/cloudpickle.py:47: DeprecationWarning: the imp module is deprecated in favour of importlib; see the module's documentation for alternative uses\n",
      "  import imp\u001b[0m\n",
      "\u001b[36m2020-07-15 07:47:46,287 INFO - root - Shape of the requested data: '(334, 1)'\u001b[0m\n",
      "\u001b[36m169.254.255.130 - - [15/Jul/2020:07:47:46 +0000] \"POST /invocations HTTP/1.1\" 200 1961 \"-\" \"Go-http-client/1.1\"\u001b[0m\n",
      "\n"
     ]
    }
   ],
   "source": [
    "transformer.wait()"
   ]
  },
  {
   "cell_type": "code",
   "execution_count": 16,
   "metadata": {},
   "outputs": [
    {
     "name": "stdout",
     "output_type": "stream",
     "text": [
      "2020-07-15 07:10:13       1961 sagemaker/customer-churn/output-transform-test/batch_transform_test.csv.out\n",
      "2020-07-15 07:47:47       1961 sagemaker/customer-churn/output/batch_transform_test.csv.out\n",
      "2020-07-15 06:40:43      34149 sagemaker/customer-churn/output/xgboost-2020-07-15-06-37-54-125/output/model.tar.gz\n"
     ]
    }
   ],
   "source": [
    "! aws s3 ls {output_path} --recursive"
   ]
  },
  {
   "cell_type": "code",
   "execution_count": 20,
   "metadata": {},
   "outputs": [
    {
     "name": "stdout",
     "output_type": "stream",
     "text": [
      "download: s3://sagemaker-us-east-2-057716757052/sagemaker/customer-churn/output/batch_transform_test.csv.out to output/batch_transform_test_output.csv\n"
     ]
    }
   ],
   "source": [
    "import os\n",
    "os.makedirs('output', exist_ok=True)\n",
    "\n",
    "! aws s3 cp {output_path}/batch_transform_test.csv.out 'output/batch_transform_test_output.csv'"
   ]
  },
  {
   "cell_type": "code",
   "execution_count": 21,
   "metadata": {},
   "outputs": [
    {
     "data": {
      "text/plain": [
       "False    291\n",
       "True      43\n",
       "Name: Churn, dtype: int64"
      ]
     },
     "execution_count": 21,
     "metadata": {},
     "output_type": "execute_result"
    }
   ],
   "source": [
    "\n",
    "df = pd.read_csv(\"output/batch_transform_test_output.csv\", names=[\"Churn\"])\n",
    "\n",
    "# print(df.info)\n",
    "# df\n",
    "\n",
    "df.Churn.value_counts()"
   ]
  },
  {
   "cell_type": "code",
   "execution_count": null,
   "metadata": {},
   "outputs": [],
   "source": []
  }
 ],
 "metadata": {
  "kernelspec": {
   "display_name": "conda_pytorch_p36",
   "language": "python",
   "name": "conda_pytorch_p36"
  },
  "language_info": {
   "codemirror_mode": {
    "name": "ipython",
    "version": 3
   },
   "file_extension": ".py",
   "mimetype": "text/x-python",
   "name": "python",
   "nbconvert_exporter": "python",
   "pygments_lexer": "ipython3",
   "version": "3.6.10"
  }
 },
 "nbformat": 4,
 "nbformat_minor": 4
}
