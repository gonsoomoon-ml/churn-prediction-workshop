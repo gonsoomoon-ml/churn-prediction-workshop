{
 "cells": [
  {
   "cell_type": "markdown",
   "metadata": {},
   "source": [
    "# [Module 3.0] Batch Transform Inference\n",
    "이 노트북에서는 아래와 같은 내용을 진행 합니다.\n",
    "- Bactch Transform Job 실행\n",
    "- Test 데이터의 결과 생성 (Churn의 유무를 True, False로 구분)\n",
    "- Ground Truth 데이터와 비교 (Confustion Matrix)\n",
    "- Evaluation Metrics 확인 (F1, Precision, Recall, Accuracy)\n",
    "\n",
    "실행 시간은 약 5분 소요 됩니다."
   ]
  },
  {
   "cell_type": "code",
   "execution_count": 1,
   "metadata": {},
   "outputs": [],
   "source": [
    "%store -r"
   ]
  },
  {
   "cell_type": "code",
   "execution_count": 2,
   "metadata": {},
   "outputs": [],
   "source": [
    "import boto3\n",
    "\n",
    "from sagemaker.transformer import Transformer\n",
    "import pandas as pd\n",
    "import sagemaker\n",
    "\n",
    "from time import strftime, gmtime\n",
    "\n",
    "sess = sagemaker.Session()\n",
    "role = sagemaker.get_execution_role()\n",
    "client = boto3.client('sagemaker')\n",
    "\n",
    "timestamp_prefix = strftime(\"%Y-%m-%d-%H-%M-%S\", gmtime())\n",
    "transform_job_name = 'churn-batch-transform-' + timestamp_prefix\n",
    "\n",
    "output_prefix = 'output'\n",
    "output_path = 's3://{}/{}/{}'.format(bucket, prefix, output_prefix)"
   ]
  },
  {
   "cell_type": "markdown",
   "metadata": {},
   "source": [
    "### Batch Transfomer 생성"
   ]
  },
  {
   "cell_type": "code",
   "execution_count": 3,
   "metadata": {},
   "outputs": [],
   "source": [
    "# Make Transformer object\n",
    "transformer = Transformer(base_transform_job_name = transform_job_name,\n",
    "                          model_name = model_name,\n",
    "                          instance_count=1,\n",
    "                          instance_type='ml.m4.xlarge',\n",
    "                          output_path= output_path\n",
    "                         )\n"
   ]
  },
  {
   "cell_type": "markdown",
   "metadata": {},
   "source": [
    "### Test할 데이타 준비"
   ]
  },
  {
   "cell_type": "code",
   "execution_count": 4,
   "metadata": {},
   "outputs": [
    {
     "name": "stdout",
     "output_type": "stream",
     "text": [
      "s3://sagemaker-us-east-2-057716757052/sagemaker/customer-churn/rawtest/batch_transform_test.csv\n"
     ]
    }
   ],
   "source": [
    "import os\n",
    "\n",
    "s3_input_test_url = s3_input_test.config['DataSource']['S3DataSource']['S3Uri']\n",
    "s3_input_test_url = os.path.join(s3_input_test_url, 'batch_transform_test.csv')\n",
    "print(s3_input_test_url)"
   ]
  },
  {
   "cell_type": "code",
   "execution_count": 5,
   "metadata": {},
   "outputs": [
    {
     "data": {
      "text/html": [
       "<div>\n",
       "<style scoped>\n",
       "    .dataframe tbody tr th:only-of-type {\n",
       "        vertical-align: middle;\n",
       "    }\n",
       "\n",
       "    .dataframe tbody tr th {\n",
       "        vertical-align: top;\n",
       "    }\n",
       "\n",
       "    .dataframe thead th {\n",
       "        text-align: right;\n",
       "    }\n",
       "</style>\n",
       "<table border=\"1\" class=\"dataframe\">\n",
       "  <thead>\n",
       "    <tr style=\"text-align: right;\">\n",
       "      <th></th>\n",
       "      <th>0</th>\n",
       "      <th>1</th>\n",
       "      <th>2</th>\n",
       "      <th>3</th>\n",
       "      <th>4</th>\n",
       "      <th>5</th>\n",
       "      <th>6</th>\n",
       "      <th>7</th>\n",
       "      <th>8</th>\n",
       "      <th>9</th>\n",
       "      <th>10</th>\n",
       "      <th>11</th>\n",
       "      <th>12</th>\n",
       "      <th>13</th>\n",
       "      <th>14</th>\n",
       "      <th>15</th>\n",
       "      <th>16</th>\n",
       "      <th>17</th>\n",
       "      <th>18</th>\n",
       "      <th>19</th>\n",
       "    </tr>\n",
       "  </thead>\n",
       "  <tbody>\n",
       "    <tr>\n",
       "      <th>0</th>\n",
       "      <td>KS</td>\n",
       "      <td>186</td>\n",
       "      <td>510</td>\n",
       "      <td>400-6454</td>\n",
       "      <td>no</td>\n",
       "      <td>no</td>\n",
       "      <td>0</td>\n",
       "      <td>137.8</td>\n",
       "      <td>97</td>\n",
       "      <td>23.43</td>\n",
       "      <td>187.7</td>\n",
       "      <td>118</td>\n",
       "      <td>15.95</td>\n",
       "      <td>146.4</td>\n",
       "      <td>85</td>\n",
       "      <td>6.59</td>\n",
       "      <td>8.7</td>\n",
       "      <td>6</td>\n",
       "      <td>2.35</td>\n",
       "      <td>1</td>\n",
       "    </tr>\n",
       "    <tr>\n",
       "      <th>1</th>\n",
       "      <td>MA</td>\n",
       "      <td>132</td>\n",
       "      <td>415</td>\n",
       "      <td>343-5372</td>\n",
       "      <td>no</td>\n",
       "      <td>yes</td>\n",
       "      <td>25</td>\n",
       "      <td>113.2</td>\n",
       "      <td>96</td>\n",
       "      <td>19.24</td>\n",
       "      <td>269.9</td>\n",
       "      <td>107</td>\n",
       "      <td>22.94</td>\n",
       "      <td>229.1</td>\n",
       "      <td>87</td>\n",
       "      <td>10.31</td>\n",
       "      <td>7.1</td>\n",
       "      <td>7</td>\n",
       "      <td>1.92</td>\n",
       "      <td>2</td>\n",
       "    </tr>\n",
       "    <tr>\n",
       "      <th>2</th>\n",
       "      <td>MA</td>\n",
       "      <td>112</td>\n",
       "      <td>415</td>\n",
       "      <td>358-7379</td>\n",
       "      <td>no</td>\n",
       "      <td>yes</td>\n",
       "      <td>17</td>\n",
       "      <td>183.2</td>\n",
       "      <td>95</td>\n",
       "      <td>31.14</td>\n",
       "      <td>252.8</td>\n",
       "      <td>125</td>\n",
       "      <td>21.49</td>\n",
       "      <td>156.7</td>\n",
       "      <td>95</td>\n",
       "      <td>7.05</td>\n",
       "      <td>9.7</td>\n",
       "      <td>3</td>\n",
       "      <td>2.62</td>\n",
       "      <td>0</td>\n",
       "    </tr>\n",
       "    <tr>\n",
       "      <th>3</th>\n",
       "      <td>FL</td>\n",
       "      <td>91</td>\n",
       "      <td>510</td>\n",
       "      <td>387-9855</td>\n",
       "      <td>yes</td>\n",
       "      <td>yes</td>\n",
       "      <td>24</td>\n",
       "      <td>93.5</td>\n",
       "      <td>112</td>\n",
       "      <td>15.90</td>\n",
       "      <td>183.4</td>\n",
       "      <td>128</td>\n",
       "      <td>15.59</td>\n",
       "      <td>240.7</td>\n",
       "      <td>133</td>\n",
       "      <td>10.83</td>\n",
       "      <td>9.9</td>\n",
       "      <td>3</td>\n",
       "      <td>2.67</td>\n",
       "      <td>0</td>\n",
       "    </tr>\n",
       "    <tr>\n",
       "      <th>4</th>\n",
       "      <td>SC</td>\n",
       "      <td>22</td>\n",
       "      <td>408</td>\n",
       "      <td>331-5138</td>\n",
       "      <td>no</td>\n",
       "      <td>no</td>\n",
       "      <td>0</td>\n",
       "      <td>110.3</td>\n",
       "      <td>107</td>\n",
       "      <td>18.75</td>\n",
       "      <td>166.5</td>\n",
       "      <td>93</td>\n",
       "      <td>14.15</td>\n",
       "      <td>202.3</td>\n",
       "      <td>96</td>\n",
       "      <td>9.10</td>\n",
       "      <td>9.5</td>\n",
       "      <td>5</td>\n",
       "      <td>2.57</td>\n",
       "      <td>0</td>\n",
       "    </tr>\n",
       "  </tbody>\n",
       "</table>\n",
       "</div>"
      ],
      "text/plain": [
       "   0    1    2         3    4    5   6      7    8      9      10   11     12  \\\n",
       "0  KS  186  510  400-6454   no   no   0  137.8   97  23.43  187.7  118  15.95   \n",
       "1  MA  132  415  343-5372   no  yes  25  113.2   96  19.24  269.9  107  22.94   \n",
       "2  MA  112  415  358-7379   no  yes  17  183.2   95  31.14  252.8  125  21.49   \n",
       "3  FL   91  510  387-9855  yes  yes  24   93.5  112  15.90  183.4  128  15.59   \n",
       "4  SC   22  408  331-5138   no   no   0  110.3  107  18.75  166.5   93  14.15   \n",
       "\n",
       "      13   14     15   16  17    18  19  \n",
       "0  146.4   85   6.59  8.7   6  2.35   1  \n",
       "1  229.1   87  10.31  7.1   7  1.92   2  \n",
       "2  156.7   95   7.05  9.7   3  2.62   0  \n",
       "3  240.7  133  10.83  9.9   3  2.67   0  \n",
       "4  202.3   96   9.10  9.5   5  2.57   0  "
      ]
     },
     "execution_count": 5,
     "metadata": {},
     "output_type": "execute_result"
    }
   ],
   "source": [
    "test_df = pd.read_csv(s3_input_test_url, header=None)\n",
    "test_df.head()"
   ]
  },
  {
   "cell_type": "markdown",
   "metadata": {},
   "source": [
    "### Batch Transformer 실행"
   ]
  },
  {
   "cell_type": "code",
   "execution_count": 6,
   "metadata": {
    "collapsed": true,
    "jupyter": {
     "outputs_hidden": true
    }
   },
   "outputs": [
    {
     "name": "stdout",
     "output_type": "stream",
     "text": [
      "..........................\u001b[34mProcessing /opt/ml/code\u001b[0m\n",
      "\u001b[34mBuilding wheels for collected packages: preprocessing\n",
      "  Building wheel for preprocessing (setup.py): started\n",
      "  Building wheel for preprocessing (setup.py): finished with status 'done'\n",
      "  Created wheel for preprocessing: filename=preprocessing-1.0.0-py2.py3-none-any.whl size=9703 sha256=4a75996898da684c45dbc64de7c06c90cb700136abbd76ce37a917987b9c0508\n",
      "  Stored in directory: /tmp/pip-ephem-wheel-cache-7xzqorl3/wheels/35/24/16/37574d11bf9bde50616c67372a334f94fa8356bc7164af8ca3\u001b[0m\n",
      "\u001b[34mSuccessfully built preprocessing\u001b[0m\n",
      "\u001b[34mInstalling collected packages: preprocessing\u001b[0m\n",
      "\u001b[34mSuccessfully installed preprocessing-1.0.0\u001b[0m\n",
      "\u001b[35mProcessing /opt/ml/code\u001b[0m\n",
      "\u001b[35mBuilding wheels for collected packages: preprocessing\n",
      "  Building wheel for preprocessing (setup.py): started\n",
      "  Building wheel for preprocessing (setup.py): finished with status 'done'\n",
      "  Created wheel for preprocessing: filename=preprocessing-1.0.0-py2.py3-none-any.whl size=9703 sha256=4a75996898da684c45dbc64de7c06c90cb700136abbd76ce37a917987b9c0508\n",
      "  Stored in directory: /tmp/pip-ephem-wheel-cache-7xzqorl3/wheels/35/24/16/37574d11bf9bde50616c67372a334f94fa8356bc7164af8ca3\u001b[0m\n",
      "\u001b[35mSuccessfully built preprocessing\u001b[0m\n",
      "\u001b[35mInstalling collected packages: preprocessing\u001b[0m\n",
      "\u001b[35mSuccessfully installed preprocessing-1.0.0\u001b[0m\n",
      "\u001b[32mArguments: serve\u001b[0m\n",
      "\u001b[32m[2020-07-19 02:47:19 +0000] [1] [INFO] Starting gunicorn 19.7.1\u001b[0m\n",
      "\u001b[32m[2020-07-19 02:47:19 +0000] [1] [INFO] Listening at: http://0.0.0.0:8080 (1)\u001b[0m\n",
      "\u001b[32m[2020-07-19 02:47:19 +0000] [1] [INFO] Using worker: gevent\u001b[0m\n",
      "\u001b[32m[2020-07-19 02:47:19 +0000] [40] [INFO] Booting worker with pid: 40\u001b[0m\n",
      "\u001b[32m[2020-07-19 02:47:20 +0000] [41] [INFO] Booting worker with pid: 41\u001b[0m\n",
      "\u001b[32m[2020-07-19:02:47:20:INFO] Model loaded successfully for worker : 40\u001b[0m\n",
      "\u001b[32m[2020-07-19 02:47:20 +0000] [42] [INFO] Booting worker with pid: 42\u001b[0m\n",
      "\u001b[32m[2020-07-19 02:47:20 +0000] [43] [INFO] Booting worker with pid: 43\u001b[0m\n",
      "\u001b[32m[2020-07-19:02:47:20:INFO] Model loaded successfully for worker : 42\u001b[0m\n",
      "\u001b[32m[2020-07-19:02:47:20:INFO] Model loaded successfully for worker : 43\u001b[0m\n",
      "\u001b[32m[2020-07-19:02:47:20:INFO] Model loaded successfully for worker : 41\u001b[0m\n",
      "\u001b[36mProcessing /opt/ml/code\u001b[0m\n",
      "\u001b[36mBuilding wheels for collected packages: preprocessing\n",
      "  Building wheel for preprocessing (setup.py): started\n",
      "  Building wheel for preprocessing (setup.py): finished with status 'done'\n",
      "  Created wheel for preprocessing: filename=preprocessing-1.0.0-py2.py3-none-any.whl size=9701 sha256=f95adb2ffddb37de3687323dd0f04052b7312b74cb7d31b1808c3f6716a1b23c\n",
      "  Stored in directory: /tmp/pip-ephem-wheel-cache-r4ax6t9h/wheels/35/24/16/37574d11bf9bde50616c67372a334f94fa8356bc7164af8ca3\u001b[0m\n",
      "\u001b[36mSuccessfully built preprocessing\u001b[0m\n",
      "\u001b[36mInstalling collected packages: preprocessing\u001b[0m\n",
      "\u001b[36mSuccessfully installed preprocessing-1.0.0\u001b[0m\n",
      "\u001b[34m/miniconda3/lib/python3.7/site-packages/sklearn/externals/joblib/externals/cloudpickle/cloudpickle.py:47: DeprecationWarning: the imp module is deprecated in favour of importlib; see the module's documentation for alternative uses\n",
      "  import imp\u001b[0m\n",
      "\u001b[35m/miniconda3/lib/python3.7/site-packages/sklearn/externals/joblib/externals/cloudpickle/cloudpickle.py:47: DeprecationWarning: the imp module is deprecated in favour of importlib; see the module's documentation for alternative uses\n",
      "  import imp\u001b[0m\n",
      "\u001b[36m/miniconda3/lib/python3.7/site-packages/sklearn/externals/joblib/externals/cloudpickle/cloudpickle.py:47: DeprecationWarning: the imp module is deprecated in favour of importlib; see the module's documentation for alternative uses\n",
      "  import imp\u001b[0m\n",
      "\u001b[36m[2020-07-19 02:47:23 +0000] [39] [INFO] Starting gunicorn 19.9.0\u001b[0m\n",
      "\u001b[36m[2020-07-19 02:47:23 +0000] [39] [INFO] Listening at: unix:/tmp/gunicorn.sock (39)\u001b[0m\n",
      "\u001b[36m[2020-07-19 02:47:23 +0000] [39] [INFO] Using worker: gevent\u001b[0m\n",
      "\u001b[36m[2020-07-19 02:47:23 +0000] [42] [INFO] Booting worker with pid: 42\u001b[0m\n",
      "\u001b[36m[2020-07-19 02:47:23 +0000] [43] [INFO] Booting worker with pid: 43\u001b[0m\n",
      "\u001b[34m[2020-07-19 02:47:23 +0000] [36] [INFO] Starting gunicorn 19.9.0\u001b[0m\n",
      "\u001b[34m[2020-07-19 02:47:23 +0000] [36] [INFO] Listening at: unix:/tmp/gunicorn.sock (36)\u001b[0m\n",
      "\u001b[34m[2020-07-19 02:47:23 +0000] [36] [INFO] Using worker: gevent\u001b[0m\n",
      "\u001b[34m[2020-07-19 02:47:23 +0000] [39] [INFO] Booting worker with pid: 39\u001b[0m\n",
      "\u001b[34m[2020-07-19 02:47:23 +0000] [40] [INFO] Booting worker with pid: 40\u001b[0m\n",
      "\u001b[34m[2020-07-19 02:47:23 +0000] [44] [INFO] Booting worker with pid: 44\u001b[0m\n",
      "\u001b[34m[2020-07-19 02:47:24 +0000] [48] [INFO] Booting worker with pid: 48\u001b[0m\n",
      "\u001b[35m[2020-07-19 02:47:23 +0000] [36] [INFO] Starting gunicorn 19.9.0\u001b[0m\n",
      "\u001b[35m[2020-07-19 02:47:23 +0000] [36] [INFO] Listening at: unix:/tmp/gunicorn.sock (36)\u001b[0m\n",
      "\u001b[35m[2020-07-19 02:47:23 +0000] [36] [INFO] Using worker: gevent\u001b[0m\n",
      "\u001b[35m[2020-07-19 02:47:23 +0000] [39] [INFO] Booting worker with pid: 39\u001b[0m\n",
      "\u001b[35m[2020-07-19 02:47:23 +0000] [40] [INFO] Booting worker with pid: 40\u001b[0m\n",
      "\u001b[35m[2020-07-19 02:47:23 +0000] [44] [INFO] Booting worker with pid: 44\u001b[0m\n",
      "\u001b[35m[2020-07-19 02:47:24 +0000] [48] [INFO] Booting worker with pid: 48\u001b[0m\n",
      "\u001b[36m[2020-07-19 02:47:23 +0000] [44] [INFO] Booting worker with pid: 44\u001b[0m\n",
      "\u001b[36m[2020-07-19 02:47:23 +0000] [48] [INFO] Booting worker with pid: 48\u001b[0m\n",
      "\u001b[34m2020-07-19 02:47:28,684 INFO - sagemaker-containers - No GPUs detected (normal if no gpus installed)\u001b[0m\n",
      "\u001b[35m2020-07-19 02:47:28,684 INFO - sagemaker-containers - No GPUs detected (normal if no gpus installed)\u001b[0m\n",
      "\u001b[34m/miniconda3/lib/python3.7/site-packages/sklearn/externals/joblib/externals/cloudpickle/cloudpickle.py:47: DeprecationWarning: the imp module is deprecated in favour of importlib; see the module's documentation for alternative uses\n",
      "  import imp\u001b[0m\n",
      "\u001b[34m169.254.255.130 - - [19/Jul/2020:02:47:29 +0000] \"GET /ping HTTP/1.1\" 200 0 \"-\" \"Go-http-client/1.1\"\u001b[0m\n",
      "\u001b[34m2020-07-19 02:47:29,737 INFO - sagemaker-containers - No GPUs detected (normal if no gpus installed)\u001b[0m\n",
      "\u001b[35m/miniconda3/lib/python3.7/site-packages/sklearn/externals/joblib/externals/cloudpickle/cloudpickle.py:47: DeprecationWarning: the imp module is deprecated in favour of importlib; see the module's documentation for alternative uses\n",
      "  import imp\u001b[0m\n",
      "\u001b[35m169.254.255.130 - - [19/Jul/2020:02:47:29 +0000] \"GET /ping HTTP/1.1\" 200 0 \"-\" \"Go-http-client/1.1\"\u001b[0m\n",
      "\u001b[35m2020-07-19 02:47:29,737 INFO - sagemaker-containers - No GPUs detected (normal if no gpus installed)\u001b[0m\n",
      "\u001b[36m2020-07-19 02:47:29,263 INFO - sagemaker-containers - No GPUs detected (normal if no gpus installed)\u001b[0m\n",
      "\u001b[36m/miniconda3/lib/python3.7/site-packages/sklearn/externals/joblib/externals/cloudpickle/cloudpickle.py:47: DeprecationWarning: the imp module is deprecated in favour of importlib; see the module's documentation for alternative uses\n",
      "  import imp\u001b[0m\n",
      "\u001b[36m169.254.255.130 - - [19/Jul/2020:02:47:29 +0000] \"GET /ping HTTP/1.1\" 200 0 \"-\" \"Go-http-client/1.1\"\u001b[0m\n",
      "\u001b[34m/miniconda3/lib/python3.7/site-packages/sklearn/externals/joblib/externals/cloudpickle/cloudpickle.py:47: DeprecationWarning: the imp module is deprecated in favour of importlib; see the module's documentation for alternative uses\n",
      "  import imp\u001b[0m\n",
      "\u001b[34m169.254.255.130 - - [19/Jul/2020:02:47:30 +0000] \"GET /execution-parameters HTTP/1.1\" 404 232 \"-\" \"Go-http-client/1.1\"\u001b[0m\n",
      "\u001b[34m2020-07-19 02:47:30,703 INFO - sagemaker-containers - No GPUs detected (normal if no gpus installed)\u001b[0m\n",
      "\u001b[35m/miniconda3/lib/python3.7/site-packages/sklearn/externals/joblib/externals/cloudpickle/cloudpickle.py:47: DeprecationWarning: the imp module is deprecated in favour of importlib; see the module's documentation for alternative uses\n",
      "  import imp\u001b[0m\n",
      "\u001b[35m169.254.255.130 - - [19/Jul/2020:02:47:30 +0000] \"GET /execution-parameters HTTP/1.1\" 404 232 \"-\" \"Go-http-client/1.1\"\u001b[0m\n",
      "\u001b[35m2020-07-19 02:47:30,703 INFO - sagemaker-containers - No GPUs detected (normal if no gpus installed)\u001b[0m\n",
      "\u001b[36m2020-07-19 02:47:30,203 INFO - sagemaker-containers - No GPUs detected (normal if no gpus installed)\u001b[0m\n",
      "\u001b[36m/miniconda3/lib/python3.7/site-packages/sklearn/externals/joblib/externals/cloudpickle/cloudpickle.py:47: DeprecationWarning: the imp module is deprecated in favour of importlib; see the module's documentation for alternative uses\n",
      "  import imp\u001b[0m\n",
      "\u001b[36m169.254.255.130 - - [19/Jul/2020:02:47:30 +0000] \"GET /execution-parameters HTTP/1.1\" 404 232 \"-\" \"Go-http-client/1.1\"\u001b[0m\n",
      "\u001b[34m/miniconda3/lib/python3.7/site-packages/sklearn/externals/joblib/externals/cloudpickle/cloudpickle.py:47: DeprecationWarning: the imp module is deprecated in favour of importlib; see the module's documentation for alternative uses\n",
      "  import imp\u001b[0m\n",
      "\u001b[34m169.254.255.130 - - [19/Jul/2020:02:47:31 +0000] \"POST /invocations HTTP/1.1\" 200 149634 \"-\" \"Go-http-client/1.1\"\u001b[0m\n",
      "\u001b[35m/miniconda3/lib/python3.7/site-packages/sklearn/externals/joblib/externals/cloudpickle/cloudpickle.py:47: DeprecationWarning: the imp module is deprecated in favour of importlib; see the module's documentation for alternative uses\n",
      "  import imp\u001b[0m\n",
      "\u001b[35m169.254.255.130 - - [19/Jul/2020:02:47:31 +0000] \"POST /invocations HTTP/1.1\" 200 149634 \"-\" \"Go-http-client/1.1\"\u001b[0m\n",
      "\u001b[36m2020-07-19 02:47:31,228 INFO - root - Shape of the requested data: '(334, 1)'\u001b[0m\n",
      "\u001b[36m169.254.255.130 - - [19/Jul/2020:02:47:31 +0000] \"POST /invocations HTTP/1.1\" 200 1961 \"-\" \"Go-http-client/1.1\"\u001b[0m\n",
      "\n",
      "\u001b[32m[2020-07-19:02:47:31:INFO] Sniff delimiter as ','\u001b[0m\n",
      "\u001b[32m[2020-07-19:02:47:31:INFO] Determined delimiter of CSV input is ','\u001b[0m\n",
      "\u001b[33m2020-07-19T02:47:30.666:[sagemaker logs]: MaxConcurrentTransforms=1, MaxPayloadInMB=6, BatchStrategy=MULTI_RECORD\u001b[0m\n"
     ]
    }
   ],
   "source": [
    "transformer.transform(s3_input_test_url,\n",
    "                      content_type='text/csv'\n",
    "                     )\n",
    "transformer.wait()"
   ]
  },
  {
   "cell_type": "markdown",
   "metadata": {},
   "source": [
    "결과 파일을 로컬에 복사"
   ]
  },
  {
   "cell_type": "markdown",
   "metadata": {},
   "source": [
    "## 예측 결과 확인"
   ]
  },
  {
   "cell_type": "code",
   "execution_count": 7,
   "metadata": {},
   "outputs": [
    {
     "name": "stdout",
     "output_type": "stream",
     "text": [
      "download: s3://sagemaker-us-east-2-057716757052/sagemaker/customer-churn/output/batch_transform_test.csv.out to output/batch_transform_test_output.csv\n"
     ]
    }
   ],
   "source": [
    "import os\n",
    "os.makedirs('output', exist_ok=True)\n",
    "\n",
    "! aws s3 cp {output_path}/batch_transform_test.csv.out 'output/batch_transform_test_output.csv'"
   ]
  },
  {
   "cell_type": "markdown",
   "metadata": {},
   "source": [
    "예측 결과를 확인 (334 명 중에서 43명이 이탈 예상. 약 13%)"
   ]
  },
  {
   "cell_type": "code",
   "execution_count": 8,
   "metadata": {},
   "outputs": [
    {
     "data": {
      "text/plain": [
       "False    291\n",
       "True      43\n",
       "Name: Churn, dtype: int64"
      ]
     },
     "execution_count": 8,
     "metadata": {},
     "output_type": "execute_result"
    }
   ],
   "source": [
    "df_churn = pd.read_csv(\"output/batch_transform_test_output.csv\", names=[\"Churn\"])\n",
    "df_churn.Churn.value_counts()"
   ]
  },
  {
   "cell_type": "markdown",
   "metadata": {},
   "source": [
    "## 실제 데이타와 예측 결과 비교"
   ]
  },
  {
   "cell_type": "code",
   "execution_count": 9,
   "metadata": {},
   "outputs": [],
   "source": [
    "df_true = pd.read_csv(\"churn_data/batch_transform_test_true.csv\", header=None)\n",
    "df_true_label = df_true.iloc[:,-1]"
   ]
  },
  {
   "cell_type": "code",
   "execution_count": 10,
   "metadata": {},
   "outputs": [
    {
     "name": "stdout",
     "output_type": "stream",
     "text": [
      "Ground Truth Vales:\n"
     ]
    },
    {
     "data": {
      "text/plain": [
       "False    286\n",
       "True      48\n",
       "Name: 20, dtype: int64"
      ]
     },
     "execution_count": 10,
     "metadata": {},
     "output_type": "execute_result"
    }
   ],
   "source": [
    "# Replace \"False.\" --> False, \"True.\" --> True\n",
    "def clean_raw_data(churn_raw):\n",
    "    df_churn = churn_raw.copy()\n",
    "    df_churn = df_churn.replace({'True.' : True, 'False.' : False})\n",
    "    \n",
    "    return df_churn\n",
    "\n",
    "df_true = clean_raw_data(df_true_label)\n",
    "print(\"Ground Truth Vales:\")\n",
    "df_true.value_counts()"
   ]
  },
  {
   "cell_type": "markdown",
   "metadata": {},
   "source": [
    "## Confusion Matrix 생성"
   ]
  },
  {
   "cell_type": "code",
   "execution_count": 11,
   "metadata": {},
   "outputs": [
    {
     "data": {
      "text/html": [
       "<div>\n",
       "<style scoped>\n",
       "    .dataframe tbody tr th:only-of-type {\n",
       "        vertical-align: middle;\n",
       "    }\n",
       "\n",
       "    .dataframe tbody tr th {\n",
       "        vertical-align: top;\n",
       "    }\n",
       "\n",
       "    .dataframe thead th {\n",
       "        text-align: right;\n",
       "    }\n",
       "</style>\n",
       "<table border=\"1\" class=\"dataframe\">\n",
       "  <thead>\n",
       "    <tr style=\"text-align: right;\">\n",
       "      <th></th>\n",
       "      <th>y_actual</th>\n",
       "      <th>y_predict</th>\n",
       "    </tr>\n",
       "  </thead>\n",
       "  <tbody>\n",
       "    <tr>\n",
       "      <th>0</th>\n",
       "      <td>False</td>\n",
       "      <td>False</td>\n",
       "    </tr>\n",
       "    <tr>\n",
       "      <th>1</th>\n",
       "      <td>False</td>\n",
       "      <td>False</td>\n",
       "    </tr>\n",
       "    <tr>\n",
       "      <th>2</th>\n",
       "      <td>False</td>\n",
       "      <td>False</td>\n",
       "    </tr>\n",
       "  </tbody>\n",
       "</table>\n",
       "</div>"
      ],
      "text/plain": [
       "   y_actual  y_predict\n",
       "0     False      False\n",
       "1     False      False\n",
       "2     False      False"
      ]
     },
     "execution_count": 11,
     "metadata": {},
     "output_type": "execute_result"
    }
   ],
   "source": [
    "data = { 'y_actual' : df_churn.Churn.to_list(),\n",
    "         'y_predict' : df_true.to_list()\n",
    "       }\n",
    "df_churn_comp = pd.DataFrame(data, columns=['y_actual','y_predict' ])\n",
    "df_churn_comp.head(3)"
   ]
  },
  {
   "cell_type": "code",
   "execution_count": 12,
   "metadata": {},
   "outputs": [
    {
     "data": {
      "text/html": [
       "<div>\n",
       "<style scoped>\n",
       "    .dataframe tbody tr th:only-of-type {\n",
       "        vertical-align: middle;\n",
       "    }\n",
       "\n",
       "    .dataframe tbody tr th {\n",
       "        vertical-align: top;\n",
       "    }\n",
       "\n",
       "    .dataframe thead th {\n",
       "        text-align: right;\n",
       "    }\n",
       "</style>\n",
       "<table border=\"1\" class=\"dataframe\">\n",
       "  <thead>\n",
       "    <tr style=\"text-align: right;\">\n",
       "      <th>Predict</th>\n",
       "      <th>False</th>\n",
       "      <th>True</th>\n",
       "    </tr>\n",
       "    <tr>\n",
       "      <th>Actual</th>\n",
       "      <th></th>\n",
       "      <th></th>\n",
       "    </tr>\n",
       "  </thead>\n",
       "  <tbody>\n",
       "    <tr>\n",
       "      <th>False</th>\n",
       "      <td>282</td>\n",
       "      <td>9</td>\n",
       "    </tr>\n",
       "    <tr>\n",
       "      <th>True</th>\n",
       "      <td>4</td>\n",
       "      <td>39</td>\n",
       "    </tr>\n",
       "  </tbody>\n",
       "</table>\n",
       "</div>"
      ],
      "text/plain": [
       "Predict  False  True \n",
       "Actual               \n",
       "False      282      9\n",
       "True         4     39"
      ]
     },
     "execution_count": 12,
     "metadata": {},
     "output_type": "execute_result"
    }
   ],
   "source": [
    "import seaborn as sn\n",
    "import matplotlib.pyplot as plt\n",
    "\n",
    "confusion_matrix = pd.crosstab(df_churn_comp['y_actual'], \n",
    "                               df_churn_comp['y_predict'], \n",
    "                               rownames=['Actual'],\n",
    "                               colnames=['Predict'])\n",
    "\n",
    "confusion_matrix\n"
   ]
  },
  {
   "cell_type": "code",
   "execution_count": 13,
   "metadata": {},
   "outputs": [
    {
     "data": {
      "image/png": "[encoded data removed]",
      "text/plain": [
       "<Figure size 432x288 with 2 Axes>"
      ]
     },
     "metadata": {
      "needs_background": "light"
     },
     "output_type": "display_data"
    }
   ],
   "source": [
    "sn.heatmap(confusion_matrix, annot=True)\n",
    "plt.show()"
   ]
  },
  {
   "cell_type": "markdown",
   "metadata": {},
   "source": [
    "## Evaluation Metrics 확인"
   ]
  },
  {
   "cell_type": "code",
   "execution_count": 14,
   "metadata": {},
   "outputs": [
    {
     "name": "stdout",
     "output_type": "stream",
     "text": [
      "f1 metric:  0.8571428571428572\n",
      "precision :  0.8125\n",
      "recall_score :  0.9069767441860465\n",
      "accuracy:  0.9610778443113772\n"
     ]
    }
   ],
   "source": [
    "from sklearn.metrics import f1_score, precision_score, recall_score, accuracy_score\n",
    "print(\"f1 metric: \", f1_score(df_churn_comp['y_actual'],df_churn_comp['y_predict'] ))\n",
    "print(\"precision : \", precision_score(df_churn_comp['y_actual'],df_churn_comp['y_predict'] ))\n",
    "print(\"recall_score : \", recall_score(df_churn_comp['y_actual'],df_churn_comp['y_predict'] ))\n",
    "print(\"accuracy: \", accuracy_score(df_churn_comp['y_actual'],df_churn_comp['y_predict'] ))"
   ]
  },
  {
   "cell_type": "code",
   "execution_count": 15,
   "metadata": {},
   "outputs": [
    {
     "name": "stdout",
     "output_type": "stream",
     "text": [
      "Stored 'model_name' (str)\n"
     ]
    }
   ],
   "source": [
    "%store model_name"
   ]
  },
  {
   "cell_type": "code",
   "execution_count": null,
   "metadata": {},
   "outputs": [],
   "source": []
  }
 ],
 "metadata": {
  "kernelspec": {
   "display_name": "conda_pytorch_p36",
   "language": "python",
   "name": "conda_pytorch_p36"
  },
  "language_info": {
   "codemirror_mode": {
    "name": "ipython",
    "version": 3
   },
   "file_extension": ".py",
   "mimetype": "text/x-python",
   "name": "python",
   "nbconvert_exporter": "python",
   "pygments_lexer": "ipython3",
   "version": "3.6.10"
  }
 },
 "nbformat": 4,
 "nbformat_minor": 4
}
