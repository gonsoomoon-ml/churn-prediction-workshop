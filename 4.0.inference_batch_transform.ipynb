{
 "cells": [
  {
   "cell_type": "markdown",
   "metadata": {},
   "source": [
    "# An Example of Calling Batch Transform Job on the model SageMaker estimator made"
   ]
  },
  {
   "cell_type": "code",
   "execution_count": 24,
   "metadata": {},
   "outputs": [],
   "source": [
    "%store -r"
   ]
  },
  {
   "cell_type": "code",
   "execution_count": 25,
   "metadata": {},
   "outputs": [],
   "source": [
    "import boto3\n",
    "\n",
    "from sagemaker.transformer import Transformer\n",
    "import pandas as pd\n",
    "import sagemaker\n",
    "\n",
    "from time import strftime, gmtime\n",
    "\n",
    "sess = sagemaker.Session()\n",
    "\n",
    "role = sagemaker.get_execution_role()\n",
    "client = boto3.client('sagemaker')\n",
    "\n",
    "timestamp_prefix = strftime(\"%Y-%m-%d-%H-%M-%S\", gmtime())\n",
    "transform_job_name = 'churn-batch-transform-' + timestamp_prefix\n",
    "\n",
    "output_prefix = 'output'\n",
    "output_path = 's3://{}/{}/{}'.format(bucket, prefix, output_prefix)\n",
    "\n",
    "# Make Transformer object\n",
    "transformer = Transformer(base_transform_job_name = transform_job_name,\n",
    "                          model_name = model_name,\n",
    "                          instance_count=1,\n",
    "                          instance_type='ml.m4.xlarge',\n",
    "                          output_path= output_path\n",
    "                         )\n",
    "\n"
   ]
  },
  {
   "cell_type": "code",
   "execution_count": 26,
   "metadata": {},
   "outputs": [
    {
     "name": "stdout",
     "output_type": "stream",
     "text": [
      "s3://sagemaker-us-east-2-057716757052/sagemaker/customer-churn/rawtest/batch_transform_test.csv\n"
     ]
    }
   ],
   "source": [
    "import os\n",
    "\n",
    "s3_input_test_url = s3_input_test.config['DataSource']['S3DataSource']['S3Uri']\n",
    "s3_input_test_url = os.path.join(s3_input_test_url, 'batch_transform_test.csv')\n",
    "print(s3_input_test_url)"
   ]
  },
  {
   "cell_type": "code",
   "execution_count": 27,
   "metadata": {},
   "outputs": [
    {
     "name": "stdout",
     "output_type": "stream",
     "text": [
      "2020-07-15 14:39:18      29043 sagemaker/customer-churn/rawtest/batch_transform_test.csv\n"
     ]
    }
   ],
   "source": [
    "! aws s3 ls {s3_input_test_url} --recursive"
   ]
  },
  {
   "cell_type": "code",
   "execution_count": 28,
   "metadata": {},
   "outputs": [],
   "source": [
    "\n",
    "transformer.transform(s3_input_test_url,\n",
    "                      content_type='text/csv'\n",
    "                     )\n",
    "\n"
   ]
  },
  {
   "cell_type": "code",
   "execution_count": 29,
   "metadata": {
    "collapsed": true,
    "jupyter": {
     "outputs_hidden": true
    }
   },
   "outputs": [
    {
     "name": "stdout",
     "output_type": "stream",
     "text": [
      "..........................\u001b[34mProcessing /opt/ml/code\u001b[0m\n",
      "\u001b[34mBuilding wheels for collected packages: preprocessing\n",
      "  Building wheel for preprocessing (setup.py): started\u001b[0m\n",
      "\u001b[35mProcessing /opt/ml/code\u001b[0m\n",
      "\u001b[35mBuilding wheels for collected packages: preprocessing\n",
      "  Building wheel for preprocessing (setup.py): started\u001b[0m\n",
      "\u001b[32mArguments: serve\u001b[0m\n",
      "\u001b[32m[2020-07-16 00:21:50 +0000] [1] [INFO] Starting gunicorn 19.7.1\u001b[0m\n",
      "\u001b[32m[2020-07-16 00:21:50 +0000] [1] [INFO] Listening at: http://0.0.0.0:8080 (1)\u001b[0m\n",
      "\u001b[32m[2020-07-16 00:21:50 +0000] [1] [INFO] Using worker: gevent\u001b[0m\n",
      "\u001b[32m[2020-07-16 00:21:50 +0000] [38] [INFO] Booting worker with pid: 38\u001b[0m\n",
      "\u001b[32m[2020-07-16 00:21:50 +0000] [39] [INFO] Booting worker with pid: 39\u001b[0m\n",
      "\u001b[32m[2020-07-16 00:21:50 +0000] [40] [INFO] Booting worker with pid: 40\u001b[0m\n",
      "\u001b[32m[2020-07-16 00:21:51 +0000] [41] [INFO] Booting worker with pid: 41\u001b[0m\n",
      "\u001b[32m[2020-07-16:00:21:51:INFO] Model loaded successfully for worker : 38\u001b[0m\n",
      "\u001b[32m[2020-07-16:00:21:51:INFO] Model loaded successfully for worker : 41\u001b[0m\n",
      "\u001b[32m[2020-07-16:00:21:51:INFO] Model loaded successfully for worker : 39\u001b[0m\n",
      "\u001b[32m[2020-07-16:00:21:51:INFO] Model loaded successfully for worker : 40\u001b[0m\n",
      "\u001b[36mProcessing /opt/ml/code\u001b[0m\n",
      "\u001b[36mBuilding wheels for collected packages: preprocessing\n",
      "  Building wheel for preprocessing (setup.py): started\n",
      "  Building wheel for preprocessing (setup.py): finished with status 'done'\n",
      "  Created wheel for preprocessing: filename=preprocessing-1.0.0-py2.py3-none-any.whl size=9701 sha256=bb362691b16376a85a3c4caa2efb1c1542ba23568c30d0bcc210357930e0d6ee\n",
      "  Stored in directory: /tmp/pip-ephem-wheel-cache-l2ea19qq/wheels/35/24/16/37574d11bf9bde50616c67372a334f94fa8356bc7164af8ca3\u001b[0m\n",
      "\u001b[36mSuccessfully built preprocessing\u001b[0m\n",
      "\u001b[34m  Building wheel for preprocessing (setup.py): finished with status 'done'\n",
      "  Created wheel for preprocessing: filename=preprocessing-1.0.0-py2.py3-none-any.whl size=9701 sha256=7e1ac068d00bca4feaeef1cf95108bb38e75066f1a5e160d8a7f4c3845ea6be6\n",
      "  Stored in directory: /tmp/pip-ephem-wheel-cache-0z4uneaf/wheels/35/24/16/37574d11bf9bde50616c67372a334f94fa8356bc7164af8ca3\u001b[0m\n",
      "\u001b[34mSuccessfully built preprocessing\u001b[0m\n",
      "\u001b[34mInstalling collected packages: preprocessing\u001b[0m\n",
      "\u001b[34mSuccessfully installed preprocessing-1.0.0\u001b[0m\n",
      "\u001b[35m  Building wheel for preprocessing (setup.py): finished with status 'done'\n",
      "  Created wheel for preprocessing: filename=preprocessing-1.0.0-py2.py3-none-any.whl size=9701 sha256=7e1ac068d00bca4feaeef1cf95108bb38e75066f1a5e160d8a7f4c3845ea6be6\n",
      "  Stored in directory: /tmp/pip-ephem-wheel-cache-0z4uneaf/wheels/35/24/16/37574d11bf9bde50616c67372a334f94fa8356bc7164af8ca3\u001b[0m\n",
      "\u001b[35mSuccessfully built preprocessing\u001b[0m\n",
      "\u001b[35mInstalling collected packages: preprocessing\u001b[0m\n",
      "\u001b[35mSuccessfully installed preprocessing-1.0.0\u001b[0m\n",
      "\u001b[36mInstalling collected packages: preprocessing\u001b[0m\n",
      "\u001b[36mSuccessfully installed preprocessing-1.0.0\u001b[0m\n",
      "\u001b[34m/miniconda3/lib/python3.7/site-packages/sklearn/externals/joblib/externals/cloudpickle/cloudpickle.py:47: DeprecationWarning: the imp module is deprecated in favour of importlib; see the module's documentation for alternative uses\n",
      "  import imp\u001b[0m\n",
      "\u001b[34m[2020-07-16 00:21:53 +0000] [39] [INFO] Starting gunicorn 19.9.0\u001b[0m\n",
      "\u001b[34m[2020-07-16 00:21:53 +0000] [39] [INFO] Listening at: unix:/tmp/gunicorn.sock (39)\u001b[0m\n",
      "\u001b[34m[2020-07-16 00:21:53 +0000] [39] [INFO] Using worker: gevent\u001b[0m\n",
      "\u001b[34m[2020-07-16 00:21:53 +0000] [42] [INFO] Booting worker with pid: 42\u001b[0m\n",
      "\u001b[34m[2020-07-16 00:21:53 +0000] [43] [INFO] Booting worker with pid: 43\u001b[0m\n",
      "\u001b[34m[2020-07-16 00:21:53 +0000] [47] [INFO] Booting worker with pid: 47\u001b[0m\n",
      "\u001b[34m[2020-07-16 00:21:53 +0000] [48] [INFO] Booting worker with pid: 48\u001b[0m\n",
      "\u001b[35m/miniconda3/lib/python3.7/site-packages/sklearn/externals/joblib/externals/cloudpickle/cloudpickle.py:47: DeprecationWarning: the imp module is deprecated in favour of importlib; see the module's documentation for alternative uses\n",
      "  import imp\u001b[0m\n",
      "\u001b[35m[2020-07-16 00:21:53 +0000] [39] [INFO] Starting gunicorn 19.9.0\u001b[0m\n",
      "\u001b[35m[2020-07-16 00:21:53 +0000] [39] [INFO] Listening at: unix:/tmp/gunicorn.sock (39)\u001b[0m\n",
      "\u001b[35m[2020-07-16 00:21:53 +0000] [39] [INFO] Using worker: gevent\u001b[0m\n",
      "\u001b[35m[2020-07-16 00:21:53 +0000] [42] [INFO] Booting worker with pid: 42\u001b[0m\n",
      "\u001b[35m[2020-07-16 00:21:53 +0000] [43] [INFO] Booting worker with pid: 43\u001b[0m\n",
      "\u001b[35m[2020-07-16 00:21:53 +0000] [47] [INFO] Booting worker with pid: 47\u001b[0m\n",
      "\u001b[35m[2020-07-16 00:21:53 +0000] [48] [INFO] Booting worker with pid: 48\u001b[0m\n",
      "\u001b[36m/miniconda3/lib/python3.7/site-packages/sklearn/externals/joblib/externals/cloudpickle/cloudpickle.py:47: DeprecationWarning: the imp module is deprecated in favour of importlib; see the module's documentation for alternative uses\n",
      "  import imp\u001b[0m\n",
      "\u001b[36m[2020-07-16 00:21:53 +0000] [36] [INFO] Starting gunicorn 19.9.0\u001b[0m\n",
      "\u001b[36m[2020-07-16 00:21:53 +0000] [36] [INFO] Listening at: unix:/tmp/gunicorn.sock (36)\u001b[0m\n",
      "\u001b[36m[2020-07-16 00:21:53 +0000] [36] [INFO] Using worker: gevent\u001b[0m\n",
      "\u001b[36m[2020-07-16 00:21:53 +0000] [39] [INFO] Booting worker with pid: 39\u001b[0m\n",
      "\u001b[36m[2020-07-16 00:21:53 +0000] [40] [INFO] Booting worker with pid: 40\u001b[0m\n",
      "\u001b[36m[2020-07-16 00:21:53 +0000] [44] [INFO] Booting worker with pid: 44\u001b[0m\n",
      "\u001b[36m[2020-07-16 00:21:53 +0000] [45] [INFO] Booting worker with pid: 45\u001b[0m\n",
      "\n",
      "\u001b[36m2020-07-16 00:21:59,124 INFO - sagemaker-containers - No GPUs detected (normal if no gpus installed)\u001b[0m\n",
      "\u001b[36m/miniconda3/lib/python3.7/site-packages/sklearn/externals/joblib/externals/cloudpickle/cloudpickle.py:47: DeprecationWarning: the imp module is deprecated in favour of importlib; see the module's documentation for alternative uses\n",
      "  import imp\u001b[0m\n",
      "\u001b[36m169.254.255.130 - - [16/Jul/2020:00:21:59 +0000] \"GET /ping HTTP/1.1\" 200 0 \"-\" \"Go-http-client/1.1\"\u001b[0m\n",
      "\u001b[36m2020-07-16 00:22:00,091 INFO - sagemaker-containers - No GPUs detected (normal if no gpus installed)\u001b[0m\n",
      "\u001b[36m/miniconda3/lib/python3.7/site-packages/sklearn/externals/joblib/externals/cloudpickle/cloudpickle.py:47: DeprecationWarning: the imp module is deprecated in favour of importlib; see the module's documentation for alternative uses\n",
      "  import imp\u001b[0m\n",
      "\u001b[36m169.254.255.130 - - [16/Jul/2020:00:22:00 +0000] \"GET /execution-parameters HTTP/1.1\" 404 232 \"-\" \"Go-http-client/1.1\"\u001b[0m\n",
      "\u001b[34m169.254.255.130 - - [16/Jul/2020:00:22:01 +0000] \"POST /invocations HTTP/1.1\" 200 149634 \"-\" \"Go-http-client/1.1\"\u001b[0m\n",
      "\u001b[35m169.254.255.130 - - [16/Jul/2020:00:22:01 +0000] \"POST /invocations HTTP/1.1\" 200 149634 \"-\" \"Go-http-client/1.1\"\u001b[0m\n",
      "\u001b[32m[2020-07-16:00:22:01:INFO] Sniff delimiter as ','\u001b[0m\n",
      "\u001b[32m[2020-07-16:00:22:01:INFO] Determined delimiter of CSV input is ','\u001b[0m\n",
      "\u001b[36m2020-07-16 00:22:01,119 INFO - sagemaker-containers - No GPUs detected (normal if no gpus installed)\u001b[0m\n",
      "\u001b[36m/miniconda3/lib/python3.7/site-packages/sklearn/externals/joblib/externals/cloudpickle/cloudpickle.py:47: DeprecationWarning: the imp module is deprecated in favour of importlib; see the module's documentation for alternative uses\n",
      "  import imp\u001b[0m\n",
      "\u001b[36m2020-07-16 00:22:01,589 INFO - root - Shape of the requested data: '(334, 1)'\u001b[0m\n",
      "\u001b[36m169.254.255.130 - - [16/Jul/2020:00:22:01 +0000] \"POST /invocations HTTP/1.1\" 200 1961 \"-\" \"Go-http-client/1.1\"\u001b[0m\n",
      "\u001b[33m2020-07-16T00:22:00.561:[sagemaker logs]: MaxConcurrentTransforms=1, MaxPayloadInMB=6, BatchStrategy=MULTI_RECORD\u001b[0m\n"
     ]
    }
   ],
   "source": [
    "transformer.wait()"
   ]
  },
  {
   "cell_type": "code",
   "execution_count": 30,
   "metadata": {},
   "outputs": [
    {
     "name": "stdout",
     "output_type": "stream",
     "text": [
      "2020-07-15 07:10:13       1961 sagemaker/customer-churn/output-transform-test/batch_transform_test.csv.out\n",
      "2020-07-16 00:22:02       1961 sagemaker/customer-churn/output/batch_transform_test.csv.out\n",
      "2020-07-15 06:40:43      34149 sagemaker/customer-churn/output/xgboost-2020-07-15-06-37-54-125/output/model.tar.gz\n",
      "2020-07-15 08:27:16      34148 sagemaker/customer-churn/output/xgboost-2020-07-15-08-24-03-185/output/model.tar.gz\n",
      "2020-07-15 09:30:57      34150 sagemaker/customer-churn/output/xgboost-2020-07-15-09-28-18-062/output/model.tar.gz\n",
      "2020-07-15 14:43:05      34148 sagemaker/customer-churn/output/xgboost-2020-07-15-14-39-57-529/output/model.tar.gz\n",
      "2020-07-16 00:16:00      34148 sagemaker/customer-churn/output/xgboost-2020-07-16-00-12-32-654/output/model.tar.gz\n"
     ]
    }
   ],
   "source": [
    "! aws s3 ls {output_path} --recursive"
   ]
  },
  {
   "cell_type": "code",
   "execution_count": 31,
   "metadata": {},
   "outputs": [
    {
     "name": "stdout",
     "output_type": "stream",
     "text": [
      "download: s3://sagemaker-us-east-2-057716757052/sagemaker/customer-churn/output/batch_transform_test.csv.out to output/batch_transform_test_output.csv\n"
     ]
    }
   ],
   "source": [
    "import os\n",
    "os.makedirs('output', exist_ok=True)\n",
    "\n",
    "! aws s3 cp {output_path}/batch_transform_test.csv.out 'output/batch_transform_test_output.csv'"
   ]
  },
  {
   "cell_type": "code",
   "execution_count": 32,
   "metadata": {},
   "outputs": [
    {
     "data": {
      "text/plain": [
       "False    291\n",
       "True      43\n",
       "Name: Churn, dtype: int64"
      ]
     },
     "execution_count": 32,
     "metadata": {},
     "output_type": "execute_result"
    }
   ],
   "source": [
    "\n",
    "df = pd.read_csv(\"output/batch_transform_test_output.csv\", names=[\"Churn\"])\n",
    "\n",
    "# print(df.info)\n",
    "# df\n",
    "\n",
    "df.Churn.value_counts()"
   ]
  },
  {
   "cell_type": "markdown",
   "metadata": {},
   "source": [
    "## 실제 데이타와 예측 결과 비교"
   ]
  },
  {
   "cell_type": "code",
   "execution_count": 33,
   "metadata": {},
   "outputs": [],
   "source": [
    "df_true = pd.read_csv(\"churn_data/batch_transform_test_true.csv\", header=None)\n",
    "df_true_label = df_true.iloc[:,-1]"
   ]
  },
  {
   "cell_type": "code",
   "execution_count": 34,
   "metadata": {},
   "outputs": [
    {
     "data": {
      "text/plain": [
       "False    286\n",
       "True      48\n",
       "Name: 20, dtype: int64"
      ]
     },
     "execution_count": 34,
     "metadata": {},
     "output_type": "execute_result"
    }
   ],
   "source": [
    "# Replace \"False.\" --> False, \"True.\" --> True\n",
    "def clean_raw_data(churn_raw):\n",
    "    df_churn = churn_raw.copy()\n",
    "#     df_churn = df_churn.replace({'Churn?': {'True.' : 'True', 'False.' : 'False'}})\n",
    "    df_churn = df_churn.replace({'True.' : True, 'False.' : False})\n",
    "    \n",
    "    return df_churn\n",
    "\n",
    "df_true = clean_raw_data(df_true_label)\n",
    "df_true.value_counts()"
   ]
  },
  {
   "cell_type": "code",
   "execution_count": 35,
   "metadata": {},
   "outputs": [
    {
     "data": {
      "text/html": [
       "<div>\n",
       "<style scoped>\n",
       "    .dataframe tbody tr th:only-of-type {\n",
       "        vertical-align: middle;\n",
       "    }\n",
       "\n",
       "    .dataframe tbody tr th {\n",
       "        vertical-align: top;\n",
       "    }\n",
       "\n",
       "    .dataframe thead th {\n",
       "        text-align: right;\n",
       "    }\n",
       "</style>\n",
       "<table border=\"1\" class=\"dataframe\">\n",
       "  <thead>\n",
       "    <tr style=\"text-align: right;\">\n",
       "      <th></th>\n",
       "      <th>y_actual</th>\n",
       "      <th>y_predict</th>\n",
       "    </tr>\n",
       "  </thead>\n",
       "  <tbody>\n",
       "    <tr>\n",
       "      <th>0</th>\n",
       "      <td>False</td>\n",
       "      <td>False</td>\n",
       "    </tr>\n",
       "    <tr>\n",
       "      <th>1</th>\n",
       "      <td>False</td>\n",
       "      <td>False</td>\n",
       "    </tr>\n",
       "    <tr>\n",
       "      <th>2</th>\n",
       "      <td>False</td>\n",
       "      <td>False</td>\n",
       "    </tr>\n",
       "  </tbody>\n",
       "</table>\n",
       "</div>"
      ],
      "text/plain": [
       "   y_actual  y_predict\n",
       "0     False      False\n",
       "1     False      False\n",
       "2     False      False"
      ]
     },
     "execution_count": 35,
     "metadata": {},
     "output_type": "execute_result"
    }
   ],
   "source": [
    "data = { 'y_actual' : df.Churn.to_list(),\n",
    "         'y_predict' : df_true.to_list()\n",
    "       }\n",
    "df_churn = pd.DataFrame(data, columns=['y_actual','y_predict' ])\n",
    "df_churn.head(3)"
   ]
  },
  {
   "cell_type": "code",
   "execution_count": 36,
   "metadata": {},
   "outputs": [
    {
     "data": {
      "text/html": [
       "<div>\n",
       "<style scoped>\n",
       "    .dataframe tbody tr th:only-of-type {\n",
       "        vertical-align: middle;\n",
       "    }\n",
       "\n",
       "    .dataframe tbody tr th {\n",
       "        vertical-align: top;\n",
       "    }\n",
       "\n",
       "    .dataframe thead th {\n",
       "        text-align: right;\n",
       "    }\n",
       "</style>\n",
       "<table border=\"1\" class=\"dataframe\">\n",
       "  <thead>\n",
       "    <tr style=\"text-align: right;\">\n",
       "      <th>Predict</th>\n",
       "      <th>False</th>\n",
       "      <th>True</th>\n",
       "    </tr>\n",
       "    <tr>\n",
       "      <th>Actual</th>\n",
       "      <th></th>\n",
       "      <th></th>\n",
       "    </tr>\n",
       "  </thead>\n",
       "  <tbody>\n",
       "    <tr>\n",
       "      <th>False</th>\n",
       "      <td>282</td>\n",
       "      <td>9</td>\n",
       "    </tr>\n",
       "    <tr>\n",
       "      <th>True</th>\n",
       "      <td>4</td>\n",
       "      <td>39</td>\n",
       "    </tr>\n",
       "  </tbody>\n",
       "</table>\n",
       "</div>"
      ],
      "text/plain": [
       "Predict  False  True \n",
       "Actual               \n",
       "False      282      9\n",
       "True         4     39"
      ]
     },
     "execution_count": 36,
     "metadata": {},
     "output_type": "execute_result"
    }
   ],
   "source": [
    "confusion_matrix = pd.crosstab(df_churn['y_actual'], \n",
    "                               df_churn['y_predict'], \n",
    "                               rownames=['Actual'],\n",
    "                               colnames=['Predict'])\n",
    "confusion_matrix"
   ]
  },
  {
   "cell_type": "code",
   "execution_count": 37,
   "metadata": {},
   "outputs": [
    {
     "name": "stdout",
     "output_type": "stream",
     "text": [
      "f1 metric:  0.8571428571428572\n",
      "precision :  0.8125\n",
      "recall_score :  0.9069767441860465\n",
      "accuracy:  0.9610778443113772\n"
     ]
    }
   ],
   "source": [
    "from sklearn.metrics import f1_score, precision_score, recall_score, accuracy_score\n",
    "print(\"f1 metric: \", f1_score(df_churn['y_actual'],df_churn['y_predict'] ))\n",
    "print(\"precision : \", precision_score(df_churn['y_actual'],df_churn['y_predict'] ))\n",
    "print(\"recall_score : \", recall_score(df_churn['y_actual'],df_churn['y_predict'] ))\n",
    "print(\"accuracy: \", accuracy_score(df_churn['y_actual'],df_churn['y_predict'] ))"
   ]
  },
  {
   "cell_type": "code",
   "execution_count": null,
   "metadata": {},
   "outputs": [],
   "source": []
  },
  {
   "cell_type": "code",
   "execution_count": null,
   "metadata": {},
   "outputs": [],
   "source": []
  }
 ],
 "metadata": {
  "kernelspec": {
   "display_name": "conda_pytorch_p36",
   "language": "python",
   "name": "conda_pytorch_p36"
  },
  "language_info": {
   "codemirror_mode": {
    "name": "ipython",
    "version": 3
   },
   "file_extension": ".py",
   "mimetype": "text/x-python",
   "name": "python",
   "nbconvert_exporter": "python",
   "pygments_lexer": "ipython3",
   "version": "3.6.10"
  }
 },
 "nbformat": 4,
 "nbformat_minor": 4
}
